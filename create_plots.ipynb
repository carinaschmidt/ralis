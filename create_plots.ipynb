{
 "cells": [
  {
   "cell_type": "code",
   "execution_count": 2,
   "metadata": {},
   "outputs": [],
   "source": [
    "import numpy as np\n",
    "import pandas as pd\n",
    "from matplotlib import pyplot as plt"
   ]
  },
  {
   "cell_type": "code",
   "execution_count": 3,
   "metadata": {},
   "outputs": [],
   "source": [
    "log_txt = '/mnt/qb/baumgartner/cschmidt77_data/ckpt_seg_new/2021-06-27-pretraining_acdc_lr_0.05_input_128_reg32_noscheduler_BESTSOFAR/log.txt'"
   ]
  },
  {
   "cell_type": "code",
   "execution_count": 4,
   "metadata": {},
   "outputs": [],
   "source": [
    "data = pd.read_csv(log_txt, delimiter = \"\\t\")"
   ]
  },
  {
   "cell_type": "code",
   "execution_count": 5,
   "metadata": {},
   "outputs": [
    {
     "data": {
      "text/html": "<div>\n<style scoped>\n    .dataframe tbody tr th:only-of-type {\n        vertical-align: middle;\n    }\n\n    .dataframe tbody tr th {\n        vertical-align: top;\n    }\n\n    .dataframe thead th {\n        text-align: right;\n    }\n</style>\n<table border=\"1\" class=\"dataframe\">\n  <thead>\n    <tr style=\"text-align: right;\">\n      <th></th>\n      <th>Epoch</th>\n      <th>Learning Rate</th>\n      <th>Train Loss</th>\n      <th>(deprecated)</th>\n      <th>Valid Loss</th>\n      <th>Train Acc.</th>\n      <th>Valid Acc.</th>\n      <th>Train mean iu</th>\n      <th>Valid mean iu</th>\n      <th>iu_cl0</th>\n      <th>iu_cl1</th>\n      <th>iu_cl2</th>\n      <th>iu_cl3</th>\n      <th>Unnamed: 13</th>\n    </tr>\n  </thead>\n  <tbody>\n    <tr>\n      <th>0</th>\n      <td>0.0</td>\n      <td>0.05</td>\n      <td>0.621988</td>\n      <td>0.0</td>\n      <td>0.343392</td>\n      <td>0.879752</td>\n      <td>0.921153</td>\n      <td>0.227351</td>\n      <td>0.244636</td>\n      <td>0.923426</td>\n      <td>0.000000</td>\n      <td>0.021421</td>\n      <td>0.033696</td>\n      <td>NaN</td>\n    </tr>\n    <tr>\n      <th>1</th>\n      <td>1.0</td>\n      <td>0.05</td>\n      <td>0.480598</td>\n      <td>0.0</td>\n      <td>0.232489</td>\n      <td>0.876103</td>\n      <td>0.964081</td>\n      <td>0.226662</td>\n      <td>0.241020</td>\n      <td>0.964081</td>\n      <td>0.000000</td>\n      <td>0.000000</td>\n      <td>0.000000</td>\n      <td>NaN</td>\n    </tr>\n    <tr>\n      <th>2</th>\n      <td>2.0</td>\n      <td>0.05</td>\n      <td>0.406539</td>\n      <td>0.0</td>\n      <td>0.190040</td>\n      <td>0.894522</td>\n      <td>0.964117</td>\n      <td>0.223631</td>\n      <td>0.241029</td>\n      <td>0.964117</td>\n      <td>0.000000</td>\n      <td>0.000000</td>\n      <td>0.000000</td>\n      <td>NaN</td>\n    </tr>\n    <tr>\n      <th>3</th>\n      <td>3.0</td>\n      <td>0.05</td>\n      <td>0.403026</td>\n      <td>0.0</td>\n      <td>0.183475</td>\n      <td>0.895372</td>\n      <td>0.964117</td>\n      <td>0.224218</td>\n      <td>0.241029</td>\n      <td>0.964117</td>\n      <td>0.000000</td>\n      <td>0.000000</td>\n      <td>0.000000</td>\n      <td>NaN</td>\n    </tr>\n    <tr>\n      <th>4</th>\n      <td>4.0</td>\n      <td>0.05</td>\n      <td>0.363067</td>\n      <td>0.0</td>\n      <td>0.142461</td>\n      <td>0.896070</td>\n      <td>0.964117</td>\n      <td>0.224039</td>\n      <td>0.241029</td>\n      <td>0.964117</td>\n      <td>0.000000</td>\n      <td>0.000000</td>\n      <td>0.000000</td>\n      <td>NaN</td>\n    </tr>\n    <tr>\n      <th>...</th>\n      <td>...</td>\n      <td>...</td>\n      <td>...</td>\n      <td>...</td>\n      <td>...</td>\n      <td>...</td>\n      <td>...</td>\n      <td>...</td>\n      <td>...</td>\n      <td>...</td>\n      <td>...</td>\n      <td>...</td>\n      <td>...</td>\n      <td>...</td>\n    </tr>\n    <tr>\n      <th>591</th>\n      <td>591.0</td>\n      <td>0.05</td>\n      <td>0.023206</td>\n      <td>0.0</td>\n      <td>0.010652</td>\n      <td>0.990287</td>\n      <td>0.995713</td>\n      <td>0.908119</td>\n      <td>0.892820</td>\n      <td>0.996931</td>\n      <td>0.853699</td>\n      <td>0.805168</td>\n      <td>0.915484</td>\n      <td>NaN</td>\n    </tr>\n    <tr>\n      <th>592</th>\n      <td>592.0</td>\n      <td>0.05</td>\n      <td>0.022106</td>\n      <td>0.0</td>\n      <td>0.010602</td>\n      <td>0.990671</td>\n      <td>0.995635</td>\n      <td>0.910846</td>\n      <td>0.889156</td>\n      <td>0.996916</td>\n      <td>0.847248</td>\n      <td>0.800180</td>\n      <td>0.912278</td>\n      <td>NaN</td>\n    </tr>\n    <tr>\n      <th>593</th>\n      <td>593.0</td>\n      <td>0.05</td>\n      <td>0.021429</td>\n      <td>0.0</td>\n      <td>0.011657</td>\n      <td>0.990898</td>\n      <td>0.995355</td>\n      <td>0.913799</td>\n      <td>0.881998</td>\n      <td>0.996825</td>\n      <td>0.848428</td>\n      <td>0.782949</td>\n      <td>0.899789</td>\n      <td>NaN</td>\n    </tr>\n    <tr>\n      <th>594</th>\n      <td>594.0</td>\n      <td>0.05</td>\n      <td>0.021363</td>\n      <td>0.0</td>\n      <td>0.013180</td>\n      <td>0.990953</td>\n      <td>0.994881</td>\n      <td>0.913348</td>\n      <td>0.872099</td>\n      <td>0.996251</td>\n      <td>0.799630</td>\n      <td>0.787897</td>\n      <td>0.904618</td>\n      <td>NaN</td>\n    </tr>\n    <tr>\n      <th>595</th>\n      <td>595.0</td>\n      <td>0.05</td>\n      <td>0.021055</td>\n      <td>0.0</td>\n      <td>0.012099</td>\n      <td>0.991109</td>\n      <td>0.995251</td>\n      <td>0.914575</td>\n      <td>0.881864</td>\n      <td>0.996569</td>\n      <td>0.834568</td>\n      <td>0.790553</td>\n      <td>0.905767</td>\n      <td>NaN</td>\n    </tr>\n  </tbody>\n</table>\n<p>596 rows × 14 columns</p>\n</div>",
      "text/plain": "     Epoch  Learning Rate  Train Loss  (deprecated)  Valid Loss  Train Acc.  \\\n0      0.0           0.05    0.621988           0.0    0.343392    0.879752   \n1      1.0           0.05    0.480598           0.0    0.232489    0.876103   \n2      2.0           0.05    0.406539           0.0    0.190040    0.894522   \n3      3.0           0.05    0.403026           0.0    0.183475    0.895372   \n4      4.0           0.05    0.363067           0.0    0.142461    0.896070   \n..     ...            ...         ...           ...         ...         ...   \n591  591.0           0.05    0.023206           0.0    0.010652    0.990287   \n592  592.0           0.05    0.022106           0.0    0.010602    0.990671   \n593  593.0           0.05    0.021429           0.0    0.011657    0.990898   \n594  594.0           0.05    0.021363           0.0    0.013180    0.990953   \n595  595.0           0.05    0.021055           0.0    0.012099    0.991109   \n\n     Valid Acc.  Train mean iu  Valid mean iu    iu_cl0    iu_cl1    iu_cl2  \\\n0      0.921153       0.227351       0.244636  0.923426  0.000000  0.021421   \n1      0.964081       0.226662       0.241020  0.964081  0.000000  0.000000   \n2      0.964117       0.223631       0.241029  0.964117  0.000000  0.000000   \n3      0.964117       0.224218       0.241029  0.964117  0.000000  0.000000   \n4      0.964117       0.224039       0.241029  0.964117  0.000000  0.000000   \n..          ...            ...            ...       ...       ...       ...   \n591    0.995713       0.908119       0.892820  0.996931  0.853699  0.805168   \n592    0.995635       0.910846       0.889156  0.996916  0.847248  0.800180   \n593    0.995355       0.913799       0.881998  0.996825  0.848428  0.782949   \n594    0.994881       0.913348       0.872099  0.996251  0.799630  0.787897   \n595    0.995251       0.914575       0.881864  0.996569  0.834568  0.790553   \n\n       iu_cl3  Unnamed: 13  \n0    0.033696          NaN  \n1    0.000000          NaN  \n2    0.000000          NaN  \n3    0.000000          NaN  \n4    0.000000          NaN  \n..        ...          ...  \n591  0.915484          NaN  \n592  0.912278          NaN  \n593  0.899789          NaN  \n594  0.904618          NaN  \n595  0.905767          NaN  \n\n[596 rows x 14 columns]"
     },
     "execution_count": 5,
     "metadata": {},
     "output_type": "execute_result"
    }
   ],
   "source": [
    "data"
   ]
  },
  {
   "cell_type": "code",
   "execution_count": 18,
   "metadata": {},
   "outputs": [
    {
     "data": {
      "text/plain": [
       "['Epoch',\n",
       " 'Learning Rate',\n",
       " 'Train Loss',\n",
       " '(deprecated)',\n",
       " 'Valid Loss',\n",
       " 'Train Acc.',\n",
       " 'Valid Acc.',\n",
       " 'Train mean iu',\n",
       " 'Valid mean iu',\n",
       " 'iu_cl0',\n",
       " 'iu_cl1',\n",
       " 'iu_cl2',\n",
       " 'iu_cl3',\n",
       " 'Unnamed: 13']"
      ]
     },
     "execution_count": 18,
     "metadata": {},
     "output_type": "execute_result"
    }
   ],
   "source": [
    "list(data.columns.values)"
   ]
  },
  {
   "cell_type": "code",
   "execution_count": 19,
   "metadata": {},
   "outputs": [
    {
     "data": {
      "text/html": "<div>\n<style scoped>\n    .dataframe tbody tr th:only-of-type {\n        vertical-align: middle;\n    }\n\n    .dataframe tbody tr th {\n        vertical-align: top;\n    }\n\n    .dataframe thead th {\n        text-align: right;\n    }\n</style>\n<table border=\"1\" class=\"dataframe\">\n  <thead>\n    <tr style=\"text-align: right;\">\n      <th></th>\n      <th>Train Loss</th>\n    </tr>\n  </thead>\n  <tbody>\n    <tr>\n      <th>0</th>\n      <td>0.621988</td>\n    </tr>\n    <tr>\n      <th>1</th>\n      <td>0.480598</td>\n    </tr>\n    <tr>\n      <th>2</th>\n      <td>0.406539</td>\n    </tr>\n    <tr>\n      <th>3</th>\n      <td>0.403026</td>\n    </tr>\n    <tr>\n      <th>4</th>\n      <td>0.363067</td>\n    </tr>\n    <tr>\n      <th>...</th>\n      <td>...</td>\n    </tr>\n    <tr>\n      <th>591</th>\n      <td>0.023206</td>\n    </tr>\n    <tr>\n      <th>592</th>\n      <td>0.022106</td>\n    </tr>\n    <tr>\n      <th>593</th>\n      <td>0.021429</td>\n    </tr>\n    <tr>\n      <th>594</th>\n      <td>0.021363</td>\n    </tr>\n    <tr>\n      <th>595</th>\n      <td>0.021055</td>\n    </tr>\n  </tbody>\n</table>\n<p>596 rows × 1 columns</p>\n</div>",
      "text/plain": [
       "     Train Loss\n",
       "0      0.621988\n",
       "1      0.480598\n",
       "2      0.406539\n",
       "3      0.403026\n",
       "4      0.363067\n",
       "..          ...\n",
       "591    0.023206\n",
       "592    0.022106\n",
       "593    0.021429\n",
       "594    0.021363\n",
       "595    0.021055\n",
       "\n",
       "[596 rows x 1 columns]"
      ]
     },
     "execution_count": 19,
     "metadata": {},
     "output_type": "execute_result"
    }
   ],
   "source": [
    "data[['Train Loss']]"
   ]
  },
  {
   "cell_type": "code",
   "execution_count": 20,
   "metadata": {},
   "outputs": [
    {
     "data": {
      "text/html": "<div>\n<style scoped>\n    .dataframe tbody tr th:only-of-type {\n        vertical-align: middle;\n    }\n\n    .dataframe tbody tr th {\n        vertical-align: top;\n    }\n\n    .dataframe thead th {\n        text-align: right;\n    }\n</style>\n<table border=\"1\" class=\"dataframe\">\n  <thead>\n    <tr style=\"text-align: right;\">\n      <th></th>\n      <th>Valid Loss</th>\n    </tr>\n  </thead>\n  <tbody>\n    <tr>\n      <th>0</th>\n      <td>0.343392</td>\n    </tr>\n    <tr>\n      <th>1</th>\n      <td>0.232489</td>\n    </tr>\n    <tr>\n      <th>2</th>\n      <td>0.190040</td>\n    </tr>\n    <tr>\n      <th>3</th>\n      <td>0.183475</td>\n    </tr>\n    <tr>\n      <th>4</th>\n      <td>0.142461</td>\n    </tr>\n    <tr>\n      <th>...</th>\n      <td>...</td>\n    </tr>\n    <tr>\n      <th>591</th>\n      <td>0.010652</td>\n    </tr>\n    <tr>\n      <th>592</th>\n      <td>0.010602</td>\n    </tr>\n    <tr>\n      <th>593</th>\n      <td>0.011657</td>\n    </tr>\n    <tr>\n      <th>594</th>\n      <td>0.013180</td>\n    </tr>\n    <tr>\n      <th>595</th>\n      <td>0.012099</td>\n    </tr>\n  </tbody>\n</table>\n<p>596 rows × 1 columns</p>\n</div>",
      "text/plain": [
       "     Valid Loss\n",
       "0      0.343392\n",
       "1      0.232489\n",
       "2      0.190040\n",
       "3      0.183475\n",
       "4      0.142461\n",
       "..          ...\n",
       "591    0.010652\n",
       "592    0.010602\n",
       "593    0.011657\n",
       "594    0.013180\n",
       "595    0.012099\n",
       "\n",
       "[596 rows x 1 columns]"
      ]
     },
     "execution_count": 20,
     "metadata": {},
     "output_type": "execute_result"
    }
   ],
   "source": [
    "data[['Valid Loss']]"
   ]
  },
  {
   "cell_type": "code",
   "execution_count": 3,
   "metadata": {},
   "outputs": [
    {
     "ename": "NameError",
     "evalue": "name 'data' is not defined",
     "output_type": "error",
     "traceback": [
      "\u001b[0;31m---------------------------------------------------------------------------\u001b[0m",
      "\u001b[0;31mNameError\u001b[0m                                 Traceback (most recent call last)",
      "\u001b[0;32m<ipython-input-3-8fe98af97921>\u001b[0m in \u001b[0;36m<module>\u001b[0;34m\u001b[0m\n\u001b[0;32m----> 1\u001b[0;31m \u001b[0mplt\u001b[0m\u001b[0;34m.\u001b[0m\u001b[0mplot\u001b[0m\u001b[0;34m(\u001b[0m\u001b[0mdata\u001b[0m\u001b[0;34m[\u001b[0m\u001b[0;34m[\u001b[0m\u001b[0;34m'Train Loss'\u001b[0m\u001b[0;34m]\u001b[0m\u001b[0;34m]\u001b[0m\u001b[0;34m)\u001b[0m\u001b[0;34m\u001b[0m\u001b[0;34m\u001b[0m\u001b[0m\n\u001b[0m\u001b[1;32m      2\u001b[0m \u001b[0mplt\u001b[0m\u001b[0;34m.\u001b[0m\u001b[0mplot\u001b[0m\u001b[0;34m(\u001b[0m\u001b[0mdata\u001b[0m\u001b[0;34m[\u001b[0m\u001b[0;34m[\u001b[0m\u001b[0;34m'Valid Loss'\u001b[0m\u001b[0;34m]\u001b[0m\u001b[0;34m]\u001b[0m\u001b[0;34m)\u001b[0m\u001b[0;34m\u001b[0m\u001b[0;34m\u001b[0m\u001b[0m\n\u001b[1;32m      3\u001b[0m \u001b[0mplt\u001b[0m\u001b[0;34m.\u001b[0m\u001b[0mtitle\u001b[0m\u001b[0;34m(\u001b[0m\u001b[0;34m'Train and Validation loss'\u001b[0m\u001b[0;34m)\u001b[0m\u001b[0;34m\u001b[0m\u001b[0;34m\u001b[0m\u001b[0m\n\u001b[1;32m      4\u001b[0m \u001b[0mplt\u001b[0m\u001b[0;34m.\u001b[0m\u001b[0mylabel\u001b[0m\u001b[0;34m(\u001b[0m\u001b[0;34m'loss'\u001b[0m\u001b[0;34m)\u001b[0m\u001b[0;34m\u001b[0m\u001b[0;34m\u001b[0m\u001b[0m\n\u001b[1;32m      5\u001b[0m \u001b[0mplt\u001b[0m\u001b[0;34m.\u001b[0m\u001b[0mxlabel\u001b[0m\u001b[0;34m(\u001b[0m\u001b[0;34m'epoch'\u001b[0m\u001b[0;34m)\u001b[0m\u001b[0;34m\u001b[0m\u001b[0;34m\u001b[0m\u001b[0m\n",
      "\u001b[0;31mNameError\u001b[0m: name 'data' is not defined"
     ]
    }
   ],
   "source": [
    "plt.plot(data[['Train Loss']])\n",
    "plt.plot(data[['Valid Loss']])\n",
    "plt.title('Train and Validation loss')\n",
    "plt.ylabel('loss')\n",
    "plt.xlabel('epoch')\n",
    "plt.legend(['train', 'val'], loc='upper left')\n",
    "plt.show()\n",
    "plt.savefig('/home/carina/Desktop/experiments/pretraining_alldata/train_val_loss' + log_txt)"
   ]
  },
  {
   "cell_type": "code",
   "execution_count": null,
   "metadata": {},
   "outputs": [],
   "source": [
    "#### analyzing loss of 2021-07-06-test-ralis-acdc_dt_seed123_lr__budget"
   ]
  },
  {
   "cell_type": "code",
   "execution_count": 4,
   "metadata": {},
   "outputs": [],
   "source": [
    "q_loss_txt = '/mnt/qb/baumgartner/cschmidt77_data/ckpt_seg_acdc/2021-07-06-train_ralis_acdc_DT_seed_123_budget__lr_0.001/q_loss.txt'"
   ]
  },
  {
   "cell_type": "code",
   "execution_count": 10,
   "metadata": {},
   "outputs": [],
   "source": [
    "q_loss = pd.read_csv(q_loss_txt)"
   ]
  },
  {
   "cell_type": "code",
   "execution_count": 15,
   "metadata": {},
   "outputs": [
    {
     "data": {
      "text/html": "<div>\n<style scoped>\n    .dataframe tbody tr th:only-of-type {\n        vertical-align: middle;\n    }\n\n    .dataframe tbody tr th {\n        vertical-align: top;\n    }\n\n    .dataframe thead th {\n        text-align: right;\n    }\n</style>\n<table border=\"1\" class=\"dataframe\">\n  <thead>\n    <tr style=\"text-align: right;\">\n      <th></th>\n      <th>1.673399</th>\n    </tr>\n  </thead>\n  <tbody>\n    <tr>\n      <th>0</th>\n      <td>0.095973</td>\n    </tr>\n    <tr>\n      <th>1</th>\n      <td>0.042709</td>\n    </tr>\n    <tr>\n      <th>2</th>\n      <td>0.746705</td>\n    </tr>\n    <tr>\n      <th>3</th>\n      <td>4.154349</td>\n    </tr>\n    <tr>\n      <th>4</th>\n      <td>3.744620</td>\n    </tr>\n    <tr>\n      <th>...</th>\n      <td>...</td>\n    </tr>\n    <tr>\n      <th>4794</th>\n      <td>0.385445</td>\n    </tr>\n    <tr>\n      <th>4795</th>\n      <td>0.524006</td>\n    </tr>\n    <tr>\n      <th>4796</th>\n      <td>0.471203</td>\n    </tr>\n    <tr>\n      <th>4797</th>\n      <td>0.115334</td>\n    </tr>\n    <tr>\n      <th>4798</th>\n      <td>0.293241</td>\n    </tr>\n  </tbody>\n</table>\n<p>4799 rows × 1 columns</p>\n</div>",
      "text/plain": "      1.673399\n0     0.095973\n1     0.042709\n2     0.746705\n3     4.154349\n4     3.744620\n...        ...\n4794  0.385445\n4795  0.524006\n4796  0.471203\n4797  0.115334\n4798  0.293241\n\n[4799 rows x 1 columns]"
     },
     "execution_count": 15,
     "metadata": {},
     "output_type": "execute_result"
    }
   ],
   "source": [
    "q_loss"
   ]
  },
  {
   "cell_type": "code",
   "execution_count": 16,
   "metadata": {},
   "outputs": [
    {
     "data": {
      "image/png": "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\n",
      "text/plain": "<Figure size 432x288 with 1 Axes>"
     },
     "metadata": {
      "needs_background": "light"
     },
     "output_type": "display_data"
    }
   ],
   "source": [
    "plt.plot(q_loss)\n",
    "plt.title('Q-loss')\n",
    "plt.ylabel('loss')\n",
    "plt.xlabel('episodes')\n",
    "plt.show()\n",
   ]
  },
  {
   "cell_type": "code",
   "execution_count": null,
   "metadata": {},
   "outputs": [],
   "source": []
  }
 ],
 "metadata": {
  "kernelspec": {
   "display_name": "Python 3",
   "language": "python",
   "name": "python3"
  },
  "language_info": {
   "codemirror_mode": {
    "name": "ipython",
    "version": 3
   },
   "file_extension": ".py",
   "mimetype": "text/x-python",
   "name": "python",
   "nbconvert_exporter": "python",
   "pygments_lexer": "ipython3",
   "version": "3.8.10"
  },
  "metadata": {
   "interpreter": {
    "hash": "31f2aee4e71d21fbe5cf8b01ff0e069b9275f58929596ceb00d14d90e3e16cd6"
   }
  },
  "orig_nbformat": 2
 },
 "nbformat": 4,
 "nbformat_minor": 2
}