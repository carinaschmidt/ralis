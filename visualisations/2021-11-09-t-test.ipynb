{
 "cells": [
  {
   "cell_type": "code",
   "execution_count": 31,
   "id": "deab2946",
   "metadata": {},
   "outputs": [],
   "source": [
    "from scipy.stats import ttest_ind_from_stats\n",
    "import numpy as np\n",
    "import matplotlib.pyplot as plt\n",
    "import seaborn as sns\n",
    "import pandas as pd"
   ]
  },
  {
   "cell_type": "markdown",
   "id": "2e9e0ee6",
   "metadata": {},
   "source": [
    "T-test for means of two independent samples from descriptive statistics.\n",
    "This is a two-sided test for the null hypothesis that two independent samples have identical average (expected) values"
   ]
  },
  {
   "cell_type": "code",
   "execution_count": 32,
   "id": "fa32fa6b",
   "metadata": {},
   "outputs": [],
   "source": [
    "ralis_means = np.array([0.538, 0.666, 0.806, 0.860, 0.876, 0.885, 0.903, 0.909, 0.909])"
   ]
  },
  {
   "cell_type": "code",
   "execution_count": 33,
   "id": "f9be7d8c",
   "metadata": {},
   "outputs": [],
   "source": [
    "ralis_std = np.array([0.167, 0.036, 0.013, 0.008, 0.011, 0.007, 0.004, 0.002, 0.004])"
   ]
  },
  {
   "cell_type": "code",
   "execution_count": 34,
   "id": "4a7692eb",
   "metadata": {},
   "outputs": [],
   "source": [
    "bald_means = np.array([0.601, 0.697, 0.823, 0.859, 0.873, 0.882, 0.900, 0.909, 0.909])"
   ]
  },
  {
   "cell_type": "code",
   "execution_count": 35,
   "id": "acb1c2a3",
   "metadata": {},
   "outputs": [],
   "source": [
    "bald_std = np.array([0.105, 0.073, 0.018, 0.011, 0.014, 0.012, 0.005, 0.002, 0.004])"
   ]
  },
  {
   "cell_type": "code",
   "execution_count": 36,
   "id": "62e87e1a",
   "metadata": {},
   "outputs": [],
   "source": [
    "entropy_mean = np.array([0.383, 0.610, 0.819, 0.840, 0.860, 0.878, 0.890, 0.908, 0.913])\n",
    "entropy_std = np.array([0.158, 0.064, 0.018, 0.027, 0.014, 0.005, 0.011, 0.002, 0.002])\n"
   ]
  },
  {
   "cell_type": "code",
   "execution_count": 37,
   "id": "6470ca2f",
   "metadata": {},
   "outputs": [],
   "source": [
    "budget = [64, 128, 592, 960, 1184, 1424, 1904, 2384, 3568]"
   ]
  },
  {
   "cell_type": "code",
   "execution_count": 38,
   "id": "7dd1be46",
   "metadata": {},
   "outputs": [],
   "source": [
    "pd.options.display.float_format = \"{:,.3f}\".format"
   ]
  },
  {
   "cell_type": "code",
   "execution_count": 40,
   "id": "70900356",
   "metadata": {},
   "outputs": [],
   "source": [
    "ttest_ralis_bald_result = ttest_ind_from_stats(mean1=ralis_means, std1=ralis_std, nobs1=9, mean2=bald_means, std2=bald_std, nobs2=9, equal_var=True)"
   ]
  },
  {
   "cell_type": "code",
   "execution_count": 41,
   "id": "0761369f",
   "metadata": {},
   "outputs": [
    {
     "data": {
      "text/plain": [
       "Ttest_indResult(statistic=array([-0.95809565, -1.14258892, -2.29692448,  0.22056439,  0.50549036,\n",
       "        0.64783418,  1.40556386,  0.        ,  0.        ]), pvalue=array([0.35226923, 0.27001951, 0.03545922, 0.82822148, 0.6201067 ,\n",
       "       0.52627999, 0.17897433, 1.        , 1.        ]))"
      ]
     },
     "execution_count": 41,
     "metadata": {},
     "output_type": "execute_result"
    }
   ],
   "source": [
    "ttest_ralis_bald_result "
   ]
  },
  {
   "cell_type": "code",
   "execution_count": 42,
   "id": "302bcbbd",
   "metadata": {},
   "outputs": [],
   "source": [
    "ttest_ralis_entropy_result = ttest_ind_from_stats(mean1=ralis_means, std1=ralis_std, nobs1=9, mean2=entropy_mean, std2=entropy_std, nobs2=9, equal_var=False)"
   ]
  },
  {
   "cell_type": "code",
   "execution_count": 43,
   "id": "a601f9e3",
   "metadata": {},
   "outputs": [
    {
     "data": {
      "text/plain": [
       "Ttest_indResult(statistic=array([ 2.02263786,  2.28788578, -1.75647166,  2.13066247,  2.69594859,\n",
       "        2.44120041,  3.33199487,  1.06066017, -2.68328157]), pvalue=array([0.06020759, 0.04012386, 0.10001028, 0.06069502, 0.01648172,\n",
       "       0.02802193, 0.00751178, 0.30459362, 0.02021392]))"
      ]
     },
     "execution_count": 43,
     "metadata": {},
     "output_type": "execute_result"
    }
   ],
   "source": [
    "ttest_ralis_entropy_result"
   ]
  },
  {
   "cell_type": "code",
   "execution_count": 44,
   "id": "e024cb6d",
   "metadata": {
    "scrolled": true
   },
   "outputs": [
    {
     "name": "stdout",
     "output_type": "stream",
     "text": [
      "Accept null hypothesis that the means are equal.\n",
      "Accept null hypothesis that the means are equal.\n",
      "Accept null hypothesis that the means are equal.\n",
      "Accept null hypothesis that the means are equal.\n",
      "Accept null hypothesis that the means are equal.\n",
      "Accept null hypothesis that the means are equal.\n",
      "Reject the null hypothesis that the means are equal.\n",
      "Accept null hypothesis that the means are equal.\n",
      "Accept null hypothesis that the means are equal.\n"
     ]
    }
   ],
   "source": [
    "alpha = 0.01\n",
    "for p in ttest_ralis_entropy_result[1]:\n",
    "    if p > alpha:\n",
    "        print('Accept null hypothesis that the means are equal.')\n",
    "    else:\n",
    "        print('Reject the null hypothesis that the means are equal.')"
   ]
  },
  {
   "cell_type": "code",
   "execution_count": 45,
   "id": "0f6adc92",
   "metadata": {},
   "outputs": [
    {
     "ename": "NameError",
     "evalue": "name 'ttest_result' is not defined",
     "output_type": "error",
     "traceback": [
      "\u001b[0;31m---------------------------------------------------------------------------\u001b[0m",
      "\u001b[0;31mNameError\u001b[0m                                 Traceback (most recent call last)",
      "\u001b[0;32m<ipython-input-45-df9f27b8f54a>\u001b[0m in \u001b[0;36m<module>\u001b[0;34m\u001b[0m\n\u001b[0;32m----> 1\u001b[0;31m \u001b[0mt_statistics\u001b[0m \u001b[0;34m=\u001b[0m \u001b[0mttest_result\u001b[0m\u001b[0;34m[\u001b[0m\u001b[0;36m0\u001b[0m\u001b[0;34m]\u001b[0m\u001b[0;34m\u001b[0m\u001b[0;34m\u001b[0m\u001b[0m\n\u001b[0m",
      "\u001b[0;31mNameError\u001b[0m: name 'ttest_result' is not defined"
     ]
    }
   ],
   "source": [
    "t_statistics = ttest_result[0]"
   ]
  },
  {
   "cell_type": "code",
   "execution_count": 46,
   "id": "61303d76",
   "metadata": {},
   "outputs": [
    {
     "ename": "NameError",
     "evalue": "name 'ttest_result' is not defined",
     "output_type": "error",
     "traceback": [
      "\u001b[0;31m---------------------------------------------------------------------------\u001b[0m",
      "\u001b[0;31mNameError\u001b[0m                                 Traceback (most recent call last)",
      "\u001b[0;32m<ipython-input-46-0272bd07c779>\u001b[0m in \u001b[0;36m<module>\u001b[0;34m\u001b[0m\n\u001b[0;32m----> 1\u001b[0;31m \u001b[0mp_values\u001b[0m \u001b[0;34m=\u001b[0m \u001b[0mttest_result\u001b[0m\u001b[0;34m[\u001b[0m\u001b[0;36m1\u001b[0m\u001b[0;34m]\u001b[0m\u001b[0;34m\u001b[0m\u001b[0;34m\u001b[0m\u001b[0m\n\u001b[0m",
      "\u001b[0;31mNameError\u001b[0m: name 'ttest_result' is not defined"
     ]
    }
   ],
   "source": [
    "p_values = ttest_result[1]"
   ]
  },
  {
   "cell_type": "code",
   "execution_count": 17,
   "id": "dfd768af",
   "metadata": {},
   "outputs": [],
   "source": [
    "alpha = 0.05"
   ]
  },
  {
   "cell_type": "code",
   "execution_count": 18,
   "id": "944433fd",
   "metadata": {},
   "outputs": [
    {
     "name": "stdout",
     "output_type": "stream",
     "text": [
      "Accept null hypothesis that the means are equal.\n",
      "Accept null hypothesis that the means are equal.\n",
      "Reject the null hypothesis that the means are equal.\n",
      "Accept null hypothesis that the means are equal.\n",
      "Accept null hypothesis that the means are equal.\n",
      "Accept null hypothesis that the means are equal.\n",
      "Accept null hypothesis that the means are equal.\n",
      "Accept null hypothesis that the means are equal.\n",
      "Accept null hypothesis that the means are equal.\n"
     ]
    }
   ],
   "source": [
    "for p in ttest_ralis_bald_result[1]:\n",
    "    if p > alpha:\n",
    "        print('Accept null hypothesis that the means are equal.')\n",
    "    else:\n",
    "        print('Reject the null hypothesis that the means are equal.')"
   ]
  },
  {
   "cell_type": "code",
   "execution_count": null,
   "id": "02696f9a",
   "metadata": {},
   "outputs": [],
   "source": [
    "budget"
   ]
  },
  {
   "cell_type": "code",
   "execution_count": null,
   "id": "4f690319",
   "metadata": {},
   "outputs": [],
   "source": [
    "budget = np.array(budget)"
   ]
  },
  {
   "cell_type": "code",
   "execution_count": null,
   "id": "0272038b",
   "metadata": {},
   "outputs": [],
   "source": [
    "ttest_ralis_bald_t = np.array(ttest_ralis_bald_result[0])"
   ]
  },
  {
   "cell_type": "code",
   "execution_count": null,
   "id": "ea87193d",
   "metadata": {},
   "outputs": [],
   "source": [
    "ttest_ralis_bald_t  =pd.DataFrame(ttest_ralis_bald_t)"
   ]
  },
  {
   "cell_type": "code",
   "execution_count": null,
   "id": "ff2b9fa9",
   "metadata": {},
   "outputs": [],
   "source": [
    "ttest_ralis_bald_p = np.array(ttest_ralis_bald_result[1])\n",
    "ttest_ralis_bald_p = pd.DataFrame(ttest_ralis_bald_p)"
   ]
  },
  {
   "cell_type": "code",
   "execution_count": null,
   "id": "d89700ce",
   "metadata": {},
   "outputs": [],
   "source": [
    "frames = [ttest_ralis_bald_t, ttest_ralis_bald_p]"
   ]
  },
  {
   "cell_type": "code",
   "execution_count": null,
   "id": "082fa8fa",
   "metadata": {},
   "outputs": [],
   "source": [
    "ttest_ralis_bald_p.values"
   ]
  },
  {
   "cell_type": "code",
   "execution_count": null,
   "id": "43648e3e",
   "metadata": {},
   "outputs": [],
   "source": [
    "result = pd.concat(frames)"
   ]
  },
  {
   "cell_type": "code",
   "execution_count": null,
   "id": "22995216",
   "metadata": {},
   "outputs": [],
   "source": [
    "result"
   ]
  },
  {
   "cell_type": "code",
   "execution_count": null,
   "id": "c51553b2",
   "metadata": {},
   "outputs": [],
   "source": [
    "pd.DataFrame(ttest_ralis_bald_t, ttest_ralis_bald_p, columns=['64', '128', '592', '960', '1184', '1424', '1904', '2384', '3568'])"
   ]
  },
  {
   "cell_type": "code",
   "execution_count": null,
   "id": "6f0fadaf",
   "metadata": {},
   "outputs": [],
   "source": [
    "df_budget = pd.DataFrame(lst)"
   ]
  },
  {
   "cell_type": "code",
   "execution_count": null,
   "id": "f6905bda",
   "metadata": {},
   "outputs": [],
   "source": [
    "plt.plot(t_statistics)"
   ]
  },
  {
   "cell_type": "code",
   "execution_count": null,
   "id": "532bfeb1",
   "metadata": {},
   "outputs": [],
   "source": [
    "plt.plot(p_values)"
   ]
  },
  {
   "cell_type": "code",
   "execution_count": null,
   "id": "7d7134e5",
   "metadata": {},
   "outputs": [],
   "source": [
    "from scipy import stats"
   ]
  },
  {
   "cell_type": "code",
   "execution_count": null,
   "id": "6d47bd00",
   "metadata": {},
   "outputs": [],
   "source": [
    "stats.shapiro(ralis_means)"
   ]
  },
  {
   "cell_type": "code",
   "execution_count": null,
   "id": "13b5e259",
   "metadata": {},
   "outputs": [],
   "source": [
    "stats.wilcoxon(ralis_means,bald_means)"
   ]
  },
  {
   "cell_type": "code",
   "execution_count": null,
   "id": "b1b479cb",
   "metadata": {},
   "outputs": [],
   "source": []
  },
  {
   "cell_type": "code",
   "execution_count": null,
   "id": "dfa60a8d",
   "metadata": {},
   "outputs": [],
   "source": []
  }
 ],
 "metadata": {
  "kernelspec": {
   "display_name": "Python 3",
   "language": "python",
   "name": "python3"
  },
  "language_info": {
   "codemirror_mode": {
    "name": "ipython",
    "version": 3
   },
   "file_extension": ".py",
   "mimetype": "text/x-python",
   "name": "python",
   "nbconvert_exporter": "python",
   "pygments_lexer": "ipython3",
   "version": "3.8.10"
  }
 },
 "nbformat": 4,
 "nbformat_minor": 5
}
