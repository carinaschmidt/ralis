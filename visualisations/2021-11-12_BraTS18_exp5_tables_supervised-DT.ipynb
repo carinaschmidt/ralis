{
 "cells": [
  {
   "cell_type": "code",
   "execution_count": 1,
   "id": "0cf0fa43",
   "metadata": {},
   "outputs": [],
   "source": [
    "import numpy as np\n",
    "import pandas as pd\n",
    "import os\n",
    "import matplotlib.pyplot as plt"
   ]
  },
  {
   "cell_type": "code",
   "execution_count": 2,
   "id": "3200de99",
   "metadata": {},
   "outputs": [],
   "source": [
    "# read log file baselines and ralis"
   ]
  },
  {
   "cell_type": "code",
   "execution_count": 3,
   "id": "b15ec2d3",
   "metadata": {},
   "outputs": [],
   "source": [
    "# path to logs\n",
    "path = '/mnt/qb/baumgartner/cschmidt77_data/_FINAL_brats18_exp6/'"
   ]
  },
  {
   "cell_type": "code",
   "execution_count": 4,
   "id": "be30fb40",
   "metadata": {},
   "outputs": [],
   "source": [
    "exp_6_brats = os.listdir(path)"
   ]
  },
  {
   "cell_type": "code",
   "execution_count": 5,
   "id": "d46b7d2a",
   "metadata": {},
   "outputs": [
    {
     "data": {
      "text/plain": [
       "['2021-10-20-supervised-brats18-allPatients_RIRD_ImageNetBackbone_lr0.001_123',\n",
       " '2021-10-20-supervised-brats18-allPatients_RIRD_ImageNetBackbone_lr0.001_20',\n",
       " '2021-10-20-supervised-brats18-allPatients_RIRD_ImageNetBackbone_lr0.001_234',\n",
       " '2021-10-20-supervised-brats18-allPatients_RIRD_ImageNetBackbone_lr0.001_55',\n",
       " '2021-10-20-supervised-brats18-allPatients_RIRD_ImageNetBackbone_lr0.001_77',\n",
       " '2021-10-20-supervised-brats18-allPatients_RIRD_ImageNetBackbone_lr0.01_123',\n",
       " '2021-10-20-supervised-brats18-allPatients_RIRD_ImageNetBackbone_lr0.01_20',\n",
       " '2021-10-20-supervised-brats18-allPatients_RIRD_ImageNetBackbone_lr0.01_234',\n",
       " '2021-10-20-supervised-brats18-allPatients_RIRD_ImageNetBackbone_lr0.01_55',\n",
       " '2021-10-20-supervised-brats18-allPatients_RIRD_ImageNetBackbone_lr0.01_77',\n",
       " '2021-10-20-supervised-brats18-allPatients_RIRD_ImageNetBackbone_lr0.05_123',\n",
       " '2021-10-20-supervised-brats18-allPatients_RIRD_ImageNetBackbone_lr0.05_20',\n",
       " '2021-10-20-supervised-brats18-allPatients_RIRD_ImageNetBackbone_lr0.05_234',\n",
       " '2021-10-20-supervised-brats18-allPatients_RIRD_ImageNetBackbone_lr0.05_55',\n",
       " '2021-10-20-supervised-brats18-allPatients_RIRD_ImageNetBackbone_lr0.05_77',\n",
       " '2021-10-20-supervised-brats18-allPatients_stdAug_ImageNetBackbone_lr0.001_123',\n",
       " '2021-10-20-supervised-brats18-allPatients_stdAug_ImageNetBackbone_lr0.001_20',\n",
       " '2021-10-20-supervised-brats18-allPatients_stdAug_ImageNetBackbone_lr0.001_234',\n",
       " '2021-10-20-supervised-brats18-allPatients_stdAug_ImageNetBackbone_lr0.001_55',\n",
       " '2021-10-20-supervised-brats18-allPatients_stdAug_ImageNetBackbone_lr0.001_77',\n",
       " '2021-10-20-supervised-brats18-allPatients_stdAug_ImageNetBackbone_lr0.01_77',\n",
       " '2021-10-20-supervised-brats18-allPatients_stdAug_ImageNetBackbone_lr0.05_77',\n",
       " '2021-11-04-brats18_ImageNetBackbone_baseline_bald_budget_17792_seed_123',\n",
       " '2021-11-04-brats18_ImageNetBackbone_baseline_bald_budget_17792_seed_20',\n",
       " '2021-11-04-brats18_ImageNetBackbone_baseline_bald_budget_17792_seed_234',\n",
       " '2021-11-04-brats18_ImageNetBackbone_baseline_bald_budget_17792_seed_55',\n",
       " '2021-11-04-brats18_ImageNetBackbone_baseline_bald_budget_17792_seed_77',\n",
       " '2021-11-04-brats18_ImageNetBackbone_baseline_bald_budget_1792_seed_123',\n",
       " '2021-11-04-brats18_ImageNetBackbone_baseline_bald_budget_1792_seed_20',\n",
       " '2021-11-04-brats18_ImageNetBackbone_baseline_bald_budget_1792_seed_234',\n",
       " '2021-11-04-brats18_ImageNetBackbone_baseline_bald_budget_1792_seed_55',\n",
       " '2021-11-04-brats18_ImageNetBackbone_baseline_bald_budget_1792_seed_77',\n",
       " '2021-11-04-brats18_ImageNetBackbone_baseline_bald_budget_3584_seed_123',\n",
       " '2021-11-04-brats18_ImageNetBackbone_baseline_bald_budget_3584_seed_20',\n",
       " '2021-11-04-brats18_ImageNetBackbone_baseline_bald_budget_3584_seed_234',\n",
       " '2021-11-04-brats18_ImageNetBackbone_baseline_bald_budget_3584_seed_55',\n",
       " '2021-11-04-brats18_ImageNetBackbone_baseline_bald_budget_3584_seed_77',\n",
       " '2021-11-04-brats18_ImageNetBackbone_baseline_bald_budget_384_seed_123',\n",
       " '2021-11-04-brats18_ImageNetBackbone_baseline_bald_budget_384_seed_20',\n",
       " '2021-11-04-brats18_ImageNetBackbone_baseline_bald_budget_384_seed_234',\n",
       " '2021-11-04-brats18_ImageNetBackbone_baseline_bald_budget_384_seed_55',\n",
       " '2021-11-04-brats18_ImageNetBackbone_baseline_bald_budget_384_seed_77',\n",
       " '2021-11-04-brats18_ImageNetBackbone_baseline_bald_budget_64_seed_123',\n",
       " '2021-11-04-brats18_ImageNetBackbone_baseline_bald_budget_64_seed_20',\n",
       " '2021-11-04-brats18_ImageNetBackbone_baseline_bald_budget_64_seed_234',\n",
       " '2021-11-04-brats18_ImageNetBackbone_baseline_bald_budget_64_seed_55',\n",
       " '2021-11-04-brats18_ImageNetBackbone_baseline_bald_budget_64_seed_77',\n",
       " '2021-11-04-brats18_ImageNetBackbone_baseline_entropy_budget_17792_seed_123',\n",
       " '2021-11-04-brats18_ImageNetBackbone_baseline_entropy_budget_17792_seed_20',\n",
       " '2021-11-04-brats18_ImageNetBackbone_baseline_entropy_budget_17792_seed_234',\n",
       " '2021-11-04-brats18_ImageNetBackbone_baseline_entropy_budget_17792_seed_55',\n",
       " '2021-11-04-brats18_ImageNetBackbone_baseline_entropy_budget_17792_seed_77',\n",
       " '2021-11-04-brats18_ImageNetBackbone_baseline_entropy_budget_1792_seed_123',\n",
       " '2021-11-04-brats18_ImageNetBackbone_baseline_entropy_budget_1792_seed_20',\n",
       " '2021-11-04-brats18_ImageNetBackbone_baseline_entropy_budget_1792_seed_234',\n",
       " '2021-11-04-brats18_ImageNetBackbone_baseline_entropy_budget_1792_seed_55',\n",
       " '2021-11-04-brats18_ImageNetBackbone_baseline_entropy_budget_1792_seed_77',\n",
       " '2021-11-04-brats18_ImageNetBackbone_baseline_entropy_budget_3584_seed_123',\n",
       " '2021-11-04-brats18_ImageNetBackbone_baseline_entropy_budget_3584_seed_20',\n",
       " '2021-11-04-brats18_ImageNetBackbone_baseline_entropy_budget_3584_seed_234',\n",
       " '2021-11-04-brats18_ImageNetBackbone_baseline_entropy_budget_3584_seed_55',\n",
       " '2021-11-04-brats18_ImageNetBackbone_baseline_entropy_budget_3584_seed_77',\n",
       " '2021-11-04-brats18_ImageNetBackbone_baseline_entropy_budget_384_seed_123',\n",
       " '2021-11-04-brats18_ImageNetBackbone_baseline_entropy_budget_384_seed_20',\n",
       " '2021-11-04-brats18_ImageNetBackbone_baseline_entropy_budget_384_seed_234',\n",
       " '2021-11-04-brats18_ImageNetBackbone_baseline_entropy_budget_384_seed_55',\n",
       " '2021-11-04-brats18_ImageNetBackbone_baseline_entropy_budget_384_seed_77',\n",
       " '2021-11-04-brats18_ImageNetBackbone_baseline_entropy_budget_64_seed_123',\n",
       " '2021-11-04-brats18_ImageNetBackbone_baseline_entropy_budget_64_seed_20',\n",
       " '2021-11-04-brats18_ImageNetBackbone_baseline_entropy_budget_64_seed_234',\n",
       " '2021-11-04-brats18_ImageNetBackbone_baseline_entropy_budget_64_seed_55',\n",
       " '2021-11-04-brats18_ImageNetBackbone_baseline_entropy_budget_64_seed_77',\n",
       " '2021-11-04-brats18_ImageNetBackbone_baseline_ralis_budget_17792_seed_123',\n",
       " '2021-11-04-brats18_ImageNetBackbone_baseline_ralis_budget_17792_seed_20',\n",
       " '2021-11-04-brats18_ImageNetBackbone_baseline_ralis_budget_17792_seed_234',\n",
       " '2021-11-04-brats18_ImageNetBackbone_baseline_ralis_budget_17792_seed_55',\n",
       " '2021-11-04-brats18_ImageNetBackbone_baseline_ralis_budget_17792_seed_77',\n",
       " '2021-11-04-brats18_ImageNetBackbone_baseline_ralis_budget_1792_seed_123',\n",
       " '2021-11-04-brats18_ImageNetBackbone_baseline_ralis_budget_1792_seed_20',\n",
       " '2021-11-04-brats18_ImageNetBackbone_baseline_ralis_budget_1792_seed_234',\n",
       " '2021-11-04-brats18_ImageNetBackbone_baseline_ralis_budget_1792_seed_55',\n",
       " '2021-11-04-brats18_ImageNetBackbone_baseline_ralis_budget_1792_seed_77',\n",
       " '2021-11-04-brats18_ImageNetBackbone_baseline_ralis_budget_3584_seed_123',\n",
       " '2021-11-04-brats18_ImageNetBackbone_baseline_ralis_budget_3584_seed_20',\n",
       " '2021-11-04-brats18_ImageNetBackbone_baseline_ralis_budget_3584_seed_234',\n",
       " '2021-11-04-brats18_ImageNetBackbone_baseline_ralis_budget_3584_seed_55',\n",
       " '2021-11-04-brats18_ImageNetBackbone_baseline_ralis_budget_3584_seed_77',\n",
       " '2021-11-04-brats18_ImageNetBackbone_baseline_ralis_budget_384_seed_123',\n",
       " '2021-11-04-brats18_ImageNetBackbone_baseline_ralis_budget_384_seed_20',\n",
       " '2021-11-04-brats18_ImageNetBackbone_baseline_ralis_budget_384_seed_234',\n",
       " '2021-11-04-brats18_ImageNetBackbone_baseline_ralis_budget_384_seed_55',\n",
       " '2021-11-04-brats18_ImageNetBackbone_baseline_ralis_budget_384_seed_77',\n",
       " '2021-11-04-brats18_ImageNetBackbone_baseline_ralis_budget_64_seed_123',\n",
       " '2021-11-04-brats18_ImageNetBackbone_baseline_ralis_budget_64_seed_20',\n",
       " '2021-11-04-brats18_ImageNetBackbone_baseline_ralis_budget_64_seed_234',\n",
       " '2021-11-04-brats18_ImageNetBackbone_baseline_ralis_budget_64_seed_55',\n",
       " '2021-11-04-brats18_ImageNetBackbone_baseline_ralis_budget_64_seed_77',\n",
       " '2021-11-04-brats18_ImageNetBackbone_baseline_random_budget_17792_seed_123',\n",
       " '2021-11-04-brats18_ImageNetBackbone_baseline_random_budget_17792_seed_20',\n",
       " '2021-11-04-brats18_ImageNetBackbone_baseline_random_budget_17792_seed_234',\n",
       " '2021-11-04-brats18_ImageNetBackbone_baseline_random_budget_17792_seed_55',\n",
       " '2021-11-04-brats18_ImageNetBackbone_baseline_random_budget_17792_seed_77',\n",
       " '2021-11-04-brats18_ImageNetBackbone_baseline_random_budget_1792_seed_123',\n",
       " '2021-11-04-brats18_ImageNetBackbone_baseline_random_budget_1792_seed_20',\n",
       " '2021-11-04-brats18_ImageNetBackbone_baseline_random_budget_1792_seed_234',\n",
       " '2021-11-04-brats18_ImageNetBackbone_baseline_random_budget_1792_seed_55',\n",
       " '2021-11-04-brats18_ImageNetBackbone_baseline_random_budget_1792_seed_77',\n",
       " '2021-11-04-brats18_ImageNetBackbone_baseline_random_budget_3584_seed_123',\n",
       " '2021-11-04-brats18_ImageNetBackbone_baseline_random_budget_3584_seed_20',\n",
       " '2021-11-04-brats18_ImageNetBackbone_baseline_random_budget_3584_seed_234',\n",
       " '2021-11-04-brats18_ImageNetBackbone_baseline_random_budget_3584_seed_55',\n",
       " '2021-11-04-brats18_ImageNetBackbone_baseline_random_budget_3584_seed_77',\n",
       " '2021-11-04-brats18_ImageNetBackbone_baseline_random_budget_384_seed_123',\n",
       " '2021-11-04-brats18_ImageNetBackbone_baseline_random_budget_384_seed_20',\n",
       " '2021-11-04-brats18_ImageNetBackbone_baseline_random_budget_384_seed_234',\n",
       " '2021-11-04-brats18_ImageNetBackbone_baseline_random_budget_384_seed_55',\n",
       " '2021-11-04-brats18_ImageNetBackbone_baseline_random_budget_384_seed_77',\n",
       " '2021-11-04-brats18_ImageNetBackbone_baseline_random_budget_64_seed_123',\n",
       " '2021-11-04-brats18_ImageNetBackbone_baseline_random_budget_64_seed_20',\n",
       " '2021-11-04-brats18_ImageNetBackbone_baseline_random_budget_64_seed_234',\n",
       " '2021-11-04-brats18_ImageNetBackbone_baseline_random_budget_64_seed_55',\n",
       " '2021-11-04-brats18_ImageNetBackbone_baseline_random_budget_64_seed_77',\n",
       " '2021-11-05-supervised-brats18_DT3_RIRD_ImageNetBackbone_lr_0.01_123',\n",
       " '2021-11-05-supervised-brats18_DT3_RIRD_ImageNetBackbone_lr_0.01_20',\n",
       " '2021-11-05-supervised-brats18_DT3_RIRD_ImageNetBackbone_lr_0.01_234',\n",
       " '2021-11-05-supervised-brats18_DT3_RIRD_ImageNetBackbone_lr_0.01_55',\n",
       " '2021-11-05-supervised-brats18_DT3_RIRD_ImageNetBackbone_lr_0.01_77',\n",
       " '2021-11-05-supervised-brats18_DT3_stdAug_ImageNetBackbone_lr_0.01_123',\n",
       " '2021-11-05-supervised-brats18_DT3_stdAug_ImageNetBackbone_lr_0.01_20',\n",
       " '2021-11-05-supervised-brats18_DT3_stdAug_ImageNetBackbone_lr_0.01_234',\n",
       " '2021-11-05-supervised-brats18_DT3_stdAug_ImageNetBackbone_lr_0.01_55',\n",
       " '2021-11-05-supervised-brats18_DT3_stdAug_ImageNetBackbone_lr_0.01_77',\n",
       " '2021-11-06-brats18_ImageNetBackbone_baseline_bald_budget_35584_seed_123',\n",
       " '2021-11-06-brats18_ImageNetBackbone_baseline_bald_budget_35584_seed_20',\n",
       " '2021-11-06-brats18_ImageNetBackbone_baseline_bald_budget_35584_seed_234',\n",
       " '2021-11-06-brats18_ImageNetBackbone_baseline_bald_budget_35584_seed_55',\n",
       " '2021-11-06-brats18_ImageNetBackbone_baseline_bald_budget_35584_seed_77',\n",
       " '2021-11-06-brats18_ImageNetBackbone_baseline_entropy_budget_35584_seed_123',\n",
       " '2021-11-06-brats18_ImageNetBackbone_baseline_entropy_budget_35584_seed_20',\n",
       " '2021-11-06-brats18_ImageNetBackbone_baseline_entropy_budget_35584_seed_234',\n",
       " '2021-11-06-brats18_ImageNetBackbone_baseline_entropy_budget_35584_seed_55',\n",
       " '2021-11-06-brats18_ImageNetBackbone_baseline_entropy_budget_35584_seed_77',\n",
       " '2021-11-06-brats18_ImageNetBackbone_baseline_ralis_budget_35584_seed_123',\n",
       " '2021-11-06-brats18_ImageNetBackbone_baseline_ralis_budget_35584_seed_20',\n",
       " '2021-11-06-brats18_ImageNetBackbone_baseline_ralis_budget_35584_seed_234',\n",
       " '2021-11-06-brats18_ImageNetBackbone_baseline_ralis_budget_35584_seed_55',\n",
       " '2021-11-06-brats18_ImageNetBackbone_baseline_ralis_budget_35584_seed_77',\n",
       " '2021-11-06-brats18_ImageNetBackbone_baseline_random_budget_35584_seed_123',\n",
       " '2021-11-06-brats18_ImageNetBackbone_baseline_random_budget_35584_seed_20',\n",
       " '2021-11-06-brats18_ImageNetBackbone_baseline_random_budget_35584_seed_234',\n",
       " '2021-11-06-brats18_ImageNetBackbone_baseline_random_budget_35584_seed_55',\n",
       " '2021-11-06-brats18_ImageNetBackbone_baseline_random_budget_35584_seed_77']"
      ]
     },
     "execution_count": 5,
     "metadata": {},
     "output_type": "execute_result"
    }
   ],
   "source": [
    "exp_6_brats"
   ]
  },
  {
   "cell_type": "code",
   "execution_count": 7,
   "id": "14f65efa",
   "metadata": {},
   "outputs": [],
   "source": [
    "data_frame_lists = []\n",
    "for exp in exp_6_brats: \n",
    "    exp_path = path + exp + '/Mean_3D_DSC.txt'\n",
    "    if os.path.isfile(exp_path): \n",
    "        if 'DT3' in exp:\n",
    "            names = [\"All classes\", \"background\", \"NCR/NET\", \"ED\", \"ET\", \"Experiment\", \"seed\", \"Augmentation\", \"lr\"]\n",
    "            data = pd.read_csv(exp_path, nrows=1, skiprows=1, names=names, sep ='\\t')\n",
    "            data[\"Experiment\"] = exp\n",
    "            data = data[[\"Experiment\", \"seed\", \"All classes\", \"background\", \"NCR/NET\", \"ED\", \"ET\"]]\n",
    "    #         if 'supervised' in exp:\n",
    "            data['lr'] = exp.split('_')[-2]\n",
    "            data['Augmentation'] = exp.split('_')[-5]\n",
    "            data['seed'] = exp.split('_')[-1]\n",
    "            data_frame_lists.append(data)\n",
    "\n",
    "frame = pd.concat(data_frame_lists, axis=0, ignore_index=True)"
   ]
  },
  {
   "cell_type": "code",
   "execution_count": 8,
   "id": "660e1a50",
   "metadata": {},
   "outputs": [
    {
     "data": {
      "text/html": [
       "<div>\n",
       "<style scoped>\n",
       "    .dataframe tbody tr th:only-of-type {\n",
       "        vertical-align: middle;\n",
       "    }\n",
       "\n",
       "    .dataframe tbody tr th {\n",
       "        vertical-align: top;\n",
       "    }\n",
       "\n",
       "    .dataframe thead th {\n",
       "        text-align: right;\n",
       "    }\n",
       "</style>\n",
       "<table border=\"1\" class=\"dataframe\">\n",
       "  <thead>\n",
       "    <tr style=\"text-align: right;\">\n",
       "      <th></th>\n",
       "      <th>Experiment</th>\n",
       "      <th>seed</th>\n",
       "      <th>All classes</th>\n",
       "      <th>background</th>\n",
       "      <th>NCR/NET</th>\n",
       "      <th>ED</th>\n",
       "      <th>ET</th>\n",
       "      <th>lr</th>\n",
       "      <th>Augmentation</th>\n",
       "    </tr>\n",
       "  </thead>\n",
       "  <tbody>\n",
       "    <tr>\n",
       "      <th>0</th>\n",
       "      <td>2021-11-05-supervised-brats18_DT3_RIRD_ImageNe...</td>\n",
       "      <td>123</td>\n",
       "      <td>0.704732</td>\n",
       "      <td>0.994960</td>\n",
       "      <td>0.680741</td>\n",
       "      <td>0.007081</td>\n",
       "      <td>0.524368</td>\n",
       "      <td>0.01</td>\n",
       "      <td>RIRD</td>\n",
       "    </tr>\n",
       "    <tr>\n",
       "      <th>1</th>\n",
       "      <td>2021-11-05-supervised-brats18_DT3_RIRD_ImageNe...</td>\n",
       "      <td>20</td>\n",
       "      <td>0.710428</td>\n",
       "      <td>0.995025</td>\n",
       "      <td>0.683210</td>\n",
       "      <td>0.000000</td>\n",
       "      <td>0.542765</td>\n",
       "      <td>0.01</td>\n",
       "      <td>RIRD</td>\n",
       "    </tr>\n",
       "    <tr>\n",
       "      <th>2</th>\n",
       "      <td>2021-11-05-supervised-brats18_DT3_RIRD_ImageNe...</td>\n",
       "      <td>234</td>\n",
       "      <td>0.699612</td>\n",
       "      <td>0.993549</td>\n",
       "      <td>0.659424</td>\n",
       "      <td>0.000000</td>\n",
       "      <td>0.531555</td>\n",
       "      <td>0.01</td>\n",
       "      <td>RIRD</td>\n",
       "    </tr>\n",
       "    <tr>\n",
       "      <th>3</th>\n",
       "      <td>2021-11-05-supervised-brats18_DT3_RIRD_ImageNe...</td>\n",
       "      <td>55</td>\n",
       "      <td>0.706627</td>\n",
       "      <td>0.994651</td>\n",
       "      <td>0.667001</td>\n",
       "      <td>0.006510</td>\n",
       "      <td>0.545141</td>\n",
       "      <td>0.01</td>\n",
       "      <td>RIRD</td>\n",
       "    </tr>\n",
       "    <tr>\n",
       "      <th>4</th>\n",
       "      <td>2021-11-05-supervised-brats18_DT3_RIRD_ImageNe...</td>\n",
       "      <td>77</td>\n",
       "      <td>0.703423</td>\n",
       "      <td>0.994307</td>\n",
       "      <td>0.665184</td>\n",
       "      <td>0.005274</td>\n",
       "      <td>0.536673</td>\n",
       "      <td>0.01</td>\n",
       "      <td>RIRD</td>\n",
       "    </tr>\n",
       "    <tr>\n",
       "      <th>5</th>\n",
       "      <td>2021-11-05-supervised-brats18_DT3_stdAug_Image...</td>\n",
       "      <td>123</td>\n",
       "      <td>0.710671</td>\n",
       "      <td>0.995105</td>\n",
       "      <td>0.684019</td>\n",
       "      <td>0.052300</td>\n",
       "      <td>0.531723</td>\n",
       "      <td>0.01</td>\n",
       "      <td>stdAug</td>\n",
       "    </tr>\n",
       "    <tr>\n",
       "      <th>6</th>\n",
       "      <td>2021-11-05-supervised-brats18_DT3_stdAug_Image...</td>\n",
       "      <td>20</td>\n",
       "      <td>0.714274</td>\n",
       "      <td>0.994838</td>\n",
       "      <td>0.679079</td>\n",
       "      <td>0.000000</td>\n",
       "      <td>0.560313</td>\n",
       "      <td>0.01</td>\n",
       "      <td>stdAug</td>\n",
       "    </tr>\n",
       "    <tr>\n",
       "      <th>7</th>\n",
       "      <td>2021-11-05-supervised-brats18_DT3_stdAug_Image...</td>\n",
       "      <td>234</td>\n",
       "      <td>0.705275</td>\n",
       "      <td>0.994317</td>\n",
       "      <td>0.673732</td>\n",
       "      <td>0.000000</td>\n",
       "      <td>0.535585</td>\n",
       "      <td>0.01</td>\n",
       "      <td>stdAug</td>\n",
       "    </tr>\n",
       "    <tr>\n",
       "      <th>8</th>\n",
       "      <td>2021-11-05-supervised-brats18_DT3_stdAug_Image...</td>\n",
       "      <td>55</td>\n",
       "      <td>0.698400</td>\n",
       "      <td>0.994286</td>\n",
       "      <td>0.670309</td>\n",
       "      <td>0.007022</td>\n",
       "      <td>0.514109</td>\n",
       "      <td>0.01</td>\n",
       "      <td>stdAug</td>\n",
       "    </tr>\n",
       "    <tr>\n",
       "      <th>9</th>\n",
       "      <td>2021-11-05-supervised-brats18_DT3_stdAug_Image...</td>\n",
       "      <td>77</td>\n",
       "      <td>0.700772</td>\n",
       "      <td>0.993869</td>\n",
       "      <td>0.663688</td>\n",
       "      <td>0.006506</td>\n",
       "      <td>0.529460</td>\n",
       "      <td>0.01</td>\n",
       "      <td>stdAug</td>\n",
       "    </tr>\n",
       "  </tbody>\n",
       "</table>\n",
       "</div>"
      ],
      "text/plain": [
       "                                          Experiment seed  All classes  \\\n",
       "0  2021-11-05-supervised-brats18_DT3_RIRD_ImageNe...  123     0.704732   \n",
       "1  2021-11-05-supervised-brats18_DT3_RIRD_ImageNe...   20     0.710428   \n",
       "2  2021-11-05-supervised-brats18_DT3_RIRD_ImageNe...  234     0.699612   \n",
       "3  2021-11-05-supervised-brats18_DT3_RIRD_ImageNe...   55     0.706627   \n",
       "4  2021-11-05-supervised-brats18_DT3_RIRD_ImageNe...   77     0.703423   \n",
       "5  2021-11-05-supervised-brats18_DT3_stdAug_Image...  123     0.710671   \n",
       "6  2021-11-05-supervised-brats18_DT3_stdAug_Image...   20     0.714274   \n",
       "7  2021-11-05-supervised-brats18_DT3_stdAug_Image...  234     0.705275   \n",
       "8  2021-11-05-supervised-brats18_DT3_stdAug_Image...   55     0.698400   \n",
       "9  2021-11-05-supervised-brats18_DT3_stdAug_Image...   77     0.700772   \n",
       "\n",
       "   background   NCR/NET        ED        ET    lr Augmentation  \n",
       "0    0.994960  0.680741  0.007081  0.524368  0.01         RIRD  \n",
       "1    0.995025  0.683210  0.000000  0.542765  0.01         RIRD  \n",
       "2    0.993549  0.659424  0.000000  0.531555  0.01         RIRD  \n",
       "3    0.994651  0.667001  0.006510  0.545141  0.01         RIRD  \n",
       "4    0.994307  0.665184  0.005274  0.536673  0.01         RIRD  \n",
       "5    0.995105  0.684019  0.052300  0.531723  0.01       stdAug  \n",
       "6    0.994838  0.679079  0.000000  0.560313  0.01       stdAug  \n",
       "7    0.994317  0.673732  0.000000  0.535585  0.01       stdAug  \n",
       "8    0.994286  0.670309  0.007022  0.514109  0.01       stdAug  \n",
       "9    0.993869  0.663688  0.006506  0.529460  0.01       stdAug  "
      ]
     },
     "execution_count": 8,
     "metadata": {},
     "output_type": "execute_result"
    }
   ],
   "source": [
    "frame"
   ]
  },
  {
   "cell_type": "code",
   "execution_count": 9,
   "id": "95f74d55",
   "metadata": {},
   "outputs": [],
   "source": [
    "frame_new = frame.drop(columns=\"Experiment\")"
   ]
  },
  {
   "cell_type": "code",
   "execution_count": 10,
   "id": "1f0608c6",
   "metadata": {},
   "outputs": [],
   "source": [
    "pd.options.display.float_format = \"{:,.3f}\".format"
   ]
  },
  {
   "cell_type": "code",
   "execution_count": 11,
   "id": "2595f35f",
   "metadata": {},
   "outputs": [
    {
     "data": {
      "text/html": [
       "<div>\n",
       "<style scoped>\n",
       "    .dataframe tbody tr th:only-of-type {\n",
       "        vertical-align: middle;\n",
       "    }\n",
       "\n",
       "    .dataframe tbody tr th {\n",
       "        vertical-align: top;\n",
       "    }\n",
       "\n",
       "    .dataframe thead th {\n",
       "        text-align: right;\n",
       "    }\n",
       "</style>\n",
       "<table border=\"1\" class=\"dataframe\">\n",
       "  <thead>\n",
       "    <tr style=\"text-align: right;\">\n",
       "      <th></th>\n",
       "      <th>seed</th>\n",
       "      <th>All classes</th>\n",
       "      <th>background</th>\n",
       "      <th>NCR/NET</th>\n",
       "      <th>ED</th>\n",
       "      <th>ET</th>\n",
       "      <th>lr</th>\n",
       "      <th>Augmentation</th>\n",
       "    </tr>\n",
       "  </thead>\n",
       "  <tbody>\n",
       "    <tr>\n",
       "      <th>6</th>\n",
       "      <td>20</td>\n",
       "      <td>0.714</td>\n",
       "      <td>0.995</td>\n",
       "      <td>0.679</td>\n",
       "      <td>0.000</td>\n",
       "      <td>0.560</td>\n",
       "      <td>0.01</td>\n",
       "      <td>stdAug</td>\n",
       "    </tr>\n",
       "    <tr>\n",
       "      <th>5</th>\n",
       "      <td>123</td>\n",
       "      <td>0.711</td>\n",
       "      <td>0.995</td>\n",
       "      <td>0.684</td>\n",
       "      <td>0.052</td>\n",
       "      <td>0.532</td>\n",
       "      <td>0.01</td>\n",
       "      <td>stdAug</td>\n",
       "    </tr>\n",
       "    <tr>\n",
       "      <th>1</th>\n",
       "      <td>20</td>\n",
       "      <td>0.710</td>\n",
       "      <td>0.995</td>\n",
       "      <td>0.683</td>\n",
       "      <td>0.000</td>\n",
       "      <td>0.543</td>\n",
       "      <td>0.01</td>\n",
       "      <td>RIRD</td>\n",
       "    </tr>\n",
       "    <tr>\n",
       "      <th>3</th>\n",
       "      <td>55</td>\n",
       "      <td>0.707</td>\n",
       "      <td>0.995</td>\n",
       "      <td>0.667</td>\n",
       "      <td>0.007</td>\n",
       "      <td>0.545</td>\n",
       "      <td>0.01</td>\n",
       "      <td>RIRD</td>\n",
       "    </tr>\n",
       "    <tr>\n",
       "      <th>7</th>\n",
       "      <td>234</td>\n",
       "      <td>0.705</td>\n",
       "      <td>0.994</td>\n",
       "      <td>0.674</td>\n",
       "      <td>0.000</td>\n",
       "      <td>0.536</td>\n",
       "      <td>0.01</td>\n",
       "      <td>stdAug</td>\n",
       "    </tr>\n",
       "    <tr>\n",
       "      <th>0</th>\n",
       "      <td>123</td>\n",
       "      <td>0.705</td>\n",
       "      <td>0.995</td>\n",
       "      <td>0.681</td>\n",
       "      <td>0.007</td>\n",
       "      <td>0.524</td>\n",
       "      <td>0.01</td>\n",
       "      <td>RIRD</td>\n",
       "    </tr>\n",
       "    <tr>\n",
       "      <th>4</th>\n",
       "      <td>77</td>\n",
       "      <td>0.703</td>\n",
       "      <td>0.994</td>\n",
       "      <td>0.665</td>\n",
       "      <td>0.005</td>\n",
       "      <td>0.537</td>\n",
       "      <td>0.01</td>\n",
       "      <td>RIRD</td>\n",
       "    </tr>\n",
       "    <tr>\n",
       "      <th>9</th>\n",
       "      <td>77</td>\n",
       "      <td>0.701</td>\n",
       "      <td>0.994</td>\n",
       "      <td>0.664</td>\n",
       "      <td>0.007</td>\n",
       "      <td>0.529</td>\n",
       "      <td>0.01</td>\n",
       "      <td>stdAug</td>\n",
       "    </tr>\n",
       "    <tr>\n",
       "      <th>2</th>\n",
       "      <td>234</td>\n",
       "      <td>0.700</td>\n",
       "      <td>0.994</td>\n",
       "      <td>0.659</td>\n",
       "      <td>0.000</td>\n",
       "      <td>0.532</td>\n",
       "      <td>0.01</td>\n",
       "      <td>RIRD</td>\n",
       "    </tr>\n",
       "    <tr>\n",
       "      <th>8</th>\n",
       "      <td>55</td>\n",
       "      <td>0.698</td>\n",
       "      <td>0.994</td>\n",
       "      <td>0.670</td>\n",
       "      <td>0.007</td>\n",
       "      <td>0.514</td>\n",
       "      <td>0.01</td>\n",
       "      <td>stdAug</td>\n",
       "    </tr>\n",
       "  </tbody>\n",
       "</table>\n",
       "</div>"
      ],
      "text/plain": [
       "  seed  All classes  background  NCR/NET    ED    ET    lr Augmentation\n",
       "6   20        0.714       0.995    0.679 0.000 0.560  0.01       stdAug\n",
       "5  123        0.711       0.995    0.684 0.052 0.532  0.01       stdAug\n",
       "1   20        0.710       0.995    0.683 0.000 0.543  0.01         RIRD\n",
       "3   55        0.707       0.995    0.667 0.007 0.545  0.01         RIRD\n",
       "7  234        0.705       0.994    0.674 0.000 0.536  0.01       stdAug\n",
       "0  123        0.705       0.995    0.681 0.007 0.524  0.01         RIRD\n",
       "4   77        0.703       0.994    0.665 0.005 0.537  0.01         RIRD\n",
       "9   77        0.701       0.994    0.664 0.007 0.529  0.01       stdAug\n",
       "2  234        0.700       0.994    0.659 0.000 0.532  0.01         RIRD\n",
       "8   55        0.698       0.994    0.670 0.007 0.514  0.01       stdAug"
      ]
     },
     "execution_count": 11,
     "metadata": {},
     "output_type": "execute_result"
    }
   ],
   "source": [
    "frame_new.sort_values(by=['All classes'], ascending=False)"
   ]
  },
  {
   "cell_type": "markdown",
   "id": "3f45511d",
   "metadata": {},
   "source": [
    "## Standard Augmentation lr 0.01"
   ]
  },
  {
   "cell_type": "code",
   "execution_count": 12,
   "id": "ac43ac7e",
   "metadata": {},
   "outputs": [],
   "source": [
    "imgStd01 = frame_new.loc[(frame_new['Augmentation'] == 'stdAug') & (frame_new['lr'] == '0.01')]"
   ]
  },
  {
   "cell_type": "code",
   "execution_count": 13,
   "id": "abe36b56",
   "metadata": {},
   "outputs": [],
   "source": [
    "imgStd01 = imgStd01.groupby(['Augmentation', 'lr']).agg({'All classes': ['mean', 'std'], 'background': ['mean', 'std'],\n",
    "                                                          'NCR/NET':['mean', 'std'], 'ED':['mean', 'std'], 'ET':['mean', 'std']})"
   ]
  },
  {
   "cell_type": "code",
   "execution_count": 14,
   "id": "92508f11",
   "metadata": {},
   "outputs": [
    {
     "data": {
      "text/html": [
       "<div>\n",
       "<style scoped>\n",
       "    .dataframe tbody tr th:only-of-type {\n",
       "        vertical-align: middle;\n",
       "    }\n",
       "\n",
       "    .dataframe tbody tr th {\n",
       "        vertical-align: top;\n",
       "    }\n",
       "\n",
       "    .dataframe thead tr th {\n",
       "        text-align: left;\n",
       "    }\n",
       "\n",
       "    .dataframe thead tr:last-of-type th {\n",
       "        text-align: right;\n",
       "    }\n",
       "</style>\n",
       "<table border=\"1\" class=\"dataframe\">\n",
       "  <thead>\n",
       "    <tr>\n",
       "      <th></th>\n",
       "      <th></th>\n",
       "      <th colspan=\"2\" halign=\"left\">All classes</th>\n",
       "      <th colspan=\"2\" halign=\"left\">background</th>\n",
       "      <th colspan=\"2\" halign=\"left\">NCR/NET</th>\n",
       "      <th colspan=\"2\" halign=\"left\">ED</th>\n",
       "      <th colspan=\"2\" halign=\"left\">ET</th>\n",
       "    </tr>\n",
       "    <tr>\n",
       "      <th></th>\n",
       "      <th></th>\n",
       "      <th>mean</th>\n",
       "      <th>std</th>\n",
       "      <th>mean</th>\n",
       "      <th>std</th>\n",
       "      <th>mean</th>\n",
       "      <th>std</th>\n",
       "      <th>mean</th>\n",
       "      <th>std</th>\n",
       "      <th>mean</th>\n",
       "      <th>std</th>\n",
       "    </tr>\n",
       "    <tr>\n",
       "      <th>Augmentation</th>\n",
       "      <th>lr</th>\n",
       "      <th></th>\n",
       "      <th></th>\n",
       "      <th></th>\n",
       "      <th></th>\n",
       "      <th></th>\n",
       "      <th></th>\n",
       "      <th></th>\n",
       "      <th></th>\n",
       "      <th></th>\n",
       "      <th></th>\n",
       "    </tr>\n",
       "  </thead>\n",
       "  <tbody>\n",
       "    <tr>\n",
       "      <th>stdAug</th>\n",
       "      <th>0.01</th>\n",
       "      <td>0.706</td>\n",
       "      <td>0.007</td>\n",
       "      <td>0.994</td>\n",
       "      <td>0.000</td>\n",
       "      <td>0.674</td>\n",
       "      <td>0.008</td>\n",
       "      <td>0.013</td>\n",
       "      <td>0.022</td>\n",
       "      <td>0.534</td>\n",
       "      <td>0.017</td>\n",
       "    </tr>\n",
       "  </tbody>\n",
       "</table>\n",
       "</div>"
      ],
      "text/plain": [
       "                  All classes       background       NCR/NET          ED  \\\n",
       "                         mean   std       mean   std    mean   std  mean   \n",
       "Augmentation lr                                                            \n",
       "stdAug       0.01       0.706 0.007      0.994 0.000   0.674 0.008 0.013   \n",
       "\n",
       "                           ET        \n",
       "                    std  mean   std  \n",
       "Augmentation lr                      \n",
       "stdAug       0.01 0.022 0.534 0.017  "
      ]
     },
     "execution_count": 14,
     "metadata": {},
     "output_type": "execute_result"
    }
   ],
   "source": [
    "imgStd01"
   ]
  },
  {
   "cell_type": "markdown",
   "id": "a5c46a08",
   "metadata": {},
   "source": [
    "## RIRD lr 0.01"
   ]
  },
  {
   "cell_type": "code",
   "execution_count": 15,
   "id": "70aae4d5",
   "metadata": {},
   "outputs": [],
   "source": [
    "imgRIRD01 = frame_new.loc[(frame_new['Augmentation'] == 'RIRD') & (frame_new['lr'] == '0.01')]"
   ]
  },
  {
   "cell_type": "code",
   "execution_count": 16,
   "id": "0f833ebf",
   "metadata": {},
   "outputs": [],
   "source": [
    "imgRIRD01 = imgRIRD01.groupby(['Augmentation', 'lr']).agg({'All classes': ['mean', 'std'], 'background': ['mean', 'std'],\n",
    "                                                          'NCR/NET':['mean', 'std'], 'ED':['mean', 'std'], 'ET':['mean', 'std']})"
   ]
  },
  {
   "cell_type": "markdown",
   "id": "b6b5d883",
   "metadata": {},
   "source": [
    "## Concatenated"
   ]
  },
  {
   "cell_type": "code",
   "execution_count": 17,
   "id": "794b535f",
   "metadata": {},
   "outputs": [],
   "source": [
    "df_supervised = pd.concat([imgStd01,imgRIRD01])#, keys=[\"Std-0.001\", \"Std-0.01\", \"Std-0.05\", \"RI/RD-0.001\", \"RI/RD-0.01\", \"RI/RD-0.05\"])"
   ]
  },
  {
   "cell_type": "code",
   "execution_count": 18,
   "id": "edeccd22",
   "metadata": {},
   "outputs": [
    {
     "data": {
      "text/html": [
       "<div>\n",
       "<style scoped>\n",
       "    .dataframe tbody tr th:only-of-type {\n",
       "        vertical-align: middle;\n",
       "    }\n",
       "\n",
       "    .dataframe tbody tr th {\n",
       "        vertical-align: top;\n",
       "    }\n",
       "\n",
       "    .dataframe thead tr th {\n",
       "        text-align: left;\n",
       "    }\n",
       "\n",
       "    .dataframe thead tr:last-of-type th {\n",
       "        text-align: right;\n",
       "    }\n",
       "</style>\n",
       "<table border=\"1\" class=\"dataframe\">\n",
       "  <thead>\n",
       "    <tr>\n",
       "      <th></th>\n",
       "      <th></th>\n",
       "      <th colspan=\"2\" halign=\"left\">All classes</th>\n",
       "      <th colspan=\"2\" halign=\"left\">background</th>\n",
       "      <th colspan=\"2\" halign=\"left\">NCR/NET</th>\n",
       "      <th colspan=\"2\" halign=\"left\">ED</th>\n",
       "      <th colspan=\"2\" halign=\"left\">ET</th>\n",
       "    </tr>\n",
       "    <tr>\n",
       "      <th></th>\n",
       "      <th></th>\n",
       "      <th>mean</th>\n",
       "      <th>std</th>\n",
       "      <th>mean</th>\n",
       "      <th>std</th>\n",
       "      <th>mean</th>\n",
       "      <th>std</th>\n",
       "      <th>mean</th>\n",
       "      <th>std</th>\n",
       "      <th>mean</th>\n",
       "      <th>std</th>\n",
       "    </tr>\n",
       "    <tr>\n",
       "      <th>Augmentation</th>\n",
       "      <th>lr</th>\n",
       "      <th></th>\n",
       "      <th></th>\n",
       "      <th></th>\n",
       "      <th></th>\n",
       "      <th></th>\n",
       "      <th></th>\n",
       "      <th></th>\n",
       "      <th></th>\n",
       "      <th></th>\n",
       "      <th></th>\n",
       "    </tr>\n",
       "  </thead>\n",
       "  <tbody>\n",
       "    <tr>\n",
       "      <th>stdAug</th>\n",
       "      <th>0.01</th>\n",
       "      <td>0.706</td>\n",
       "      <td>0.007</td>\n",
       "      <td>0.994</td>\n",
       "      <td>0.000</td>\n",
       "      <td>0.674</td>\n",
       "      <td>0.008</td>\n",
       "      <td>0.013</td>\n",
       "      <td>0.022</td>\n",
       "      <td>0.534</td>\n",
       "      <td>0.017</td>\n",
       "    </tr>\n",
       "    <tr>\n",
       "      <th>RIRD</th>\n",
       "      <th>0.01</th>\n",
       "      <td>0.705</td>\n",
       "      <td>0.004</td>\n",
       "      <td>0.994</td>\n",
       "      <td>0.001</td>\n",
       "      <td>0.671</td>\n",
       "      <td>0.010</td>\n",
       "      <td>0.004</td>\n",
       "      <td>0.004</td>\n",
       "      <td>0.536</td>\n",
       "      <td>0.008</td>\n",
       "    </tr>\n",
       "  </tbody>\n",
       "</table>\n",
       "</div>"
      ],
      "text/plain": [
       "                  All classes       background       NCR/NET          ED  \\\n",
       "                         mean   std       mean   std    mean   std  mean   \n",
       "Augmentation lr                                                            \n",
       "stdAug       0.01       0.706 0.007      0.994 0.000   0.674 0.008 0.013   \n",
       "RIRD         0.01       0.705 0.004      0.994 0.001   0.671 0.010 0.004   \n",
       "\n",
       "                           ET        \n",
       "                    std  mean   std  \n",
       "Augmentation lr                      \n",
       "stdAug       0.01 0.022 0.534 0.017  \n",
       "RIRD         0.01 0.004 0.536 0.008  "
      ]
     },
     "execution_count": 18,
     "metadata": {},
     "output_type": "execute_result"
    }
   ],
   "source": [
    "df_supervised"
   ]
  },
  {
   "cell_type": "code",
   "execution_count": 19,
   "id": "eb8b8e83",
   "metadata": {},
   "outputs": [],
   "source": [
    "df_img_al_algos = df_supervised"
   ]
  },
  {
   "cell_type": "code",
   "execution_count": 20,
   "id": "ca24921c",
   "metadata": {},
   "outputs": [
    {
     "data": {
      "text/plain": [
       "array([('All classes', 'mean'), ('All classes', 'std'), ('ED', 'mean'),\n",
       "       ('ED', 'std'), ('ET', 'mean'), ('ET', 'std'), ('NCR/NET', 'mean'),\n",
       "       ('NCR/NET', 'std'), ('background', 'mean'), ('background', 'std')],\n",
       "      dtype=object)"
      ]
     },
     "execution_count": 20,
     "metadata": {},
     "output_type": "execute_result"
    }
   ],
   "source": [
    "np.unique(df_img_al_algos.columns.values)"
   ]
  },
  {
   "cell_type": "code",
   "execution_count": 21,
   "id": "fcda7d3c",
   "metadata": {},
   "outputs": [
    {
     "name": "stdout",
     "output_type": "stream",
     "text": [
      "cols:  ['All classes' 'ED' 'ET' 'NCR/NET' 'background' 'mean' 'std']\n"
     ]
    }
   ],
   "source": [
    "cols = [i for i in df_img_al_algos.columns.values]\n",
    "cols = np.unique(cols)\n",
    "print(\"cols: \", cols)\n",
    "#cols = np.unique(cols)\n",
    "idx = [0,3,1,2,4]\n",
    "cols = cols[idx]"
   ]
  },
  {
   "cell_type": "code",
   "execution_count": 22,
   "id": "63a74980",
   "metadata": {},
   "outputs": [
    {
     "name": "stderr",
     "output_type": "stream",
     "text": [
      "/home/carina/.local/lib/python3.8/site-packages/pandas/core/generic.py:4153: PerformanceWarning: dropping on a non-lexsorted multi-index without a level parameter may impact performance.\n",
      "  obj = obj._drop_axis(labels, axis, level=level, errors=errors)\n"
     ]
    }
   ],
   "source": [
    "df_new = pd.DataFrame(columns=cols)\n",
    "for c in cols:\n",
    "    means = df_img_al_algos[c]['mean'].values\n",
    "    stds = df_img_al_algos[c]['std'].values\n",
    "    newcol = [f'{mean:.3f}(±{std:.3f})' for mean, std in zip(means, stds)]\n",
    "    df_new[c] = newcol\n",
    "    #df_lr_01.drop(c, axis=1, inplace=True)\n",
    "    #df_lr_01[c] = newcol\n",
    "    \n",
    "df_new = pd.DataFrame(columns=cols)\n",
    "for c in cols:\n",
    "    means = df_img_al_algos[c]['mean'].values\n",
    "    stds = df_img_al_algos[c]['std'].values\n",
    "    newcol = [f'{mean:.3f}(±{std:.3f})' for mean, std in zip(means, stds)]\n",
    "    df_new[c] = newcol\n",
    "    df_img_al_algos.drop(c, axis=1, inplace=True)\n",
    "    df_img_al_algos[c] = newcol\n",
    "del df_img_al_algos['background']\n",
    "#df_lr_01 = df_lr_01.rename(columns={\"Mean DSC\":\"All Classes\"})"
   ]
  },
  {
   "cell_type": "code",
   "execution_count": 23,
   "id": "4e0ddceb",
   "metadata": {},
   "outputs": [
    {
     "data": {
      "text/html": [
       "<div>\n",
       "<style scoped>\n",
       "    .dataframe tbody tr th:only-of-type {\n",
       "        vertical-align: middle;\n",
       "    }\n",
       "\n",
       "    .dataframe tbody tr th {\n",
       "        vertical-align: top;\n",
       "    }\n",
       "\n",
       "    .dataframe thead tr th {\n",
       "        text-align: left;\n",
       "    }\n",
       "\n",
       "    .dataframe thead tr:last-of-type th {\n",
       "        text-align: right;\n",
       "    }\n",
       "</style>\n",
       "<table border=\"1\" class=\"dataframe\">\n",
       "  <thead>\n",
       "    <tr>\n",
       "      <th></th>\n",
       "      <th></th>\n",
       "      <th>All classes</th>\n",
       "      <th>NCR/NET</th>\n",
       "      <th>ED</th>\n",
       "      <th>ET</th>\n",
       "    </tr>\n",
       "    <tr>\n",
       "      <th></th>\n",
       "      <th></th>\n",
       "      <th></th>\n",
       "      <th></th>\n",
       "      <th></th>\n",
       "      <th></th>\n",
       "    </tr>\n",
       "    <tr>\n",
       "      <th>Augmentation</th>\n",
       "      <th>lr</th>\n",
       "      <th></th>\n",
       "      <th></th>\n",
       "      <th></th>\n",
       "      <th></th>\n",
       "    </tr>\n",
       "  </thead>\n",
       "  <tbody>\n",
       "    <tr>\n",
       "      <th>stdAug</th>\n",
       "      <th>0.01</th>\n",
       "      <td>0.706(±0.007)</td>\n",
       "      <td>0.674(±0.008)</td>\n",
       "      <td>0.013(±0.022)</td>\n",
       "      <td>0.534(±0.017)</td>\n",
       "    </tr>\n",
       "    <tr>\n",
       "      <th>RIRD</th>\n",
       "      <th>0.01</th>\n",
       "      <td>0.705(±0.004)</td>\n",
       "      <td>0.671(±0.010)</td>\n",
       "      <td>0.004(±0.004)</td>\n",
       "      <td>0.536(±0.008)</td>\n",
       "    </tr>\n",
       "  </tbody>\n",
       "</table>\n",
       "</div>"
      ],
      "text/plain": [
       "                     All classes        NCR/NET             ED             ET\n",
       "                                                                             \n",
       "Augmentation lr                                                              \n",
       "stdAug       0.01  0.706(±0.007)  0.674(±0.008)  0.013(±0.022)  0.534(±0.017)\n",
       "RIRD         0.01  0.705(±0.004)  0.671(±0.010)  0.004(±0.004)  0.536(±0.008)"
      ]
     },
     "execution_count": 23,
     "metadata": {},
     "output_type": "execute_result"
    }
   ],
   "source": [
    "df_img_al_algos"
   ]
  },
  {
   "cell_type": "code",
   "execution_count": 24,
   "id": "57f2e8d8",
   "metadata": {},
   "outputs": [
    {
     "name": "stdout",
     "output_type": "stream",
     "text": [
      "\\begin{tabular}{llllll}\n",
      "\\toprule\n",
      "     &      &    All classes &        NCR/NET &             ED &             ET \\\\\n",
      "     &      \\\\\n",
      "Augmentation & lr &                &                &                &                \\\\\n",
      "\\midrule\n",
      "stdAug & 0.01 &  0.706(±0.007) &  0.674(±0.008) &  0.013(±0.022) &  0.534(±0.017) \\\\\n",
      "RIRD & 0.01 &  0.705(±0.004) &  0.671(±0.010) &  0.004(±0.004) &  0.536(±0.008) \\\\\n",
      "\\bottomrule\n",
      "\\end{tabular}\n",
      "\n"
     ]
    }
   ],
   "source": [
    "print(df_img_al_algos.to_latex(index=True))"
   ]
  },
  {
   "cell_type": "markdown",
   "id": "0ba9a314",
   "metadata": {},
   "source": [
    "## All classes mean and std"
   ]
  },
  {
   "cell_type": "code",
   "execution_count": 84,
   "id": "04accd75",
   "metadata": {},
   "outputs": [],
   "source": [
    "np.set_printoptions(formatter={'float': lambda x: \"{0:0.3f}\".format(x)})"
   ]
  },
  {
   "cell_type": "code",
   "execution_count": 85,
   "id": "fdaec711",
   "metadata": {},
   "outputs": [],
   "source": [
    "random_mean = np.array(df_img_random[\"All classes\"][\"mean\"].values)\n",
    "random_sd = np.array(df_img_random[\"All classes\"][\"std\"].values)"
   ]
  },
  {
   "cell_type": "code",
   "execution_count": 86,
   "id": "23247b4b",
   "metadata": {},
   "outputs": [],
   "source": [
    "bald_mean = np.array(df_img_bald[\"All classes\"][\"mean\"].values)\n",
    "bald_sd = np.array(df_img_bald[\"All classes\"][\"std\"].values)"
   ]
  },
  {
   "cell_type": "code",
   "execution_count": 87,
   "id": "d263dfe0",
   "metadata": {},
   "outputs": [],
   "source": [
    "entropy_mean = np.array(df_img_entropy[\"All classes\"][\"mean\"].values)\n",
    "entropy_sd = np.array(df_img_entropy[\"All classes\"][\"std\"].values)"
   ]
  },
  {
   "cell_type": "code",
   "execution_count": 88,
   "id": "6377d478",
   "metadata": {},
   "outputs": [],
   "source": [
    "ralis_mean = np.array(df_img_ralis[\"All classes\"][\"mean\"].values)\n",
    "ralis_sd = np.array(df_img_ralis[\"All classes\"][\"std\"].values)"
   ]
  },
  {
   "cell_type": "code",
   "execution_count": 89,
   "id": "b990a6d7",
   "metadata": {},
   "outputs": [
    {
     "data": {
      "text/plain": [
       "array([0.367, 0.357, 0.377, 0.395, 0.464, 0.490])"
      ]
     },
     "execution_count": 89,
     "metadata": {},
     "output_type": "execute_result"
    }
   ],
   "source": [
    "random_mean"
   ]
  },
  {
   "cell_type": "code",
   "execution_count": 90,
   "id": "2dc078bc",
   "metadata": {},
   "outputs": [
    {
     "data": {
      "text/plain": [
       "array([0.021, 0.009, 0.018, 0.036, 0.060, 0.045])"
      ]
     },
     "execution_count": 90,
     "metadata": {},
     "output_type": "execute_result"
    }
   ],
   "source": [
    "random_sd"
   ]
  },
  {
   "cell_type": "code",
   "execution_count": 91,
   "id": "5c500fdb",
   "metadata": {},
   "outputs": [
    {
     "data": {
      "text/plain": [
       "array([0.350, 0.359, 0.402, 0.467, 0.503, 0.530])"
      ]
     },
     "execution_count": 91,
     "metadata": {},
     "output_type": "execute_result"
    }
   ],
   "source": [
    "entropy_mean"
   ]
  },
  {
   "cell_type": "code",
   "execution_count": 92,
   "id": "13d1ab50",
   "metadata": {},
   "outputs": [
    {
     "data": {
      "text/plain": [
       "array([0.000, 0.012, 0.017, 0.053, 0.018, 0.009])"
      ]
     },
     "execution_count": 92,
     "metadata": {},
     "output_type": "execute_result"
    }
   ],
   "source": [
    "entropy_sd"
   ]
  },
  {
   "cell_type": "code",
   "execution_count": 93,
   "id": "23a71f8d",
   "metadata": {},
   "outputs": [
    {
     "data": {
      "text/plain": [
       "array([0.350, 0.373, 0.409, 0.364, 0.439, 0.536])"
      ]
     },
     "execution_count": 93,
     "metadata": {},
     "output_type": "execute_result"
    }
   ],
   "source": [
    "bald_mean"
   ]
  },
  {
   "cell_type": "code",
   "execution_count": 94,
   "id": "fc581216",
   "metadata": {},
   "outputs": [
    {
     "data": {
      "text/plain": [
       "array([0.000, 0.023, 0.044, 0.162, 0.161, 0.028])"
      ]
     },
     "execution_count": 94,
     "metadata": {},
     "output_type": "execute_result"
    }
   ],
   "source": [
    "bald_sd"
   ]
  },
  {
   "cell_type": "code",
   "execution_count": 95,
   "id": "4740925e",
   "metadata": {},
   "outputs": [
    {
     "data": {
      "text/plain": [
       "array([0.351, 0.404, 0.480, 0.479, 0.519, 0.553])"
      ]
     },
     "execution_count": 95,
     "metadata": {},
     "output_type": "execute_result"
    }
   ],
   "source": [
    "ralis_mean"
   ]
  },
  {
   "cell_type": "code",
   "execution_count": 96,
   "id": "f70ad7a7",
   "metadata": {},
   "outputs": [
    {
     "data": {
      "text/plain": [
       "array([0.001, 0.030, 0.050, 0.015, 0.027, 0.016])"
      ]
     },
     "execution_count": 96,
     "metadata": {},
     "output_type": "execute_result"
    }
   ],
   "source": [
    "ralis_sd"
   ]
  },
  {
   "cell_type": "code",
   "execution_count": null,
   "id": "03becb89",
   "metadata": {},
   "outputs": [],
   "source": []
  },
  {
   "cell_type": "code",
   "execution_count": null,
   "id": "eb1977c7",
   "metadata": {},
   "outputs": [],
   "source": []
  }
 ],
 "metadata": {
  "kernelspec": {
   "display_name": "Python 3",
   "language": "python",
   "name": "python3"
  },
  "language_info": {
   "codemirror_mode": {
    "name": "ipython",
    "version": 3
   },
   "file_extension": ".py",
   "mimetype": "text/x-python",
   "name": "python",
   "nbconvert_exporter": "python",
   "pygments_lexer": "ipython3",
   "version": "3.8.10"
  }
 },
 "nbformat": 4,
 "nbformat_minor": 5
}
