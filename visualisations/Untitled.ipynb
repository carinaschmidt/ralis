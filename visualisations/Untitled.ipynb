{
 "cells": [
  {
   "cell_type": "code",
   "execution_count": 66,
   "id": "9a9a15ba",
   "metadata": {},
   "outputs": [],
   "source": [
    "import numpy as np\n",
    "import glob\n",
    "import os\n",
    "import matplotlib.pyplot as plt"
   ]
  },
  {
   "cell_type": "code",
   "execution_count": 69,
   "id": "06a0f580",
   "metadata": {},
   "outputs": [],
   "source": [
    "a = np.array([0.0,2.0,np.nan,4.0,5.0, np.nan])"
   ]
  },
  {
   "cell_type": "code",
   "execution_count": 70,
   "id": "8e344f81",
   "metadata": {},
   "outputs": [
    {
     "data": {
      "text/plain": [
       "2.75"
      ]
     },
     "execution_count": 70,
     "metadata": {},
     "output_type": "execute_result"
    }
   ],
   "source": [
    "np.nanmean(a)"
   ]
  },
  {
   "cell_type": "code",
   "execution_count": 60,
   "id": "957d21a6",
   "metadata": {},
   "outputs": [],
   "source": [
    "a = np.where(a>=3.0, 4.0, a) "
   ]
  },
  {
   "cell_type": "code",
   "execution_count": 89,
   "id": "db2aff68",
   "metadata": {},
   "outputs": [],
   "source": [
    "def getWTMask(labels):\n",
    "    return (labels != 0).float()\n",
    "\n",
    "def getTCMask(labels):\n",
    "    return ((labels != 0) * (labels != 2)).float() #We use multiplication as AND\n",
    "\n",
    "def getETMask(labels):\n",
    "    return (labels == 4).float()"
   ]
  },
  {
   "cell_type": "code",
   "execution_count": 90,
   "id": "a9e8aab6",
   "metadata": {},
   "outputs": [],
   "source": [
    "def _toEvaluationOneHot(labels):\n",
    "    ### all labels not equal to 0 is whole tumour (WT)\n",
    "    ### all labels not equal to 0 and not 2 is TC\n",
    "    shape = labels.shape\n",
    "\n",
    "    out = np.zeros([shape[0], shape[1], 3], dtype=np.float32)\n",
    "    #print(\"out.shape: \", out.shape)\n",
    "    out[:, :, 0] = (labels != 0) #RoI WT (TC and ED)\n",
    "    out[:, :, 1] = (labels != 0) * (labels != 2) #TC (everything besides 0 and 2)\n",
    "    out[:, :, 2] = (labels == 4) # ET\n",
    "    return out"
   ]
  },
  {
   "cell_type": "code",
   "execution_count": 94,
   "id": "e21d8cc4",
   "metadata": {},
   "outputs": [],
   "source": [
    "labels = np.array([[0.,0.,0.,0.,0.,1.,1,1,1,2,2,2,2,2,4,4,4,4],[0,0,0,0,0,1,1,1,1,2,2,2,2,2,4,4,4,4]])"
   ]
  },
  {
   "cell_type": "code",
   "execution_count": 95,
   "id": "616e8d21",
   "metadata": {},
   "outputs": [],
   "source": [
    "evals = _toEvaluationOneHot(labels)"
   ]
  },
  {
   "cell_type": "code",
   "execution_count": 96,
   "id": "78918092",
   "metadata": {},
   "outputs": [
    {
     "ename": "AttributeError",
     "evalue": "'numpy.ndarray' object has no attribute 'float'",
     "output_type": "error",
     "traceback": [
      "\u001b[0;31m---------------------------------------------------------------------------\u001b[0m",
      "\u001b[0;31mAttributeError\u001b[0m                            Traceback (most recent call last)",
      "\u001b[0;32m<ipython-input-96-005a0c65a971>\u001b[0m in \u001b[0;36m<module>\u001b[0;34m\u001b[0m\n\u001b[0;32m----> 1\u001b[0;31m \u001b[0mgetWTMask\u001b[0m\u001b[0;34m(\u001b[0m\u001b[0mlabels\u001b[0m\u001b[0;34m)\u001b[0m\u001b[0;34m\u001b[0m\u001b[0;34m\u001b[0m\u001b[0m\n\u001b[0m",
      "\u001b[0;32m<ipython-input-89-34da58560dcb>\u001b[0m in \u001b[0;36mgetWTMask\u001b[0;34m(labels)\u001b[0m\n\u001b[1;32m      1\u001b[0m \u001b[0;32mdef\u001b[0m \u001b[0mgetWTMask\u001b[0m\u001b[0;34m(\u001b[0m\u001b[0mlabels\u001b[0m\u001b[0;34m)\u001b[0m\u001b[0;34m:\u001b[0m\u001b[0;34m\u001b[0m\u001b[0;34m\u001b[0m\u001b[0m\n\u001b[0;32m----> 2\u001b[0;31m     \u001b[0;32mreturn\u001b[0m \u001b[0;34m(\u001b[0m\u001b[0mlabels\u001b[0m \u001b[0;34m!=\u001b[0m \u001b[0;36m0\u001b[0m\u001b[0;34m)\u001b[0m\u001b[0;34m.\u001b[0m\u001b[0mfloat\u001b[0m\u001b[0;34m(\u001b[0m\u001b[0;34m)\u001b[0m\u001b[0;34m\u001b[0m\u001b[0;34m\u001b[0m\u001b[0m\n\u001b[0m\u001b[1;32m      3\u001b[0m \u001b[0;34m\u001b[0m\u001b[0m\n\u001b[1;32m      4\u001b[0m \u001b[0;32mdef\u001b[0m \u001b[0mgetTCMask\u001b[0m\u001b[0;34m(\u001b[0m\u001b[0mlabels\u001b[0m\u001b[0;34m)\u001b[0m\u001b[0;34m:\u001b[0m\u001b[0;34m\u001b[0m\u001b[0;34m\u001b[0m\u001b[0m\n\u001b[1;32m      5\u001b[0m     \u001b[0;32mreturn\u001b[0m \u001b[0;34m(\u001b[0m\u001b[0;34m(\u001b[0m\u001b[0mlabels\u001b[0m \u001b[0;34m!=\u001b[0m \u001b[0;36m0\u001b[0m\u001b[0;34m)\u001b[0m \u001b[0;34m*\u001b[0m \u001b[0;34m(\u001b[0m\u001b[0mlabels\u001b[0m \u001b[0;34m!=\u001b[0m \u001b[0;36m2\u001b[0m\u001b[0;34m)\u001b[0m\u001b[0;34m)\u001b[0m\u001b[0;34m.\u001b[0m\u001b[0mfloat\u001b[0m\u001b[0;34m(\u001b[0m\u001b[0;34m)\u001b[0m \u001b[0;31m#We use multiplication as AND\u001b[0m\u001b[0;34m\u001b[0m\u001b[0;34m\u001b[0m\u001b[0m\n",
      "\u001b[0;31mAttributeError\u001b[0m: 'numpy.ndarray' object has no attribute 'float'"
     ]
    }
   ],
   "source": [
    "getWTMask(labels)"
   ]
  },
  {
   "cell_type": "code",
   "execution_count": null,
   "id": "53fbdfe9",
   "metadata": {},
   "outputs": [],
   "source": []
  },
  {
   "cell_type": "code",
   "execution_count": 61,
   "id": "d142bf1e",
   "metadata": {},
   "outputs": [],
   "source": [
    "mask = np.array([0,1,2,3])"
   ]
  },
  {
   "cell_type": "code",
   "execution_count": 63,
   "id": "1df9bd09",
   "metadata": {},
   "outputs": [],
   "source": [
    "if 1 not in mask:\n",
    "    print(\"1 not in mask\")"
   ]
  },
  {
   "cell_type": "code",
   "execution_count": null,
   "id": "e60f4a26",
   "metadata": {},
   "outputs": [],
   "source": [
    "slice_dir ="
   ]
  },
  {
   "cell_type": "code",
   "execution_count": 11,
   "id": "62a5783d",
   "metadata": {},
   "outputs": [],
   "source": [
    "entropy_dir = '/mnt/qb/baumgartner/cschmidt77_data/_FINAL_brats18_exp6/2021-11-05-supervised-brats18_DT3_RIRD_ImageNetBackbone_lr_0.01_20/entropy'"
   ]
  },
  {
   "cell_type": "code",
   "execution_count": 39,
   "id": "98fe89fd",
   "metadata": {},
   "outputs": [],
   "source": [
    "entropy_pat = 'entropy_pat_149.npy'"
   ]
  },
  {
   "cell_type": "code",
   "execution_count": 40,
   "id": "fdf7b09b",
   "metadata": {},
   "outputs": [],
   "source": [
    "entropy_pat = os.path.join(entropy_dir, entropy_pat)"
   ]
  },
  {
   "cell_type": "code",
   "execution_count": 41,
   "id": "023442ab",
   "metadata": {},
   "outputs": [],
   "source": [
    "entropy_npy = np.load(entropy_pat)"
   ]
  },
  {
   "cell_type": "code",
   "execution_count": 42,
   "id": "44f5aa27",
   "metadata": {},
   "outputs": [
    {
     "ename": "SyntaxError",
     "evalue": "closing parenthesis ']' does not match opening parenthesis '(' (<ipython-input-42-c68205df0d2c>, line 1)",
     "output_type": "error",
     "traceback": [
      "\u001b[0;36m  File \u001b[0;32m\"<ipython-input-42-c68205df0d2c>\"\u001b[0;36m, line \u001b[0;32m1\u001b[0m\n\u001b[0;31m    entropies = [(entropy_npy[40,0,:,:], ]\u001b[0m\n\u001b[0m                                         ^\u001b[0m\n\u001b[0;31mSyntaxError\u001b[0m\u001b[0;31m:\u001b[0m closing parenthesis ']' does not match opening parenthesis '('\n"
     ]
    }
   ],
   "source": [
    "entropies = [(entropy_npy[40,0,:,:], ]"
   ]
  },
  {
   "cell_type": "code",
   "execution_count": null,
   "id": "312d2bee",
   "metadata": {},
   "outputs": [],
   "source": [
    "fig, axs = plt.subplots(nrows=2, ncols=2, figsize=(9, 6),\n",
    "                        subplot_kw={'xticks': [], 'yticks': []})\n",
    "\n",
    "for ax, interp_method in zip(axs.flat, methods):\n",
    "    ax.imshow(grid, interpolation=interp_method, cmap='viridis')\n",
    "    ax.set_title(str(interp_method))\n",
    "\n",
    "plt.tight_layout()\n",
    "plt.show()"
   ]
  },
  {
   "cell_type": "code",
   "execution_count": null,
   "id": "e34cd909",
   "metadata": {},
   "outputs": [],
   "source": [
    "plt.imshow(entropy_npy[40,0,:,:], entropy_npy[80,0,:,:])"
   ]
  },
  {
   "cell_type": "code",
   "execution_count": 45,
   "id": "d4c41688",
   "metadata": {},
   "outputs": [
    {
     "data": {
      "text/plain": [
       "<matplotlib.image.AxesImage at 0x7f5d47a77760>"
      ]
     },
     "execution_count": 45,
     "metadata": {},
     "output_type": "execute_result"
    },
    {
     "data": {
      "image/png": "[encoded data removed]",
      "text/plain": [
       "<Figure size 432x288 with 1 Axes>"
      ]
     },
     "metadata": {
      "needs_background": "light"
     },
     "output_type": "display_data"
    }
   ],
   "source": [
    "plt.imshow(entropy_npy[80,0,:,:])"
   ]
  },
  {
   "cell_type": "code",
   "execution_count": 46,
   "id": "3cd4cafb",
   "metadata": {},
   "outputs": [
    {
     "data": {
      "text/plain": [
       "<matplotlib.image.AxesImage at 0x7f5d479ee3d0>"
      ]
     },
     "execution_count": 46,
     "metadata": {},
     "output_type": "execute_result"
    },
    {
     "data": {
      "image/png": "[encoded data removed]",
      "text/plain": [
       "<Figure size 432x288 with 1 Axes>"
      ]
     },
     "metadata": {
      "needs_background": "light"
     },
     "output_type": "display_data"
    }
   ],
   "source": [
    "plt.imshow(entropy_npy[100,0,:,:])"
   ]
  },
  {
   "cell_type": "code",
   "execution_count": 47,
   "id": "10879c35",
   "metadata": {},
   "outputs": [
    {
     "data": {
      "text/plain": [
       "<matplotlib.image.AxesImage at 0x7f5d479d4dc0>"
      ]
     },
     "execution_count": 47,
     "metadata": {},
     "output_type": "execute_result"
    },
    {
     "data": {
      "image/png": "[encoded data removed]",
      "text/plain": [
       "<Figure size 432x288 with 1 Axes>"
      ]
     },
     "metadata": {
      "needs_background": "light"
     },
     "output_type": "display_data"
    }
   ],
   "source": [
    "plt.imshow(entropy_npy[120,0,:,:])"
   ]
  },
  {
   "cell_type": "code",
   "execution_count": null,
   "id": "9b816648",
   "metadata": {},
   "outputs": [],
   "source": []
  }
 ],
 "metadata": {
  "kernelspec": {
   "display_name": "Python 3",
   "language": "python",
   "name": "python3"
  },
  "language_info": {
   "codemirror_mode": {
    "name": "ipython",
    "version": 3
   },
   "file_extension": ".py",
   "mimetype": "text/x-python",
   "name": "python",
   "nbconvert_exporter": "python",
   "pygments_lexer": "ipython3",
   "version": "3.8.10"
  }
 },
 "nbformat": 4,
 "nbformat_minor": 5
}
