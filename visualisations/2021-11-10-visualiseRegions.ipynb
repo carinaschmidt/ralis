{
 "cells": [
  {
   "cell_type": "code",
   "execution_count": 1,
   "id": "ffe87c23",
   "metadata": {},
   "outputs": [],
   "source": [
    "import numpy as np\n"
   ]
  },
  {
   "cell_type": "code",
   "execution_count": null,
   "id": "baaea4df",
   "metadata": {},
   "outputs": [],
   "source": [
    "ckpt_path = \n",
    "exp_name_toload ="
   ]
  },
  {
   "cell_type": "code",
   "execution_count": 2,
   "id": "2275a8fc",
   "metadata": {},
   "outputs": [],
   "source": [
    "file = open(os.path.join(args.ckpt_path, args.exp_name_toload, 'labeled_set_' + str(n_ep) + '.txt'), 'r')\n",
    "for line in file:\n",
    "#line = file.readline()\n",
    "    # get img indices and region coordinates from labelled set\n",
    "    img_idx, coord_x_left_upper, coord_y_left_upper = line.rstrip('\\n').split(',') #removes \\n and splits by ,\n",
    "    img_idx, coord_x_left_upper, coord_y_left_upper = int(img_idx), int(coord_x_left_upper), int(coord_y_left_upper)\n",
    "\n",
    "    # add selected img idx to dict\n",
    "    # if idx already added, append with new region coordinates, else create new key\n",
    "    if img_idx in idx_region_dict.keys():\n",
    "        idx_region_dict[img_idx].append((coord_x_left_upper, coord_y_left_upper))\n",
    "    else:\n",
    "        idx_region_dict[img_idx] = [(coord_x_left_upper, coord_y_left_upper)]\n",
    "\n",
    "# iterate over dictionary with key: idx image, values: list of coordinate pairs    \n",
    "for key, values in idx_region_dict.items():\n",
    "    img_idx = key\n",
    "\n",
    "    img_path, mask_path, img_name = list_images[img_idx]\n",
    "    img, mask = np.load(img_path), np.load(mask_path)\n",
    "\n",
    "    coordinate_pairs = values\n",
    "    region_img = img\n",
    "    region_mask = mask\n",
    "\n",
    "    # for each region coordinates\n",
    "    for pair in coordinate_pairs:\n",
    "        coord_x_left_upper = pair[0]\n",
    "        coord_y_left_upper = pair[1]\n",
    "\n",
    "        coord_x_right_bottom = coord_x_left_upper + args.region_size[0] #region size is here 64\n",
    "        coord_y_right_bottom = coord_y_left_upper + args.region_size[0] \n",
    "\n",
    "        # crop regions\n",
    "        region_img = region_img[coord_y_left_upper: coord_y_right_bottom, coord_x_left_upper: coord_x_right_bottom]\n",
    "        region_mask = region_mask[coord_y_left_upper: coord_y_right_bottom, coord_x_left_upper: coord_x_right_bottom]\n",
    "\n",
    "        # mask out region of image\n",
    "        masked = np.full(mask.shape, 4)\n",
    "        masked[coord_y_left_upper: coord_y_right_bottom, coord_x_left_upper: coord_x_right_bottom] = region_mask\n",
    "        #img_copy[coord_y_left_upper: coord_y_right_bottom, coord_x_left_upper: coord_x_right_bottom] = 0\n",
    "\n",
    "        # region_img_v3 = img[coord_y_right_bottom+1: coord_y_left_upper+1, coord_x_left_upper: coord_x_right_bottom]\n",
    "        # region_mask_v3 = mask[coord_y_right_bottom+1: coord_y_left_upper+1, coord_x_left_upper: coord_x_right_bottom]\n",
    "        rc_params()\n",
    "        fig, ax = plt.subplots(3+len(pair)-1 , 2, figsize=(6,8))\n",
    "        plt.rcParams['font.size'] = '8'\n",
    "\n",
    "        ax[0,0].imshow(img, cmap='gray') #mask\n",
    "        ax[0,0].set_title(\"Original MRI slice\")\n",
    "        ax[0,1].imshow(mask) #mask\n",
    "        ax[0,1].set_title(\"Original mask\")\n",
    "        ax[1,0].imshow(region_img,cmap='gray') #image\n",
    "        ax[1,0].set_title(\"Selected MRI region\")\n",
    "        ax[1,1].imshow(region_mask) #mask\n",
    "        ax[1,1].set_title(\"Selected masked region\")\n",
    "\n",
    "        for row in range(0, len(3+len(pair))):\n",
    "        #fig.suptitle(\"Selected regions\", fontsize=10)    \n",
    "            ax[2,0].imshow(masked) #mask\n",
    "            ax[2,0].set_title(\"Masked out region\")\n",
    "            ax[2,1].axis('off')\n",
    "        #plt.show()\n",
    "        plt.savefig(os.path.join('/home/carina/Desktop/show_regions/2021-11-maskedOut/' + args.exp_name + '_' + img_name + '.png'))\n",
    "file.close()\n",
    "\n",
    "\n",
    "def rc_params():\n",
    "plt.rc('text', usetex=True)\n",
    "plt.rc('font', **{'family': 'serif', 'sans-serif': ['lmodern'], 'size': 20})\n",
    "plt.rc('axes', **{'titlesize': 18, 'labelsize': 18})\n",
    "plt.rc('xtick', **{'labelsize': 18})\n",
    "plt.rc('ytick', **{'labelsize': 18})\n",
    "plt.rc('legend', **{'fontsize': 18})\n",
    "plt.rc('figure', **{'figsize': (12,7)})"
   ]
  },
  {
   "cell_type": "code",
   "execution_count": null,
   "id": "2d6f57c5",
   "metadata": {},
   "outputs": [],
   "source": []
  }
 ],
 "metadata": {
  "kernelspec": {
   "display_name": "Python 3",
   "language": "python",
   "name": "python3"
  },
  "language_info": {
   "codemirror_mode": {
    "name": "ipython",
    "version": 3
   },
   "file_extension": ".py",
   "mimetype": "text/x-python",
   "name": "python",
   "nbconvert_exporter": "python",
   "pygments_lexer": "ipython3",
   "version": "3.8.10"
  }
 },
 "nbformat": 4,
 "nbformat_minor": 5
}
