{
 "cells": [
  {
   "cell_type": "code",
   "execution_count": 32,
   "metadata": {},
   "outputs": [],
   "source": [
    "import matplotlib\n",
    "import matplotlib.pyplot as plt\n",
    "import numpy as np\n",
    "import pandas as pd\n",
    "import matplotlib.pylab as pylab\n",
    "from matplotlib import rc"
   ]
  },
  {
   "cell_type": "code",
   "execution_count": 33,
   "metadata": {},
   "outputs": [],
   "source": [
    "import matplotlib.font_manager"
   ]
  },
  {
   "cell_type": "code",
   "execution_count": 34,
   "metadata": {},
   "outputs": [],
   "source": [
    "al_algo = [\"ImageNet\", \"MSD\", \"BraTS\", \"None\"]\n",
    "budget = [64, 128, 592, 960, 1184, 1424, 1904, 2384, 3568]\n",
    "#values = ['0.5\\%','128 (1\\%)', '593 (5\\%)', '960 (8\\%)', '1184 (10\\%)', '1424 (12\\%)', '1904 (16\\%)', '2384 (20\\%)', '3568 (30\\%)']\n",
    "values = ['0.5\\%','1\\%', '5\\%', '8\\%', '10\\%', '12\\%', '16\\%', '20\\%', '30\\%']\n",
    "#supervised_allTrain50patients = 0.914\n",
    "#RALIS pretrained on\n",
    "#ImageNet\n",
    "imageNet_mean = np.array([0.521, 0.662,  0.796, 0.840, 0.851,  0.881, 0.894,  0.903, 0.911])\n",
    "imageNet_std = np.array([0.11, 0.05, 0.02, 0.02, 0.02, 0.01, 0.01, 0.01, 0.01])\n",
    "# MSD\n",
    "msd_mean = np.array([0.255, 0.263, 0.405, 0.460, 0.601, 0.563, 0.733, 0.756,0.812])\n",
    "msd_std = np.array([0.007, 0.007, 0.136, 0.181, 0.148, 0.143, 0.134, 0.117, 0.090])\n",
    "#BraTS2018\n",
    "brats_mean = np.array([0.249, 0.295, 0.538, 0.581, 0.615, 0.692, 0.758, 0.833,0.805])\n",
    "brats_std = np.array([0.01, 0.06, 0.14, 0.15, 0.14, 0.12, 0.10, 0.05, 0.10])\n",
    "\n",
    "#None std Aug\n",
    "none_mean_std = np.array([0.248, 0.224, 0.432, 0.538, 0.564, 0.526, 0.656, 0.644, 0.660])\n",
    "none_std_std = np.array([0.012, 0.105, 0.166, 0.305, 0.303, 0.307, 0.266, 0.348, 0.338])\n",
    "\n",
    "#None RIRD\n",
    "none_mean_RIRD = np.array([0.247, 0.269, 0.522, 0.643, 0.685, 0.783, 0.814, 0.721, 0.824])\n",
    "none_std_RIRD = np.array([0.003, 0.035, 0.117, 0.187, 0.125, 0.020, 0.034, 0.240, 0.049])\n",
    "\n",
    "# ralis 2 pat\n",
    "#ralis_2pat_mean = np.array([0.474057  , 0.69284026, 0.82463372, 0.85787724, 0.88050497,0.88911125, 0.90334659, 0.91119586, 0.9147658])\n",
    "#ralis_2pat_std = np.array([0.15874778, 0.059556  , 0.01912065, 0.00633906, 0.00339736,0.00571887, 0.00237937, 0.00116586, 0.00222876])"
   ]
  },
  {
   "cell_type": "code",
   "execution_count": 35,
   "metadata": {},
   "outputs": [],
   "source": [
    "def rc_params():\n",
    "    plt.rc('text', usetex=True)\n",
    "    plt.rc('font', **{'family': 'serif', 'sans-serif': ['lmodern'], 'size': 20})\n",
    "    plt.rc('axes', **{'titlesize': 18, 'labelsize': 18})\n",
    "    plt.rc('xtick', **{'labelsize': 18})\n",
    "    plt.rc('ytick', **{'labelsize': 18})\n",
    "    plt.rc('legend', **{'fontsize': 18})\n",
    "    plt.rc('figure', **{'figsize': (12,7)})"
   ]
  },
  {
   "cell_type": "code",
   "execution_count": 36,
   "metadata": {},
   "outputs": [],
   "source": [
    "import matplotlib as mpl\n",
    "#mpl.rcParams['axes.prop_cycle'] = mpl.cycler(color=[\"#ca0020\",\"#0571b0\",  \"#FCBE11\", \"#808080\", \"#000000\"]) \n",
    "#FFC30B\n",
    "mpl.rcParams['axes.prop_cycle'] = mpl.cycler(color=[\"#E10600\",\"#0072B2\",\"#CC79A7\",\"#F3D500\",\"#009E73\", \"#0072B2\",\"#D55E00\",\"#0072B2\",\"#56B4E9\", \"#E69F00\", \"#F0E442\", \"#D55E00\"]) \n",
    "#mpl.rcParams['axes.prop_cycle'] = mpl.cycler(color=[\"#E10600\", \"#808080\", \"#F3D500\", \"#0080fe\", \"#000000\"]) "
   ]
  },
  {
   "cell_type": "code",
   "execution_count": 37,
   "metadata": {},
   "outputs": [],
   "source": [
    "# imageNet\n",
    "imgNet_lower_bound = np.subtract(imageNet_mean, imageNet_std)\n",
    "imgNet_upper_bound = np.add(imageNet_mean, imageNet_std)\n",
    "# msd\n",
    "msd_lower_bound = np.subtract(msd_mean, msd_std)\n",
    "msd_upper_bound = np.add(msd_mean, msd_std)\n",
    "#brats\n",
    "brats_lower_bound = np.subtract(brats_mean, brats_std)\n",
    "brats_upper_bound = np.add(brats_mean, brats_std)\n",
    "#none std\n",
    "none_mean_std_lower_bound = np.subtract(none_mean_std, none_std_std)\n",
    "none_mean_std_upper_bound = np.add(none_mean_std, none_std_std)\n",
    "#none RIRD\n",
    "# none_mean_RIRD_lower_bound = np.subtract(none_mean_RIRD, none_std_RIRD)\n",
    "# none_mean_RIRD_upper_bound = np.add(none_mean_RIRD, none_std_RIRD)"
   ]
  },
  {
   "cell_type": "code",
   "execution_count": 40,
   "metadata": {},
   "outputs": [
    {
     "name": "stdout",
     "output_type": "stream",
     "text": [
      "[0.521 0.662 0.796 0.84  0.851 0.881 0.894 0.903 0.911]\n",
      "[0.255 0.263 0.405 0.46  0.601 0.563 0.733 0.756 0.812]\n",
      "[0.249 0.295 0.538 0.581 0.615 0.692 0.758 0.833 0.805]\n",
      "[0.247 0.269 0.522 0.643 0.685 0.783 0.814 0.721 0.824]\n"
     ]
    }
   ],
   "source": [
    "fig = plt.figure()\n",
    "ax = fig.add_subplot(111)\n",
    "plt.setp(ax.spines.values(), linewidth=0.5, color='black')\n",
    "rc_params()\n",
    "algos = [imageNet_mean, msd_mean, brats_mean, none_mean_RIRD]\n",
    "lower_bounds = [imgNet_lower_bound, msd_lower_bound, brats_lower_bound,none_mean_std_lower_bound] #none_mean_RIRD_lower_bound]\n",
    "upper_bounds = [imgNet_upper_bound, msd_upper_bound, brats_upper_bound, none_mean_std_upper_bound]#none_mean_RIRD_upper_bound]\n",
    "for i, algo in enumerate(algos):\n",
    "    print(algo)\n",
    "    plt.plot(budget, algo, label=al_algo[i], marker='o', markersize=5)\n",
    "    plt.fill_between(budget, lower_bounds[i], upper_bounds[i], alpha=0.3)\n",
    "#plt.plot(budget, 9*[supervised_allTrain50patients], label = al_algo[4], linestyle='--', linewidth=1.0, color='black')\n",
    "plt.xticks(budget, values)\n",
    "\n",
    "plt.xticks(rotation=90)\n",
    "plt.xlabel('Budget (percentage of regions labelled)')\n",
    "#plt.xscale('log')\n",
    "plt.autoscale(enable=True, axis='x')\n",
    "plt.xlim(50, 3580)\n",
    "plt.ylabel('Test 3D dice score')\n",
    "plt.legend()\n",
    "plt.tight_layout()\n",
    "plt.savefig(\"ACDC-Exp1-PreTraining\")\n",
    "name = 'ACDC-PreTraining'\n",
    "plt.savefig(f'{name}.pdf', bbox_inches='tight')\n",
    "plt.close()"
   ]
  },
  {
   "cell_type": "code",
   "execution_count": 39,
   "metadata": {},
   "outputs": [],
   "source": [
    "################# using RC parameters\n",
    "# plt.rc('text', usetex=True)\n",
    "# plt.rc('font', **{'family': 'serif', 'sans-serif': ['lmodern'], 'size': 18})\n",
    "# plt.rc('axes', **{'titlesize': 18, 'labelsize': 18})\n",
    "\n",
    "#plt.tight_layout()\n",
    "# define OUT_PATH, name\n",
    "#OUT_PATH = '~/ralis/visualisations/'\n",
    "name = 'ACDC-PreTraining'\n",
    "plt.savefig(f'{name}.pdf', bbox_inches='tight')\n",
    "plt.close()"
   ]
  },
  {
   "cell_type": "code",
   "execution_count": null,
   "metadata": {},
   "outputs": [],
   "source": []
  },
  {
   "cell_type": "code",
   "execution_count": null,
   "metadata": {},
   "outputs": [],
   "source": []
  },
  {
   "cell_type": "code",
   "execution_count": null,
   "metadata": {},
   "outputs": [],
   "source": []
  },
  {
   "cell_type": "code",
   "execution_count": null,
   "metadata": {},
   "outputs": [],
   "source": []
  },
  {
   "cell_type": "code",
   "execution_count": null,
   "metadata": {},
   "outputs": [],
   "source": []
  },
  {
   "cell_type": "code",
   "execution_count": null,
   "metadata": {},
   "outputs": [],
   "source": []
  },
  {
   "cell_type": "code",
   "execution_count": null,
   "metadata": {},
   "outputs": [],
   "source": []
  },
  {
   "cell_type": "code",
   "execution_count": null,
   "metadata": {},
   "outputs": [],
   "source": []
  },
  {
   "cell_type": "code",
   "execution_count": null,
   "metadata": {},
   "outputs": [],
   "source": []
  }
 ],
 "metadata": {
  "interpreter": {
   "hash": "916dbcbb3f70747c44a77c7bcd40155683ae19c65e1c03b4aa3499c5328201f1"
  },
  "kernelspec": {
   "display_name": "Python 3",
   "language": "python",
   "name": "python3"
  },
  "language_info": {
   "codemirror_mode": {
    "name": "ipython",
    "version": 3
   },
   "file_extension": ".py",
   "mimetype": "text/x-python",
   "name": "python",
   "nbconvert_exporter": "python",
   "pygments_lexer": "ipython3",
   "version": "3.8.10"
  }
 },
 "nbformat": 4,
 "nbformat_minor": 2
}
