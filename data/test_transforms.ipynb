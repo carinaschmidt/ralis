{
 "cells": [
  {
   "cell_type": "code",
   "execution_count": 1,
   "metadata": {},
   "outputs": [],
   "source": [
    "import random\n",
    "import torch\n",
    "import numpy as np\n",
    "import matplotlib.pyplot as plt\n",
    "import torch.nn.functional as F\n",
    "import torch.nn as nn\n",
    "import math\n",
    "import numbers\n",
    "import random\n",
    "import torch\n",
    "import torchvision.transforms as transf\n",
    "from skimage.transform import rescale, resize, downscale_local_mean\n",
    "import torch.nn.functional as F\n",
    "from skimage.transform import resize, rotate\n",
    "from torchvision.transforms.transforms import RandomCrop as RandomCr\n",
    "#import F.functional_tensor as F_t\n",
    "from torchvision.transforms import functional_tensor as F_t\n",
    "import torchvision.transforms.functional as TVF\n",
    "import cv2\n",
    "#from PIL import Image, ImageOps\n",
    "import numpy as np\n"
   ]
  },
  {
   "cell_type": "code",
   "execution_count": 3,
   "metadata": {},
   "outputs": [
    {
     "data": {
      "text/plain": [
       "array({'d_s': ['pat_61_'], 'd_t': ['pat_2_', 'pat_10_', 'pat_22_', 'pat_30_', 'pat_42_', 'pat_50_', 'pat_62_', 'pat_70_', 'pat_82_', 'pat_90_'], 'd_r': ['pat_19_', 'pat_20_', 'pat_39_', 'pat_40_', 'pat_59_', 'pat_60_', 'pat_79_', 'pat_80_', 'pat_99_', 'pat_100_'], 'd_v': ['pat_1_', 'pat_3_', 'pat_4_', 'pat_5_', 'pat_6_', 'pat_7_', 'pat_8_', 'pat_9_', 'pat_21_', 'pat_23_', 'pat_24_', 'pat_25_', 'pat_26_', 'pat_27_', 'pat_28_', 'pat_29_', 'pat_41_', 'pat_43_', 'pat_44_', 'pat_45_', 'pat_46_', 'pat_47_', 'pat_48_', 'pat_49_', 'pat_63_', 'pat_64_', 'pat_65_', 'pat_66_', 'pat_67_', 'pat_68_', 'pat_69_', 'pat_81_', 'pat_83_', 'pat_84_', 'pat_85_', 'pat_86_', 'pat_87_', 'pat_88_', 'pat_89_']},\n",
       "      dtype=object)"
      ]
     },
     "execution_count": 3,
     "metadata": {},
     "output_type": "execute_result"
    }
   ],
   "source": [
    "np.load(\"acdc_al_splits.npy\", allow_pickle=True)"
   ]
  },
  {
   "cell_type": "code",
   "execution_count": 2,
   "metadata": {},
   "outputs": [],
   "source": [
    "img_npy = '/mnt/qb/baumgartner/cschmidt77_data/acdc/slices/train/pat_7_diag_2_frame_01_slice_5.npy'\n",
    "mask_npy = '/mnt/qb/baumgartner/cschmidt77_data/acdc/gt/train/pat_7_diag_2_frame_01_slice_5.npy'\n",
    "img, mask = np.load(img_npy), np.load(mask_npy)"
   ]
  },
  {
   "cell_type": "code",
   "execution_count": 3,
   "metadata": {},
   "outputs": [],
   "source": [
    "img = torch.from_numpy(img)\n",
    "mask = torch.from_numpy(mask).long()"
   ]
  },
  {
   "cell_type": "code",
   "execution_count": null,
   "metadata": {},
   "outputs": [],
   "source": [
    "class RandomCropRegion(object):\n",
    "    def __init__(self, size, padding=0, region_size=(128, 128)):\n",
    "        if isinstance(size, numbers.Number):\n",
    "            self.size = (int(size), int(size))\n",
    "        else:\n",
    "            self.size = size\n",
    "        self.padding = padding\n",
    "        self.region_size = region_size\n",
    "\n",
    "    def __call__(self, img, mask, region):\n",
    "        if self.padding > 0:\n",
    "            pad_img = nn.ConstantPad2d(self.padding, img.min().item()) #padding with the smallest value in tensor (not 0!)\n",
    "            pad_mask = nn.ConstantPad2d(self.padding, mask.min().item())\n",
    "            img = pad_img(img)\n",
    "            mask = pad_mask(mask)\n",
    "        assert img.shape == mask.shape\n",
    "        w, h = img.shape #img.size\n",
    "        th, tw = self.size\n",
    "        if w == tw and h == th:\n",
    "            return img, mask\n",
    "        if w < tw or h < th:\n",
    "            img_resized, mask_resized = resize(img, (tw, th), anti_aliasing=True), resize(mask, (tw, th), anti_aliasing=True)\n",
    "            img, mask = torch.from_numpy(img_resized), torch.from_numpy(mask_resized)\n",
    "            return img, mask#img.resize((tw, th), torch.nn.Upsample('Bilinear')), mask.resize((tw, th), torch.nn.Upsample('nearest'))\n",
    "\n",
    "        # Get upper left corner of the crop\n",
    "        y1 = random.randint(max(0, region[1] + self.region_size[1] // 2 - th),\n",
    "                            min(region[1] + self.region_size[1] // 2, h - th))\n",
    "        x1 = random.randint(max(0, region[0] + self.region_size[0] // 2 - tw),\n",
    "                            min(region[0] + self.region_size[0] // 2, w - tw))\n",
    "\n",
    "        img = img[x1:x1+tw, y1:y1+th]\n",
    "        mask = mask[x1:x1+tw, y1:y1+th]\n",
    "        \n",
    "        return img, mask"
   ]
  },
  {
   "cell_type": "code",
   "execution_count": null,
   "metadata": {},
   "outputs": [],
   "source": [
    "random_cr = RandomCropRegion((200,200), padding=1, region_size=(200, 200))\n",
    "rcr_croppi = random_cr(img, mask, (0,100))"
   ]
  },
  {
   "cell_type": "code",
   "execution_count": null,
   "metadata": {},
   "outputs": [],
   "source": [
    "plt.imshow(rcr_croppi[0])"
   ]
  },
  {
   "cell_type": "code",
   "execution_count": null,
   "metadata": {},
   "outputs": [],
   "source": [
    "class CropRegion(object):\n",
    "    '''\n",
    "    Crops the image so that the region is always contained inside\n",
    "    '''\n",
    "\n",
    "    def __init__(self, size, padding=0, region_size=128):\n",
    "        if isinstance(size, numbers.Number):\n",
    "            self.size = (int(size), int(size))\n",
    "        else:\n",
    "            self.size = size\n",
    "        self.padding = padding\n",
    "        self.region_size = 128\n",
    "\n",
    "    def __call__(self, img, mask, region):\n",
    "        if self.padding > 0:\n",
    "            #img = ImageOps.expand(img, border=self.padding, fill=0)\n",
    "            #mask = ImageOps.expand(mask, border=self.padding, fill=0)\n",
    "            pad_img = nn.ConstantPad2d(self.padding, img.min().item()) #padding with the smallest value in tensor (not 0!)\n",
    "            pad_mask = nn.ConstantPad2d(self.padding, mask.min().item())\n",
    "            img = pad_img(img)\n",
    "            mask = pad_mask(mask)\n",
    "        #img = F.pad(img, padding = (self.padding, self.padding, self.padding, self.padding), mode='constant', value=0)\n",
    "        assert img.shape == mask.shape#assert img.size == mask.size\n",
    "        w, h = img.shape #img.size\n",
    "        th, tw = self.size\n",
    "        if w == tw and h == th:\n",
    "            return img, mask\n",
    "        if w < tw or h < th:\n",
    "            img_resized, mask_resized = resize(img, (tw, th), anti_aliasing=True), resize(mask, (tw, th), anti_aliasing=True)\n",
    "            img, mask = torch.from_numpy(img_resized), torch.from_numpy(mask_resized)\n",
    "            return img, mask\n",
    "            #return img.resize((tw, th), Image.BILINEAR), mask.resize((tw, th), Image.NEAREST)\n",
    "            #return img.resize((tw, th), torch.nn.Upsample('Bilinear')), mask.resize((tw, th), torch.nn.Upsample('nearest'))\n",
    "        # Get upper left corner of the crop\n",
    "        y1 = random.randint(max(0, region[1] + self.region_size - th), min(region[1], h - th))\n",
    "        x1 = random.randint(max(0, region[0] + self.region_size - tw), min(region[0], w - tw))\n",
    "\n",
    "        #img_cropped = crop(img, ((x1, x1+tw), (y1, y1+th)), copy=False)\n",
    "        #mask_cropped = crop(mask, ((x1, x1+tw), (y1, y1+th)), copy=False)\n",
    "        #img, mask = torch.from_numpy(img_cropped), torch.from_numpy(mask_cropped)\n",
    "        img = img[x1:x1+tw, y1:y1+th]\n",
    "        mask = mask[x1:x1+tw, y1:y1+th]\n",
    "        return img, mask"
   ]
  },
  {
   "cell_type": "code",
   "execution_count": null,
   "metadata": {},
   "outputs": [],
   "source": [
    "cr = CropRegion((180,180), padding=1, region_size=(128, 128))\n",
    "cr_croppi = cr(image_resized, mask_resized, [80,90])"
   ]
  },
  {
   "cell_type": "code",
   "execution_count": null,
   "metadata": {},
   "outputs": [],
   "source": [
    "plt.imshow(cr_croppi[0])"
   ]
  },
  {
   "cell_type": "code",
   "execution_count": null,
   "metadata": {},
   "outputs": [],
   "source": [
    "class RandomHorizontallyFlip(object):\n",
    "    def __call__(self, img, mask, region=None):\n",
    "        #if random.random() < 0.5:\n",
    "            #return img.transpose(Image.FLIP_LEFT_RIGHT), mask.transpose(Image.FLIP_LEFT_RIGHT)\n",
    "            #print('img.shape: ', type(img))\n",
    "        img = torch.from_numpy(img)\n",
    "        return TVF.hflip(img), TVF.hflip(mask)\n",
    "        #return img, mask"
   ]
  },
  {
   "cell_type": "code",
   "execution_count": null,
   "metadata": {},
   "outputs": [],
   "source": [
    "rhf = RandomHorizontallyFlip()\n",
    "flippe = rhf(img, mask)"
   ]
  },
  {
   "cell_type": "code",
   "execution_count": null,
   "metadata": {},
   "outputs": [],
   "source": [
    "flippe"
   ]
  },
  {
   "cell_type": "code",
   "execution_count": null,
   "metadata": {},
   "outputs": [],
   "source": [
    "plt.imshow(flippe[0])"
   ]
  },
  {
   "cell_type": "code",
   "execution_count": null,
   "metadata": {},
   "outputs": [],
   "source": [
    "plt.imshow(img_t)"
   ]
  },
  {
   "cell_type": "code",
   "execution_count": null,
   "metadata": {},
   "outputs": [],
   "source": [
    "def crop_or_pad_slice_to_size(self, img_slice, nx, ny):\n",
    "    \"\"\"\n",
    "    To crop the input 2D slice for the given dimensions\n",
    "    input params :\n",
    "        image_slice : 2D slice to be cropped\n",
    "        nx : dimension in x\n",
    "        ny : dimension in y\n",
    "    returns:\n",
    "        slice_cropped : cropped 2D slice\n",
    "    \"\"\"\n",
    "    slice_cropped=np.zeros((nx,ny))\n",
    "    x, y = img_slice.shape\n",
    "\n",
    "    x_s = (x - nx) // 2\n",
    "    y_s = (y - ny) // 2\n",
    "    x_c = (nx - x) // 2\n",
    "    y_c = (ny - y) // 2\n",
    "\n",
    "    if x > nx and y > ny:\n",
    "        slice_cropped = img_slice[x_s:x_s + nx, y_s:y_s + ny]\n",
    "    else:\n",
    "        slice_cropped = np.zeros((nx, ny))\n",
    "        if x <= nx and y > ny:\n",
    "            slice_cropped[x_c:x_c + x, :] = img_slice[:, y_s:y_s + ny]\n",
    "        elif x > nx and y <= ny:\n",
    "            slice_cropped[:, y_c:y_c + y] = img_slice[x_s:x_s + nx, :]\n",
    "        else:\n",
    "            slice_cropped[x_c:x_c + x, y_c:y_c + y] = img_slice[:, :]\n",
    "\n",
    "    return slice_cropped"
   ]
  },
  {
   "cell_type": "code",
   "execution_count": null,
   "metadata": {},
   "outputs": [],
   "source": [
    "from skimage import transform\n",
    "class Scale_Random(object):\n",
    "    def __call__(self, img, mask, region=None):\n",
    "        assert img.shape == mask.shape #assert img.size == mask.size\n",
    "        n_x, n_y = img.shape\n",
    "        #scale factor between 0.9 and 1.1\n",
    "        scale_fact_min=0.9\n",
    "        scale_fact_max=1.1\n",
    "        scale_val = round(random.uniform(scale_fact_min,scale_fact_max), 2)\n",
    "        slice_rescaled = transform.rescale(img, scale_val, order=1, preserve_range=True, mode = 'constant')\n",
    "        img = crop_or_pad_slice_to_size(self, slice_rescaled, n_x, n_y)\n",
    "        return img, mask"
   ]
  },
  {
   "cell_type": "code",
   "execution_count": null,
   "metadata": {},
   "outputs": [],
   "source": [
    "scale_obj = Scale_Random()\n",
    "scaled_img_mask = scale_obj(img_t, mask)\n"
   ]
  },
  {
   "cell_type": "code",
   "execution_count": null,
   "metadata": {},
   "outputs": [],
   "source": [
    "plt.imshow(scaled_img_mask[0])"
   ]
  },
  {
   "cell_type": "code",
   "execution_count": null,
   "metadata": {},
   "outputs": [],
   "source": [
    "class FreeScale(object):\n",
    "    def __init__(self, size):\n",
    "        self.size = tuple(reversed(size))  # size: (h, w)\n",
    "\n",
    "    def __call__(self, img, mask):\n",
    "        assert img.shape == mask.shape #assert img.size == mask.size\n",
    "        #return img.resize(self.size, Image.BILINEAR), mask.resize(self.size, Image.NEAREST)\n",
    "        img_resized, mask_resized = resize(img, self.size, anti_aliasing=True), resize(mask, self.size, anti_aliasing=True)\n",
    "        img, mask = torch.from_numpy(img_resized), torch.from_numpy(mask_resized)\n",
    "        return img, mask"
   ]
  },
  {
   "cell_type": "code",
   "execution_count": null,
   "metadata": {},
   "outputs": [],
   "source": [
    "class SmallRotation(object):\n",
    "    def __call__(self, img, mask):\n",
    "        angles = [-15,15]\n",
    "        random_angle = np.random.uniform(angles[0], angles[1])\n",
    "        return rotate(img, random_angle), rotate(mask, random_angle)\n"
   ]
  },
  {
   "cell_type": "code",
   "execution_count": null,
   "metadata": {},
   "outputs": [],
   "source": [
    "class RandomRotation(object):\n",
    "    def __call__(self, img, mask):\n",
    "        fixed_angle = 45\n",
    "        random_angle = np.random.randint(8)*fixed_angle\n",
    "        img, mask = rotate(img, random_angle), rotate(mask, random_angle)\n",
    "        return torch.from_numpy(img), torch.from_numpy(mask)\n"
   ]
  },
  {
   "cell_type": "code",
   "execution_count": null,
   "metadata": {},
   "outputs": [],
   "source": [
    "img_t = torch.from_numpy(img)"
   ]
  },
  {
   "cell_type": "code",
   "execution_count": null,
   "metadata": {},
   "outputs": [],
   "source": [
    "rr = RandomRotation()\n",
    "rr_img_mask = rr(img_t, mask)"
   ]
  },
  {
   "cell_type": "code",
   "execution_count": null,
   "metadata": {},
   "outputs": [],
   "source": [
    "img_flipped = np.fliplr(img)"
   ]
  },
  {
   "cell_type": "code",
   "execution_count": null,
   "metadata": {},
   "outputs": [],
   "source": [
    "plt.imshow(img_flipped)"
   ]
  },
  {
   "cell_type": "code",
   "execution_count": null,
   "metadata": {},
   "outputs": [],
   "source": [
    "rr_img_mask[0].shape"
   ]
  },
  {
   "cell_type": "code",
   "execution_count": null,
   "metadata": {},
   "outputs": [],
   "source": [
    "rr_img_mask.shape"
   ]
  },
  {
   "cell_type": "code",
   "execution_count": null,
   "metadata": {},
   "outputs": [],
   "source": [
    "plt.imshow(rr_img_mask[0])"
   ]
  },
  {
   "cell_type": "code",
   "execution_count": null,
   "metadata": {},
   "outputs": [],
   "source": [
    "class Scale(object):\n",
    "    def __init__(self, size):\n",
    "        self.size = size\n",
    "\n",
    "    def __call__(self, img, mask, region=None):\n",
    "        assert img.shape == mask.shape #assert img.size == mask.size\n",
    "        w, h = img.shape #img.size\n",
    "        if (w >= h and w == self.size) or (h >= w and h == self.size):\n",
    "            return img, mask\n",
    "        if w > h:\n",
    "            ow = self.size\n",
    "            oh = int(self.size * h / w)\n",
    "            #return img.resize((ow, oh), Image.BILINEAR), mask.resize((ow, oh), Image.NEAREST)\n",
    "            img_resized, mask_resized = resize(img, (ow, oh), anti_aliasing=True), resize(mask, (ow, oh), anti_aliasing=True)\n",
    "            img, mask = torch.from_numpy(img_resized), torch.from_numpy(mask_resized)\n",
    "            return img, mask\n",
    "        else:\n",
    "            oh = self.size\n",
    "            ow = int(self.size * w / h)\n",
    "            #return img.resize((ow, oh), Image.BILINEAR), mask.resize((ow, oh), Image.NEAREST)\n",
    "            img_resized, mask_resized = resize(img, (ow, oh), anti_aliasing=True), resize(mask, (ow, oh), anti_aliasing=True)\n",
    "            img, mask = torch.from_numpy(img_resized), torch.from_numpy(mask_resized)\n",
    "            return img, mask"
   ]
  },
  {
   "cell_type": "code",
   "execution_count": null,
   "metadata": {},
   "outputs": [],
   "source": [
    "scale = Scale(80)\n",
    "sc = scale(img, mask)"
   ]
  },
  {
   "cell_type": "code",
   "execution_count": null,
   "metadata": {},
   "outputs": [],
   "source": [
    "plt.imshow(sc[0])"
   ]
  },
  {
   "cell_type": "code",
   "execution_count": null,
   "metadata": {},
   "outputs": [],
   "source": [
    "class RandomVerticalFlip(object):\n",
    "    def __call__(self, img):\n",
    "        if random.random() < 0.5:\n",
    "            #return img.transpose(Image.FLIP_LEFT_RIGHT), mask.transpose(Image.FLIP_LEFT_RIGHT)\n",
    "            #print('img.shape: ', type(img))\n",
    "            return TVF.vflip(img)\n",
    "        else:\n",
    "            return img"
   ]
  },
  {
   "cell_type": "code",
   "execution_count": null,
   "metadata": {},
   "outputs": [],
   "source": [
    "rvf = RandomVerticalFlip()\n",
    "rf = rvf(img)\n",
    "plt.imshow(rf)"
   ]
  },
  {
   "cell_type": "code",
   "execution_count": null,
   "metadata": {},
   "outputs": [],
   "source": [
    "import elasticdeform.torch as etorch"
   ]
  },
  {
   "cell_type": "code",
   "execution_count": null,
   "metadata": {},
   "outputs": [],
   "source": [
    "class ElasticTransform(object):\n",
    "    def __call__(self, X, mask):\n",
    "        X_val = np.random.rand(200, 300)\n",
    "        dY_val = np.random.rand(200, 300)\n",
    "        displacement_val = np.random.randn(2, 3, 3)*5\n",
    "        displacement = torch.tensor(displacement_val)\n",
    "        X = np.array(X)\n",
    "        X = torch.tensor(X_val, requires_grad=True)\n",
    "        dY = torch.tensor(dY_val)\n",
    "        X_deformed = etorch.deform_grid(X, displacement, order=3)\n",
    "        X_deformed.backward(dY)\n",
    "        return X_deformed\n",
    "        "
   ]
  },
  {
   "cell_type": "code",
   "execution_count": null,
   "metadata": {},
   "outputs": [],
   "source": [
    "el = ElasticTransform()\n",
    "el_img = el(img, mask)"
   ]
  },
  {
   "cell_type": "code",
   "execution_count": null,
   "metadata": {},
   "outputs": [],
   "source": [
    "from scipy.ndimage.filters import gaussian_filter\n",
    "from scipy.ndimage.interpolation import map_coordinates"
   ]
  },
  {
   "cell_type": "code",
   "execution_count": null,
   "metadata": {},
   "outputs": [],
   "source": [
    "class ElasticDeformation(object):\n",
    "    def __call__(self, image, mask, alpha_range, sigma, random_state=None):\n",
    "        \"\"\"Elastic deformation of images as described in Simard, Steinkraus and Platt, \"Best Practices for\n",
    "        Convolutional Neural Networks applied to Visual Document Analysis\", in Proc. of the International Conference on Document Analysis and\n",
    "        Recognition, 2003.\n",
    "\n",
    "        # Arguments\n",
    "        image: Numpy array with shape (height, width, channels). \n",
    "        alpha_range: Float for fixed value or [lower, upper] for random value from uniform distribution.\n",
    "        Controls intensity of deformation.\n",
    "        sigma: Float, sigma of gaussian filter that smooths the displacement fields.\n",
    "        random_state: `numpy.random.RandomState` object for generating displacement fields.\n",
    "        \"\"\"\n",
    "        assert image.shape == mask.shape\n",
    "        if random_state is None:\n",
    "            random_state = np.random.RandomState(None)\n",
    "\n",
    "        if np.isscalar(alpha_range):\n",
    "            alpha = alpha_range\n",
    "        else:\n",
    "            alpha = np.random.uniform(low=alpha_range[0], high=alpha_range[1])\n",
    "\n",
    "        shape = image.shape\n",
    "        dx = gaussian_filter((random_state.rand(*shape) * 2 - 1), sigma) * alpha\n",
    "        dy = gaussian_filter((random_state.rand(*shape) * 2 - 1), sigma) * alpha\n",
    "\n",
    "        x, y = np.meshgrid(np.arange(shape[0]), np.arange(shape[1]), indexing='ij')#np.arange(shape[2]), indexing='ij')\n",
    "        indices = np.reshape(x+dx, (-1, 1)), np.reshape(y+dy, (-1, 1))#, np.reshape(z, (-1, 1))\n",
    "\n",
    "        img = map_coordinates(image, indices, order=1, mode='reflect').reshape(shape)\n",
    "        mask = map_coordinates(mask, indices, order=1, mode='reflect').reshape(shape)\n",
    "\n",
    "        return torch.from_numpy(img), torch.from_numpy(mask)"
   ]
  },
  {
   "cell_type": "code",
   "execution_count": null,
   "metadata": {},
   "outputs": [],
   "source": [
    "# alpha controls deformation intensity and sigma controls displacement field smoothing\n",
    "et = ElasticDeformation()\n",
    "elt, mask_elt = et(img_t, mask, 100, 7, None)"
   ]
  },
  {
   "cell_type": "code",
   "execution_count": null,
   "metadata": {},
   "outputs": [],
   "source": [
    "plt.imshow(elt)"
   ]
  },
  {
   "cell_type": "code",
   "execution_count": null,
   "metadata": {},
   "outputs": [],
   "source": [
    "plt.imshow(mask_elt)"
   ]
  },
  {
   "cell_type": "code",
   "execution_count": null,
   "metadata": {},
   "outputs": [],
   "source": [
    "elt.shape"
   ]
  },
  {
   "cell_type": "code",
   "execution_count": null,
   "metadata": {},
   "outputs": [],
   "source": [
    "plt.imshow(img_t)"
   ]
  },
  {
   "cell_type": "code",
   "execution_count": null,
   "metadata": {},
   "outputs": [],
   "source": [
    "import torchvision"
   ]
  },
  {
   "cell_type": "code",
   "execution_count": null,
   "metadata": {},
   "outputs": [],
   "source": [
    "def color_jitter(img, mask, brightness=0, contrast=0, saturation=0, hue=0):\n",
    "    # Create img transform function sequence\n",
    "    img = torch.stack((img, img, img), dim=0)\n",
    "    mask = torch.stack((mask, mask, mask), dim=0)\n",
    "    img_transforms = []\n",
    "\n",
    "    if np.isscalar(brightness):\n",
    "        brightness = brightness\n",
    "    else:\n",
    "        brightness = np.random.uniform(low=brightness[0], high=brightness[1])\n",
    "    \n",
    "    if np.isscalar(contrast):\n",
    "        contrast = contrast\n",
    "    else:\n",
    "        contrast = np.random.uniform(low=contrast[0], high=contrast[1])\n",
    "    \n",
    "    if np.isscalar(saturation):\n",
    "        saturation = saturation\n",
    "    else:\n",
    "        saturation = np.random.uniform(low=saturation[0], high=saturation[1])\n",
    "    \n",
    "    if np.isscalar(hue):\n",
    "        hue = hue\n",
    "    else:\n",
    "        hue = np.random.uniform(low=hue[0], high=hue[1])\n",
    "\n",
    "    if brightness is not None:\n",
    "        img_transforms.append(lambda img: torchvision.transforms.functional.adjust_brightness(img, brightness))\n",
    "    if saturation is not None:\n",
    "        img_transforms.append(lambda img: torchvision.transforms.functional.adjust_saturation(img, saturation))\n",
    "    if hue is not None:\n",
    "        img_transforms.append(\n",
    "            lambda img: torchvision.transforms.functional.adjust_hue(img, hue))\n",
    "    if contrast is not None:\n",
    "        img_transforms.append(lambda img: torchvision.transforms.functional.adjust_contrast(img, contrast))\n",
    "    random.shuffle(img_transforms)\n",
    "\n",
    "    jittered_img = img\n",
    "    print(jittered_img.shape)\n",
    "    #jittered_img = torch.reshape(jittered_img, (256,256))\n",
    "    for func in img_transforms:\n",
    "        jittered_img = func(jittered_img)\n",
    "        jittered_mask = func(mask)\n",
    "\n",
    "    return jittered_img[0], jittered_mask[0]"
   ]
  },
  {
   "cell_type": "code",
   "execution_count": null,
   "metadata": {},
   "outputs": [],
   "source": [
    "jittered, jittered_mask = color_jitter(img_t, mask, brightness=[0.1, 0.9], contrast=[0.1,0.9], saturation=[0.1,0.9], hue = [-0.3, 0.3])"
   ]
  },
  {
   "cell_type": "code",
   "execution_count": null,
   "metadata": {},
   "outputs": [],
   "source": [
    "class RandomContrastBrightness(object):\n",
    "    def __call__(img, mask, brightness=None, contrast=None, saturation=None, hue=None):\n",
    "        # Create img transform function sequence\n",
    "        img = torch.stack((img, img, img), dim=0)\n",
    "        mask = torch.stack((mask, mask, mask), dim=0)\n",
    "        img_transforms = []\n",
    "\n",
    "        if np.isscalar(brightness):\n",
    "            brightness = brightness\n",
    "        else:\n",
    "            brightness = np.random.uniform(low=brightness[0], high=brightness[1])\n",
    "        \n",
    "        if np.isscalar(contrast):\n",
    "            contrast = contrast\n",
    "        else:\n",
    "            contrast = np.random.uniform(low=contrast[0], high=contrast[1])\n",
    "        \n",
    "        if np.isscalar(saturation):\n",
    "            saturation = saturation\n",
    "        else:\n",
    "            saturation = np.random.uniform(low=saturation[0], high=saturation[1])\n",
    "        \n",
    "        if np.isscalar(hue):\n",
    "            hue = hue\n",
    "        else:\n",
    "            hue = np.random.uniform(low=hue[0], high=hue[1])\n",
    "\n",
    "        if brightness is not None:\n",
    "            img_transforms.append(lambda img: torchvision.transforms.functional.adjust_brightness(img, brightness))\n",
    "        if saturation is not None:\n",
    "            img_transforms.append(lambda img: torchvision.transforms.functional.adjust_saturation(img, saturation))\n",
    "        if hue is not None:\n",
    "            img_transforms.append(\n",
    "                lambda img: torchvision.transforms.functional.adjust_hue(img, hue))\n",
    "        if contrast is not None:\n",
    "            img_transforms.append(lambda img: torchvision.transforms.functional.adjust_contrast(img, contrast))\n",
    "        random.shuffle(img_transforms)\n",
    "\n",
    "        jittered_img = img\n",
    "        print(jittered_img.shape)\n",
    "        #jittered_img = torch.reshape(jittered_img, (256,256))\n",
    "        for func in img_transforms:\n",
    "            jittered_img = func(jittered_img)\n",
    "            jittered_mask = func(mask)\n",
    "\n",
    "        return jittered_img[0], jittered_mask[0]"
   ]
  },
  {
   "cell_type": "code",
   "execution_count": null,
   "metadata": {},
   "outputs": [],
   "source": [
    "class RandomContrastBrightness(object):\n",
    "    def __call__(self, img, mask, region=None):\n",
    "        # Create img transform function sequence\n",
    "        assert img.shape == mask.shape\n",
    "        if random.random() < 0.5:\n",
    "            print(\"Random Contrast Brightness\")\n",
    "            brightness=[0.01, 0.99]\n",
    "            contrast=[-127, 127]\n",
    "            brightness = np.random.uniform(low=brightness[0], high=brightness[1])\n",
    "            contrast = np.random.uniform(low=contrast[0], high=contrast[1])\n",
    "            img = brightness * img + contrast\n",
    "        return img, mask"
   ]
  },
  {
   "cell_type": "code",
   "execution_count": null,
   "metadata": {},
   "outputs": [],
   "source": [
    "rCB = RandomContrastBrightness()"
   ]
  },
  {
   "cell_type": "code",
   "execution_count": null,
   "metadata": {},
   "outputs": [],
   "source": [
    "img_cont, mask_cont = rCB(img, mask)"
   ]
  },
  {
   "cell_type": "code",
   "execution_count": null,
   "metadata": {},
   "outputs": [],
   "source": [
    "img_cont"
   ]
  },
  {
   "cell_type": "code",
   "execution_count": null,
   "metadata": {},
   "outputs": [],
   "source": [
    "#fig, ax = plt.subplots(1,1, figsize=(10,8))\n",
    "#ax[0].imshow(img_cont) #mask\n",
    "#ax[1].imshow(img) #mask\n",
    "plt.imshow(img_cont)"
   ]
  },
  {
   "cell_type": "code",
   "execution_count": null,
   "metadata": {},
   "outputs": [],
   "source": [
    "fig, ax = plt.subplots(1,2, figsize=(10,8))\n",
    "ax[0].imshow(mask) #mask\n",
    "ax[1].imshow(mask_cont) #mask"
   ]
  },
  {
   "cell_type": "code",
   "execution_count": null,
   "metadata": {},
   "outputs": [],
   "source": [
    "mask = torch.from_numpy(mask)"
   ]
  },
  {
   "cell_type": "code",
   "execution_count": null,
   "metadata": {},
   "outputs": [],
   "source": [
    "img = torch.from_numpy(img)"
   ]
  },
  {
   "cell_type": "code",
   "execution_count": null,
   "metadata": {},
   "outputs": [],
   "source": [
    "def crop_or_pad_slice_to_size(self, img_slice, nx, ny):\n",
    "    \"\"\"\n",
    "    To crop the input 2D slice for the given dimensions\n",
    "    input params :\n",
    "        image_slice : 2D slice to be cropped\n",
    "        nx : dimension in x\n",
    "        ny : dimension in y\n",
    "    returns:\n",
    "        slice_cropped : cropped 2D slice\n",
    "    \"\"\"\n",
    "    slice_cropped=np.zeros((nx,ny))\n",
    "    x, y = img_slice.shape\n",
    "\n",
    "    x_s = (x - nx) // 2\n",
    "    y_s = (y - ny) // 2\n",
    "    x_c = (nx - x) // 2\n",
    "    y_c = (ny - y) // 2\n",
    "\n",
    "    if x > nx and y > ny:\n",
    "        slice_cropped = img_slice[x_s:x_s + nx, y_s:y_s + ny]\n",
    "    else:\n",
    "        slice_cropped = np.zeros((nx, ny))\n",
    "        if x <= nx and y > ny:\n",
    "            slice_cropped[x_c:x_c + x, :] = img_slice[:, y_s:y_s + ny]\n",
    "        elif x > nx and y <= ny:\n",
    "            slice_cropped[:, y_c:y_c + y] = img_slice[x_s:x_s + nx, :]\n",
    "        else:\n",
    "            slice_cropped[x_c:x_c + x, y_c:y_c + y] = img_slice[:, :]\n",
    "\n",
    "    return slice_cropped"
   ]
  },
  {
   "cell_type": "code",
   "execution_count": null,
   "metadata": {},
   "outputs": [],
   "source": [
    "class Scale_Random(object):\n",
    "    def __call__(self, img, mask, region=None):\n",
    "        if random.random() < 0.5:\n",
    "            assert img.shape == mask.shape #assert img.size == mask.size\n",
    "            n_x, n_y = img.shape\n",
    "            #scale factor between 0.9 and 1.1\n",
    "            scale_fact_min=0.8\n",
    "            scale_fact_max=1.2 \n",
    "            scale_val = round(random.uniform(scale_fact_min,scale_fact_max), 2)\n",
    "            slice_rescaled, mask_rescaled = rescale(img, scale_val, order=1, preserve_range=True, mode = 'constant'), rescale(mask, scale_val, order=1, preserve_range=True, mode = 'constant')\n",
    "            #print(type(slice_rescaled))\n",
    "            img, mask = crop_or_pad_slice_to_size(self, slice_rescaled, n_x, n_y), crop_or_pad_slice_to_size(self, mask_rescaled, n_x, n_y)\n",
    "            img, mask = torch.from_numpy(img), torch.from_numpy(mask)\n",
    "        return img, mask"
   ]
  },
  {
   "cell_type": "code",
   "execution_count": null,
   "metadata": {},
   "outputs": [],
   "source": [
    "sr = Scale_Random()\n",
    "img_scaled, mask_scaled = sr(img, mask)"
   ]
  },
  {
   "cell_type": "code",
   "execution_count": null,
   "metadata": {},
   "outputs": [],
   "source": [
    "fig, ax = plt.subplots(1,2, figsize=(10,8))\n",
    "ax[0].imshow(img_scaled) #mask\n",
    "ax[1].imshow(img) #mask"
   ]
  },
  {
   "cell_type": "code",
   "execution_count": null,
   "metadata": {},
   "outputs": [],
   "source": [
    "mask"
   ]
  },
  {
   "cell_type": "code",
   "execution_count": null,
   "metadata": {},
   "outputs": [],
   "source": [
    "import torchio as tio"
   ]
  },
  {
   "cell_type": "code",
   "execution_count": null,
   "metadata": {},
   "outputs": [],
   "source": [
    "\n",
    "class RandomCropRegion(object):\n",
    "    def __init__(self, size, padding=0, region_size=(128, 128)):\n",
    "        if isinstance(size, numbers.Number):\n",
    "            self.size = (int(size), int(size))\n",
    "        else:\n",
    "            self.size = size\n",
    "        self.padding = padding\n",
    "        self.region_size = region_size\n",
    "\n",
    "    def __call__(self, img, mask, region):\n",
    "        if self.padding > 0:\n",
    "            #img = ImageOps.expand(img, border=self.padding, fill=0)\n",
    "            #mask = ImageOps.expand(mask, border=self.padding, fill=0)\n",
    "            pad_img = nn.ConstantPad2d(self.padding, img.min().item()) #padding with the smallest value in tensor (not 0!)\n",
    "            pad_mask = nn.ConstantPad2d(self.padding, mask.min().item())\n",
    "            img = pad_img(img)\n",
    "            mask = pad_mask(mask)\n",
    "        #img = F.pad(img, pad = (self.padding, self.padding, self.padding, self.padding), mode='constant', value=0)\n",
    "        assert img.shape == mask.shape\n",
    "        w, h = img.shape #img.size\n",
    "        th, tw = self.size\n",
    "        if w == tw and h == th:\n",
    "            return img, mask\n",
    "        if w < tw or h < th:\n",
    "            img_resized, mask_resized = resize(img, (tw, th), anti_aliasing=True), resize(mask, (tw, th), anti_aliasing=True)\n",
    "            img, mask = torch.from_numpy(img_resized), torch.from_numpy(mask_resized)\n",
    "            return img, mask#img.resize((tw, th), torch.nn.Upsample('Bilinear')), mask.resize((tw, th), torch.nn.Upsample('nearest'))\n",
    "\n",
    "        # Get upper left corner of the crop\n",
    "        y1 = random.randint(max(0, region[1] + self.region_size[1] // 2 - th),\n",
    "                            min(region[1] + self.region_size[1] // 2, h - th))\n",
    "        x1 = random.randint(max(0, region[0] + self.region_size[0] // 2 - tw),\n",
    "                            min(region[0] + self.region_size[0] // 2, w - tw))\n",
    "        \n",
    "        #img_cropped = crop(img, ((x1, x1+tw), (y1, y1+th)), copy=False)\n",
    "        #mask_cropped = crop(mask, ((x1, x1+tw), (y1, y1+th)), copy=False)\n",
    "        #img, mask = torch.from_numpy(img_cropped), torch.from_numpy(mask_cropped)\n",
    "        img = img[x1:x1+tw, y1:y1+th]\n",
    "        mask = mask[x1:x1+tw, y1:y1+th]\n",
    "        # print(\"in RandomCropRegion mask: \", mask)\n",
    "        # print(\"mask.min(): \", mask.min())\n",
    "        # print(\"mask.max()\", mask.max())\n",
    "        if torch.is_tensor(img):\n",
    "            return img, mask\n",
    "        else:\n",
    "            return torch.from_numpy(img), torch.from_numpy(mask)"
   ]
  },
  {
   "cell_type": "code",
   "execution_count": null,
   "metadata": {},
   "outputs": [],
   "source": [
    "from PIL import Image, ImageOps\n",
    "class RandomCropRegion_old(object):\n",
    "    def __init__(self, size, padding=0, region_size=(128, 128)):\n",
    "        if isinstance(size, numbers.Number):\n",
    "            self.size = (int(size), int(size))\n",
    "        else:\n",
    "            self.size = size\n",
    "        self.padding = padding\n",
    "        self.region_size = region_size\n",
    "\n",
    "    def __call__(self, img, mask, region):\n",
    "        if self.padding > 0:\n",
    "            img = ImageOps.expand(img, border=self.padding, fill=0)\n",
    "            mask = ImageOps.expand(mask, border=self.padding, fill=0)\n",
    "\n",
    "        assert img.size == mask.size\n",
    "        w, h = img.size\n",
    "        th, tw = self.size\n",
    "        if w == tw and h == th:\n",
    "            return img, mask\n",
    "        if w < tw or h < th:\n",
    "            return img.resize((tw, th), Image.BILINEAR), mask.resize((tw, th), Image.NEAREST)\n",
    "        # Get upper left corner of the crop\n",
    "        y1 = random.randint(max(0, region[1] + self.region_size[1] // 2 - th),\n",
    "                            min(region[1] + self.region_size[1] // 2, h - th))\n",
    "        x1 = random.randint(max(0, region[0] + self.region_size[0] // 2 - tw),\n",
    "                            min(region[0] + self.region_size[0] // 2, w - tw))\n",
    "        return img.crop((x1, y1, x1 + tw, y1 + th)), mask.crop((x1, y1, x1 + tw, y1 + th))"
   ]
  },
  {
   "cell_type": "code",
   "execution_count": null,
   "metadata": {},
   "outputs": [],
   "source": [
    "rcro = RandomCropRegion_old(size=[128,128], padding=0, region_size=[64,64])"
   ]
  },
  {
   "cell_type": "code",
   "execution_count": null,
   "metadata": {},
   "outputs": [],
   "source": [
    "img_npy = '/mnt/qb/baumgartner/cschmidt77_data/acdc/slices/train/pat_7_diag_2_frame_01_slice_5.npy'\n",
    "mask_npy = '/mnt/qb/baumgartner/cschmidt77_data/acdc/gt/train/pat_7_diag_2_frame_01_slice_5.npy'\n",
    "img_np, mask_np = np.load(img_npy), np.load(mask_npy)"
   ]
  },
  {
   "cell_type": "code",
   "execution_count": null,
   "metadata": {},
   "outputs": [],
   "source": [
    "from matplotlib import cm\n",
    "im = Image.fromarray(np.uint8(img_np)*255)\n",
    "mas = Image.fromarray(np.uint8(mask_np)*255)"
   ]
  },
  {
   "cell_type": "code",
   "execution_count": null,
   "metadata": {},
   "outputs": [],
   "source": [
    "# train_joint_transform = tio.Compose([\n",
    "#                         tio.CropOrPad((input_size[0], input_size[1], 1)),\n",
    "#                         tio.RandomFlip(axes='A'), #horizontal flip\n",
    "#                         tio.OneOf({\n",
    "#                             tio.RandomAffine(scales=(0.8,1.2), degrees=(-15, 15), default_pad_value='minimum', image_interpolation='nearest'): 0.8,\n",
    "#                             tio.RandomElasticDeformation(num_control_points=4, max_displacement=20, locked_borders=0): 0.1,\n",
    "#                             tio.RandomGamma(log_gamma=(-0.3, 0.3)): 0.1\n",
    "#                         })\n",
    "#                     ])\n",
    "input_size = [128,128]\n",
    "region_size = [64,64]\n",
    "train_joint_transform_region = RandomCropRegion(128, region_size=region_size)\n",
    "\n",
    "train_joint_transform_acdc_al = tio.Compose([\n",
    "        tio.CropOrPad((input_size[0], input_size[1], 1)),\n",
    "        tio.RandomFlip(axes='A', flip_probability=0.5), #horizontal flip\n",
    "        tio.OneOf({\n",
    "            tio.RandomAffine(scales=(0.9,1.1), degrees=(-15, 15), default_pad_value='minimum', image_interpolation='nearest'): 0.8,\n",
    "            tio.RandomElasticDeformation(num_control_points=5, max_displacement=2, locked_borders=1): 0.2,\n",
    "            tio.RandomGamma(log_gamma=(-0.3, 0.3)): 0.1\n",
    "        })\n",
    "    ])"
   ]
  },
  {
   "cell_type": "code",
   "execution_count": 4,
   "metadata": {},
   "outputs": [],
   "source": [
    "import torchio as tio\n",
    "#image = tio.datasets.Slicer().MRHead.as_sitk()"
   ]
  },
  {
   "cell_type": "code",
   "execution_count": 5,
   "metadata": {},
   "outputs": [],
   "source": [
    "red = 0"
   ]
  },
  {
   "cell_type": "code",
   "execution_count": 6,
   "metadata": {},
   "outputs": [],
   "source": [
    "\n",
    "red = tio.RandomElasticDeformation(num_control_points=4, max_displacement=0.5, locked_borders=0)\n",
    "#red = tio.RandomElasticDeformation(5)"
   ]
  },
  {
   "cell_type": "code",
   "execution_count": 7,
   "metadata": {},
   "outputs": [],
   "source": [
    "img_unsqueezed = img.unsqueeze(0).unsqueeze(3)"
   ]
  },
  {
   "cell_type": "code",
   "execution_count": 8,
   "metadata": {},
   "outputs": [],
   "source": [
    "isq = red(img_unsqueezed)"
   ]
  },
  {
   "cell_type": "code",
   "execution_count": 9,
   "metadata": {},
   "outputs": [],
   "source": [
    "img_t = torch.squeeze(isq)"
   ]
  },
  {
   "cell_type": "code",
   "execution_count": 10,
   "metadata": {},
   "outputs": [
    {
     "data": {
      "text/plain": [
       "<matplotlib.image.AxesImage at 0x7efce9500ca0>"
      ]
     },
     "execution_count": 10,
     "metadata": {},
     "output_type": "execute_result"
    },
    {
     "data": {
      "image/png": "[encoded data removed]",
      "image/svg+xml": [
       "<?xml version=\"1.0\" encoding=\"utf-8\" standalone=\"no\"?>\n",
       "<!DOCTYPE svg PUBLIC \"-//W3C//DTD SVG 1.1//EN\"\n",
       "  \"http://www.w3.org/Graphics/SVG/1.1/DTD/svg11.dtd\">\n",
       "<svg height=\"251.892656pt\" version=\"1.1\" viewBox=\"0 0 262.799687 251.892656\" width=\"262.799687pt\" xmlns=\"http://www.w3.org/2000/svg\" xmlns:xlink=\"http://www.w3.org/1999/xlink\">\n",
       " <metadata>\n",
       "  <rdf:RDF xmlns:cc=\"http://creativecommons.org/ns#\" xmlns:dc=\"http://purl.org/dc/elements/1.1/\" xmlns:rdf=\"http://www.w3.org/1999/02/22-rdf-syntax-ns#\">\n",
       "   <cc:Work>\n",
       "    <dc:type rdf:resource=\"http://purl.org/dc/dcmitype/StillImage\"/>\n",
       "    <dc:date>2021-08-26T14:23:15.255161</dc:date>\n",
       "    <dc:format>image/svg+xml</dc:format>\n",
       "    <dc:creator>\n",
       "     <cc:Agent>\n",
       "      <dc:title>Matplotlib v3.4.2, https://matplotlib.org/</dc:title>\n",
       "     </cc:Agent>\n",
       "    </dc:creator>\n",
       "   </cc:Work>\n",
       "  </rdf:RDF>\n",
       " </metadata>\n",
       " <defs>\n",
       "  <style type=\"text/css\">*{stroke-linecap:butt;stroke-linejoin:round;}</style>\n",
       " </defs>\n",
       " <g id=\"figure_1\">\n",
       "  <g id=\"patch_1\">\n",
       "   <path d=\"M 0 251.892656 \n",
       "L 262.799687 251.892656 \n",
       "L 262.799687 0 \n",
       "L 0 0 \n",
       "z\n",
       "\" style=\"fill:none;\"/>\n",
       "  </g>\n",
       "  <g id=\"axes_1\">\n",
       "   <g id=\"patch_2\">\n",
       "    <path d=\"M 33.2875 228.014531 \n",
       "L 250.7275 228.014531 \n",
       "L 250.7275 10.574531 \n",
       "L 33.2875 10.574531 \n",
       "z\n",
       "\" style=\"fill:#ffffff;\"/>\n",
       "   </g>\n",
       "   <g clip-path=\"url(#pc58bd6807c)\">\n",
       "    <image height=\"218\" id=\"imageeac31f47dd\" transform=\"scale(1 -1)translate(0 -218)\" width=\"218\" x=\"33.2875\" xlink:href=\"data:image/png;base64,\n",
       "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\" y=\"-10.014531\"/>\n",
       "   </g>\n",
       "   <g id=\"matplotlib.axis_1\">\n",
       "    <g id=\"xtick_1\">\n",
       "     <g id=\"line2d_1\">\n",
       "      <defs>\n",
       "       <path d=\"M 0 0 \n",
       "L 0 3.5 \n",
       "\" id=\"m02a984ee53\" style=\"stroke:#000000;stroke-width:0.8;\"/>\n",
       "      </defs>\n",
       "      <g>\n",
       "       <use style=\"stroke:#000000;stroke-width:0.8;\" x=\"33.712188\" xlink:href=\"#m02a984ee53\" y=\"228.014531\"/>\n",
       "      </g>\n",
       "     </g>\n",
       "     <g id=\"text_1\">\n",
       "      <!-- 0 -->\n",
       "      <g transform=\"translate(30.530938 242.612969)scale(0.1 -0.1)\">\n",
       "       <defs>\n",
       "        <path d=\"M 2034 4250 \n",
       "Q 1547 4250 1301 3770 \n",
       "Q 1056 3291 1056 2328 \n",
       "Q 1056 1369 1301 889 \n",
       "Q 1547 409 2034 409 \n",
       "Q 2525 409 2770 889 \n",
       "Q 3016 1369 3016 2328 \n",
       "Q 3016 3291 2770 3770 \n",
       "Q 2525 4250 2034 4250 \n",
       "z\n",
       "M 2034 4750 \n",
       "Q 2819 4750 3233 4129 \n",
       "Q 3647 3509 3647 2328 \n",
       "Q 3647 1150 3233 529 \n",
       "Q 2819 -91 2034 -91 \n",
       "Q 1250 -91 836 529 \n",
       "Q 422 1150 422 2328 \n",
       "Q 422 3509 836 4129 \n",
       "Q 1250 4750 2034 4750 \n",
       "z\n",
       "\" id=\"DejaVuSans-30\" transform=\"scale(0.015625)\"/>\n",
       "       </defs>\n",
       "       <use xlink:href=\"#DejaVuSans-30\"/>\n",
       "      </g>\n",
       "     </g>\n",
       "    </g>\n",
       "    <g id=\"xtick_2\">\n",
       "     <g id=\"line2d_2\">\n",
       "      <g>\n",
       "       <use style=\"stroke:#000000;stroke-width:0.8;\" x=\"76.180937\" xlink:href=\"#m02a984ee53\" y=\"228.014531\"/>\n",
       "      </g>\n",
       "     </g>\n",
       "     <g id=\"text_2\">\n",
       "      <!-- 50 -->\n",
       "      <g transform=\"translate(69.818438 242.612969)scale(0.1 -0.1)\">\n",
       "       <defs>\n",
       "        <path d=\"M 691 4666 \n",
       "L 3169 4666 \n",
       "L 3169 4134 \n",
       "L 1269 4134 \n",
       "L 1269 2991 \n",
       "Q 1406 3038 1543 3061 \n",
       "Q 1681 3084 1819 3084 \n",
       "Q 2600 3084 3056 2656 \n",
       "Q 3513 2228 3513 1497 \n",
       "Q 3513 744 3044 326 \n",
       "Q 2575 -91 1722 -91 \n",
       "Q 1428 -91 1123 -41 \n",
       "Q 819 9 494 109 \n",
       "L 494 744 \n",
       "Q 775 591 1075 516 \n",
       "Q 1375 441 1709 441 \n",
       "Q 2250 441 2565 725 \n",
       "Q 2881 1009 2881 1497 \n",
       "Q 2881 1984 2565 2268 \n",
       "Q 2250 2553 1709 2553 \n",
       "Q 1456 2553 1204 2497 \n",
       "Q 953 2441 691 2322 \n",
       "L 691 4666 \n",
       "z\n",
       "\" id=\"DejaVuSans-35\" transform=\"scale(0.015625)\"/>\n",
       "       </defs>\n",
       "       <use xlink:href=\"#DejaVuSans-35\"/>\n",
       "       <use x=\"63.623047\" xlink:href=\"#DejaVuSans-30\"/>\n",
       "      </g>\n",
       "     </g>\n",
       "    </g>\n",
       "    <g id=\"xtick_3\">\n",
       "     <g id=\"line2d_3\">\n",
       "      <g>\n",
       "       <use style=\"stroke:#000000;stroke-width:0.8;\" x=\"118.649687\" xlink:href=\"#m02a984ee53\" y=\"228.014531\"/>\n",
       "      </g>\n",
       "     </g>\n",
       "     <g id=\"text_3\">\n",
       "      <!-- 100 -->\n",
       "      <g transform=\"translate(109.105937 242.612969)scale(0.1 -0.1)\">\n",
       "       <defs>\n",
       "        <path d=\"M 794 531 \n",
       "L 1825 531 \n",
       "L 1825 4091 \n",
       "L 703 3866 \n",
       "L 703 4441 \n",
       "L 1819 4666 \n",
       "L 2450 4666 \n",
       "L 2450 531 \n",
       "L 3481 531 \n",
       "L 3481 0 \n",
       "L 794 0 \n",
       "L 794 531 \n",
       "z\n",
       "\" id=\"DejaVuSans-31\" transform=\"scale(0.015625)\"/>\n",
       "       </defs>\n",
       "       <use xlink:href=\"#DejaVuSans-31\"/>\n",
       "       <use x=\"63.623047\" xlink:href=\"#DejaVuSans-30\"/>\n",
       "       <use x=\"127.246094\" xlink:href=\"#DejaVuSans-30\"/>\n",
       "      </g>\n",
       "     </g>\n",
       "    </g>\n",
       "    <g id=\"xtick_4\">\n",
       "     <g id=\"line2d_4\">\n",
       "      <g>\n",
       "       <use style=\"stroke:#000000;stroke-width:0.8;\" x=\"161.118437\" xlink:href=\"#m02a984ee53\" y=\"228.014531\"/>\n",
       "      </g>\n",
       "     </g>\n",
       "     <g id=\"text_4\">\n",
       "      <!-- 150 -->\n",
       "      <g transform=\"translate(151.574688 242.612969)scale(0.1 -0.1)\">\n",
       "       <use xlink:href=\"#DejaVuSans-31\"/>\n",
       "       <use x=\"63.623047\" xlink:href=\"#DejaVuSans-35\"/>\n",
       "       <use x=\"127.246094\" xlink:href=\"#DejaVuSans-30\"/>\n",
       "      </g>\n",
       "     </g>\n",
       "    </g>\n",
       "    <g id=\"xtick_5\">\n",
       "     <g id=\"line2d_5\">\n",
       "      <g>\n",
       "       <use style=\"stroke:#000000;stroke-width:0.8;\" x=\"203.587187\" xlink:href=\"#m02a984ee53\" y=\"228.014531\"/>\n",
       "      </g>\n",
       "     </g>\n",
       "     <g id=\"text_5\">\n",
       "      <!-- 200 -->\n",
       "      <g transform=\"translate(194.043438 242.612969)scale(0.1 -0.1)\">\n",
       "       <defs>\n",
       "        <path d=\"M 1228 531 \n",
       "L 3431 531 \n",
       "L 3431 0 \n",
       "L 469 0 \n",
       "L 469 531 \n",
       "Q 828 903 1448 1529 \n",
       "Q 2069 2156 2228 2338 \n",
       "Q 2531 2678 2651 2914 \n",
       "Q 2772 3150 2772 3378 \n",
       "Q 2772 3750 2511 3984 \n",
       "Q 2250 4219 1831 4219 \n",
       "Q 1534 4219 1204 4116 \n",
       "Q 875 4013 500 3803 \n",
       "L 500 4441 \n",
       "Q 881 4594 1212 4672 \n",
       "Q 1544 4750 1819 4750 \n",
       "Q 2544 4750 2975 4387 \n",
       "Q 3406 4025 3406 3419 \n",
       "Q 3406 3131 3298 2873 \n",
       "Q 3191 2616 2906 2266 \n",
       "Q 2828 2175 2409 1742 \n",
       "Q 1991 1309 1228 531 \n",
       "z\n",
       "\" id=\"DejaVuSans-32\" transform=\"scale(0.015625)\"/>\n",
       "       </defs>\n",
       "       <use xlink:href=\"#DejaVuSans-32\"/>\n",
       "       <use x=\"63.623047\" xlink:href=\"#DejaVuSans-30\"/>\n",
       "       <use x=\"127.246094\" xlink:href=\"#DejaVuSans-30\"/>\n",
       "      </g>\n",
       "     </g>\n",
       "    </g>\n",
       "    <g id=\"xtick_6\">\n",
       "     <g id=\"line2d_6\">\n",
       "      <g>\n",
       "       <use style=\"stroke:#000000;stroke-width:0.8;\" x=\"246.055937\" xlink:href=\"#m02a984ee53\" y=\"228.014531\"/>\n",
       "      </g>\n",
       "     </g>\n",
       "     <g id=\"text_6\">\n",
       "      <!-- 250 -->\n",
       "      <g transform=\"translate(236.512188 242.612969)scale(0.1 -0.1)\">\n",
       "       <use xlink:href=\"#DejaVuSans-32\"/>\n",
       "       <use x=\"63.623047\" xlink:href=\"#DejaVuSans-35\"/>\n",
       "       <use x=\"127.246094\" xlink:href=\"#DejaVuSans-30\"/>\n",
       "      </g>\n",
       "     </g>\n",
       "    </g>\n",
       "   </g>\n",
       "   <g id=\"matplotlib.axis_2\">\n",
       "    <g id=\"ytick_1\">\n",
       "     <g id=\"line2d_7\">\n",
       "      <defs>\n",
       "       <path d=\"M 0 0 \n",
       "L -3.5 0 \n",
       "\" id=\"mb85c2ca023\" style=\"stroke:#000000;stroke-width:0.8;\"/>\n",
       "      </defs>\n",
       "      <g>\n",
       "       <use style=\"stroke:#000000;stroke-width:0.8;\" x=\"33.2875\" xlink:href=\"#mb85c2ca023\" y=\"10.999219\"/>\n",
       "      </g>\n",
       "     </g>\n",
       "     <g id=\"text_7\">\n",
       "      <!-- 0 -->\n",
       "      <g transform=\"translate(19.925 14.798438)scale(0.1 -0.1)\">\n",
       "       <use xlink:href=\"#DejaVuSans-30\"/>\n",
       "      </g>\n",
       "     </g>\n",
       "    </g>\n",
       "    <g id=\"ytick_2\">\n",
       "     <g id=\"line2d_8\">\n",
       "      <g>\n",
       "       <use style=\"stroke:#000000;stroke-width:0.8;\" x=\"33.2875\" xlink:href=\"#mb85c2ca023\" y=\"53.467969\"/>\n",
       "      </g>\n",
       "     </g>\n",
       "     <g id=\"text_8\">\n",
       "      <!-- 50 -->\n",
       "      <g transform=\"translate(13.5625 57.267188)scale(0.1 -0.1)\">\n",
       "       <use xlink:href=\"#DejaVuSans-35\"/>\n",
       "       <use x=\"63.623047\" xlink:href=\"#DejaVuSans-30\"/>\n",
       "      </g>\n",
       "     </g>\n",
       "    </g>\n",
       "    <g id=\"ytick_3\">\n",
       "     <g id=\"line2d_9\">\n",
       "      <g>\n",
       "       <use style=\"stroke:#000000;stroke-width:0.8;\" x=\"33.2875\" xlink:href=\"#mb85c2ca023\" y=\"95.936719\"/>\n",
       "      </g>\n",
       "     </g>\n",
       "     <g id=\"text_9\">\n",
       "      <!-- 100 -->\n",
       "      <g transform=\"translate(7.2 99.735938)scale(0.1 -0.1)\">\n",
       "       <use xlink:href=\"#DejaVuSans-31\"/>\n",
       "       <use x=\"63.623047\" xlink:href=\"#DejaVuSans-30\"/>\n",
       "       <use x=\"127.246094\" xlink:href=\"#DejaVuSans-30\"/>\n",
       "      </g>\n",
       "     </g>\n",
       "    </g>\n",
       "    <g id=\"ytick_4\">\n",
       "     <g id=\"line2d_10\">\n",
       "      <g>\n",
       "       <use style=\"stroke:#000000;stroke-width:0.8;\" x=\"33.2875\" xlink:href=\"#mb85c2ca023\" y=\"138.405469\"/>\n",
       "      </g>\n",
       "     </g>\n",
       "     <g id=\"text_10\">\n",
       "      <!-- 150 -->\n",
       "      <g transform=\"translate(7.2 142.204688)scale(0.1 -0.1)\">\n",
       "       <use xlink:href=\"#DejaVuSans-31\"/>\n",
       "       <use x=\"63.623047\" xlink:href=\"#DejaVuSans-35\"/>\n",
       "       <use x=\"127.246094\" xlink:href=\"#DejaVuSans-30\"/>\n",
       "      </g>\n",
       "     </g>\n",
       "    </g>\n",
       "    <g id=\"ytick_5\">\n",
       "     <g id=\"line2d_11\">\n",
       "      <g>\n",
       "       <use style=\"stroke:#000000;stroke-width:0.8;\" x=\"33.2875\" xlink:href=\"#mb85c2ca023\" y=\"180.874219\"/>\n",
       "      </g>\n",
       "     </g>\n",
       "     <g id=\"text_11\">\n",
       "      <!-- 200 -->\n",
       "      <g transform=\"translate(7.2 184.673438)scale(0.1 -0.1)\">\n",
       "       <use xlink:href=\"#DejaVuSans-32\"/>\n",
       "       <use x=\"63.623047\" xlink:href=\"#DejaVuSans-30\"/>\n",
       "       <use x=\"127.246094\" xlink:href=\"#DejaVuSans-30\"/>\n",
       "      </g>\n",
       "     </g>\n",
       "    </g>\n",
       "    <g id=\"ytick_6\">\n",
       "     <g id=\"line2d_12\">\n",
       "      <g>\n",
       "       <use style=\"stroke:#000000;stroke-width:0.8;\" x=\"33.2875\" xlink:href=\"#mb85c2ca023\" y=\"223.342969\"/>\n",
       "      </g>\n",
       "     </g>\n",
       "     <g id=\"text_12\">\n",
       "      <!-- 250 -->\n",
       "      <g transform=\"translate(7.2 227.142188)scale(0.1 -0.1)\">\n",
       "       <use xlink:href=\"#DejaVuSans-32\"/>\n",
       "       <use x=\"63.623047\" xlink:href=\"#DejaVuSans-35\"/>\n",
       "       <use x=\"127.246094\" xlink:href=\"#DejaVuSans-30\"/>\n",
       "      </g>\n",
       "     </g>\n",
       "    </g>\n",
       "   </g>\n",
       "   <g id=\"patch_3\">\n",
       "    <path d=\"M 33.2875 228.014531 \n",
       "L 33.2875 10.574531 \n",
       "\" style=\"fill:none;stroke:#000000;stroke-linecap:square;stroke-linejoin:miter;stroke-width:0.8;\"/>\n",
       "   </g>\n",
       "   <g id=\"patch_4\">\n",
       "    <path d=\"M 250.7275 228.014531 \n",
       "L 250.7275 10.574531 \n",
       "\" style=\"fill:none;stroke:#000000;stroke-linecap:square;stroke-linejoin:miter;stroke-width:0.8;\"/>\n",
       "   </g>\n",
       "   <g id=\"patch_5\">\n",
       "    <path d=\"M 33.2875 228.014531 \n",
       "L 250.7275 228.014531 \n",
       "\" style=\"fill:none;stroke:#000000;stroke-linecap:square;stroke-linejoin:miter;stroke-width:0.8;\"/>\n",
       "   </g>\n",
       "   <g id=\"patch_6\">\n",
       "    <path d=\"M 33.2875 10.574531 \n",
       "L 250.7275 10.574531 \n",
       "\" style=\"fill:none;stroke:#000000;stroke-linecap:square;stroke-linejoin:miter;stroke-width:0.8;\"/>\n",
       "   </g>\n",
       "  </g>\n",
       " </g>\n",
       " <defs>\n",
       "  <clipPath id=\"pc58bd6807c\">\n",
       "   <rect height=\"217.44\" width=\"217.44\" x=\"33.2875\" y=\"10.574531\"/>\n",
       "  </clipPath>\n",
       " </defs>\n",
       "</svg>\n"
      ],
      "text/plain": [
       "<Figure size 432x288 with 1 Axes>"
      ]
     },
     "metadata": {
      "needs_background": "light"
     },
     "output_type": "display_data"
    }
   ],
   "source": [
    "plt.imshow(img_t)"
   ]
  },
  {
   "cell_type": "code",
   "execution_count": 11,
   "metadata": {},
   "outputs": [
    {
     "data": {
      "text/plain": [
       "tensor([[-1.1271, -1.1271, -1.1271,  ..., -0.5857, -0.7007, -0.8079],\n",
       "        [-1.1271, -1.1271, -1.1271,  ..., -0.7036, -0.7241, -0.7185],\n",
       "        [-1.1271, -1.1271, -1.1271,  ..., -0.5567, -0.5457, -0.5446],\n",
       "        ...,\n",
       "        [-0.7354, -0.7498, -0.7388,  ..., -0.8570, -0.8511, -0.8388],\n",
       "        [-0.7621, -0.7528, -0.7517,  ..., -0.8545, -0.8441, -0.8354],\n",
       "        [-0.7622, -0.7610, -0.7693,  ..., -0.8603, -0.8518, -0.8484]])"
      ]
     },
     "execution_count": 11,
     "metadata": {},
     "output_type": "execute_result"
    }
   ],
   "source": [
    "img_t"
   ]
  },
  {
   "cell_type": "code",
   "execution_count": 12,
   "metadata": {},
   "outputs": [
    {
     "data": {
      "text/plain": [
       "tensor([[-1.1271, -1.1271, -1.1271,  ..., -0.5773, -0.6988, -0.8139],\n",
       "        [-1.1271, -1.1271, -1.1271,  ..., -0.7133, -0.7362, -0.7304],\n",
       "        [-1.1271, -1.1271, -1.1271,  ..., -0.5635, -0.5470, -0.5409],\n",
       "        ...,\n",
       "        [-0.7338, -0.7522, -0.7358,  ..., -0.8580, -0.8522, -0.8393],\n",
       "        [-0.7621, -0.7508, -0.7507,  ..., -0.8546, -0.8440, -0.8352],\n",
       "        [-0.7622, -0.7608, -0.7706,  ..., -0.8609, -0.8524, -0.8492]])"
      ]
     },
     "execution_count": 12,
     "metadata": {},
     "output_type": "execute_result"
    }
   ],
   "source": [
    "img"
   ]
  },
  {
   "cell_type": "code",
   "execution_count": null,
   "metadata": {},
   "outputs": [],
   "source": [
    "plt.imshow(img)"
   ]
  },
  {
   "cell_type": "code",
   "execution_count": null,
   "metadata": {},
   "outputs": [],
   "source": [
    "img_npy = '/mnt/qb/baumgartner/cschmidt77_data/acdc/slices/train/pat_7_diag_2_frame_01_slice_5.npy'\n",
    "mask_npy = '/mnt/qb/baumgartner/cschmidt77_data/acdc/gt/train/pat_7_diag_2_frame_01_slice_5.npy'\n",
    "img_np, mask_np = np.load(img_npy), np.load(mask_npy)\n",
    "img, mask = torch.from_numpy(img_np), torch.from_numpy(mask_np)\n",
    "#img, mask = train_joint_transform_region(img, mask, (64,128))\n",
    "#img, mask = train_joint_transform_acdc_al(img, mask)\n",
    "img_unsqueezed = img.unsqueeze(0).unsqueeze(3) #adds two additional dims (required from torch io) \n",
    "mask_unsqueezed = mask.unsqueeze(0).unsqueeze(3)\n",
    "subject = tio.Subject(\n",
    "    img=tio.ScalarImage(tensor=img_unsqueezed), \n",
    "    mask=tio.LabelMap(tensor=mask_unsqueezed)\n",
    ")\n",
    "# performs other transforms\n",
    "transformed = train_joint_transform_acdc_al(subject)\n",
    "img_transf = transformed.img.numpy()\n",
    "mask_transf = transformed.mask.numpy()\n",
    "img_t = torch.from_numpy(img_transf)\n",
    "mask_t = torch.from_numpy(mask_transf)\n",
    "img = torch.squeeze(img_t) #removes dimensions of size 1\n",
    "mask = torch.squeeze(mask_t.long()) "
   ]
  },
  {
   "cell_type": "code",
   "execution_count": null,
   "metadata": {},
   "outputs": [],
   "source": [
    "plt.imshow(img)"
   ]
  },
  {
   "cell_type": "code",
   "execution_count": null,
   "metadata": {},
   "outputs": [],
   "source": [
    "plt.imshow(mask)"
   ]
  },
  {
   "cell_type": "code",
   "execution_count": null,
   "metadata": {},
   "outputs": [],
   "source": []
  },
  {
   "cell_type": "code",
   "execution_count": null,
   "metadata": {},
   "outputs": [],
   "source": []
  }
 ],
 "metadata": {
  "interpreter": {
   "hash": "916dbcbb3f70747c44a77c7bcd40155683ae19c65e1c03b4aa3499c5328201f1"
  },
  "kernelspec": {
   "display_name": "Python 3",
   "language": "python",
   "name": "python3"
  },
  "language_info": {
   "codemirror_mode": {
    "name": "ipython",
    "version": 3
   },
   "file_extension": ".py",
   "mimetype": "text/x-python",
   "name": "python",
   "nbconvert_exporter": "python",
   "pygments_lexer": "ipython3",
   "version": "3.8.10"
  },
  "metadata": {
   "interpreter": {
    "hash": "31f2aee4e71d21fbe5cf8b01ff0e069b9275f58929596ceb00d14d90e3e16cd6"
   }
  }
 },
 "nbformat": 4,
 "nbformat_minor": 2
}
