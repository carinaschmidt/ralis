{
 "cells": [
  {
   "cell_type": "code",
   "execution_count": 6,
   "id": "872e669a",
   "metadata": {},
   "outputs": [],
   "source": [
    "import os\n",
    "import nibabel as nib\n",
    "import numpy as np\n",
    "import matplotlib.pyplot as plt\n",
    "from random import sample\n",
    "import utils"
   ]
  },
  {
   "cell_type": "code",
   "execution_count": 195,
   "id": "006c615b",
   "metadata": {},
   "outputs": [],
   "source": [
    "if __name__ == '__main__':\n",
    "    data_dir = '/mnt/qb/baumgartner/cschmidt77_data/acdc_challenge/train'\n",
    "    preproc_dir = '/home/baumgartner/cschmidt77/devel/ralis/acdc/preproc_data/'\n",
    "    dS_ratio = 0.03\n",
    "    dT_ratio = 0.09\n",
    "    dR_ratio = 0.11\n",
    "    dV_ratio = 0.77\n",
    "    dS, dT, dR, dV = create_splits('/mnt/qb/baumgartner/cschmidt77_data/acdc_challenge/train', dS_ratio, dT_ratio, dR_ratio)\n",
    "    data_splits = create_splits_array(dS, dT, dR, dV)\n",
    "    npy_file = create_ref_data_splits_file(data_dir, preproc_dir, data_splits, '2D', (256, 256), (1.36719, 1.36719),force_overwrite=True)"
   ]
  },
  {
   "cell_type": "code",
   "execution_count": 161,
   "id": "f8f57f0e",
   "metadata": {},
   "outputs": [],
   "source": [
    "def create_splits(data_dir, dS_ratio, dT_ratio, dR_ratio):  \n",
    "    '''divides patients in four data splits with given ratio'''\n",
    "    '''returns four splits with patient ids'''\n",
    "    #create numpy array with patients\n",
    "    patients = np.asarray([int(folder[-3:]) for folder in os.listdir(data_dir)])\n",
    "    # random shuffle patients data set and create splits\n",
    "    np.random.shuffle(patients)\n",
    "    # define indices for np.split function\n",
    "    dS_ind = int(dS_ratio*len(patients))\n",
    "    dT_ind = dS_ind+int(dT_ratio*len(patients))\n",
    "    dR_ind = dT_ind+int(dR_ratio*len(patients))\n",
    "    #splits the random set in four splits, where dV is the rest\n",
    "    dS, dT, dR, dV = np.split(patients, [dS_ind, dT_ind, dR_ind])\n",
    "    return dS, dT, dR, dV"
   ]
  },
  {
   "cell_type": "code",
   "execution_count": 192,
   "id": "e9444cec",
   "metadata": {},
   "outputs": [],
   "source": [
    "def create_splits_array(dS, dT, dR, dV):\n",
    "    keys = ['d_S', 'd_T', 'd_R', 'd_V']\n",
    "    values = [dS, dT, dR, dV]\n",
    "    data_splits = np.array(dict(zip(keys, values)))\n",
    "    return data_splits"
   ]
  },
  {
   "cell_type": "code",
   "execution_count": 194,
   "id": "1468d699",
   "metadata": {},
   "outputs": [],
   "source": [
    "def create_ref_data_splits_file(data_dir,\n",
    "              preproc_dir, data_splits,\n",
    "              mode,\n",
    "              size,\n",
    "              target_resolution,\n",
    "              force_overwrite):\n",
    "    '''Creates a file, where data splits will be defined '''\n",
    "    # create folder for processed data with config naming\n",
    "    size_str = '_'.join([str(s) for s in size])\n",
    "    res_str = '_'.join([str(res) for res in target_resolution])\n",
    "\n",
    "    data_file_name = 'data_%s_size_%s_res_%s_al_splits.npy' % (mode, size_str, res_str)\n",
    "    data_file_path = os.path.join(preproc_dir, data_file_name)\n",
    "    #print(data_file_path)\n",
    "    \n",
    "    # create new npy file to save data\n",
    "    npy_file = np.save(data_file_name, data_splits)  \n",
    "    return npy_file"
   ]
  },
  {
   "cell_type": "code",
   "execution_count": 103,
   "id": "b8744c1a",
   "metadata": {},
   "outputs": [],
   "source": [
    "            "
   ]
  },
  {
   "cell_type": "code",
   "execution_count": 5,
   "id": "0048819b",
   "metadata": {},
   "outputs": [
    {
     "name": "stdout",
     "output_type": "stream",
     "text": [
      "['patient001', 'patient002', 'patient003', 'patient004', 'patient005', 'patient006', 'patient007', 'patient008', 'patient009', 'patient010', 'patient011', 'patient012', 'patient013', 'patient014', 'patient015', 'patient016', 'patient017', 'patient018', 'patient019', 'patient020', 'patient021', 'patient022', 'patient023', 'patient024', 'patient025', 'patient026', 'patient027', 'patient028', 'patient029', 'patient030', 'patient031', 'patient032', 'patient033', 'patient034', 'patient035', 'patient036', 'patient037', 'patient038', 'patient039', 'patient040', 'patient041', 'patient042', 'patient043', 'patient044', 'patient045', 'patient046', 'patient047', 'patient048', 'patient049', 'patient050', 'patient051', 'patient052', 'patient053', 'patient054', 'patient055', 'patient056', 'patient057', 'patient058', 'patient059', 'patient060', 'patient061', 'patient062', 'patient063', 'patient064', 'patient065', 'patient066', 'patient067', 'patient068', 'patient069', 'patient070', 'patient071', 'patient072', 'patient073', 'patient074', 'patient075', 'patient076', 'patient077', 'patient078', 'patient079', 'patient080', 'patient081', 'patient082', 'patient083', 'patient084', 'patient085', 'patient086', 'patient087', 'patient088', 'patient089', 'patient090', 'patient091', 'patient092', 'patient093', 'patient094', 'patient095', 'patient096', 'patient097', 'patient098', 'patient099', 'patient100']\n"
     ]
    }
   ],
   "source": [
    "print(os.listdir(data_dir))"
   ]
  },
  {
   "cell_type": "code",
   "execution_count": 83,
   "id": "c124fce2",
   "metadata": {},
   "outputs": [],
   "source": [
    "###################################deprecated\n",
    "def create_splits_slowly(data_dir, dS_ratio, dT_ratio, dR_ratio, dV_ratio):\n",
    "    '''create data splits depending on ratios'''\n",
    "    patients = []\n",
    "    #iterate over all folders in data directory (patient001, patient002,..., patient100)\n",
    "    for pat_folder in os.listdir(data_dir):\n",
    "        #patient folder path\n",
    "        folder_path = os.path.join(data_dir, pat_folder)        \n",
    "        if os.path.isdir(folder_path):\n",
    "            #add patient names to list\n",
    "            patients.append(pat_folder)\n",
    "    \n",
    "    num_patients = len(patients)\n",
    "    num_dS = int(dS_ratio*num_patients)\n",
    "    num_dT = int(dT_ratio*num_patients)\n",
    "    num_dR = int(dR_ratio*num_patients)\n",
    "    num_dV = num_patients - (num_dS+num_dT+num_dR)\n",
    "\n",
    "    #sample without replacement from patients and delete the already sampled     \n",
    "    dS = np.random.choice(patients, num_dS, replace=False)\n",
    "    for elem in dS:\n",
    "        patients.remove(elem)\n",
    "    \n",
    "    dT = np.random.choice(patients, num_dT, replace=False)\n",
    "    for elem in dT:\n",
    "        patients.remove(elem)\n",
    "  \n",
    "    dR = np.random.choice(patients, num_dR, replace=False)\n",
    "    for elem in dR:\n",
    "        patients.remove(elem)\n",
    "  \n",
    "    dV = np.random.choice(patients, num_dV, replace=False)\n",
    "    return dS, dT, dR, dV"
   ]
  },
  {
   "cell_type": "code",
   "execution_count": 85,
   "id": "28e3992e",
   "metadata": {},
   "outputs": [],
   "source": [
    "\n",
    "dS, dT, dR, dV = create_splits_slowly('/mnt/qb/baumgartner/cschmidt77_data/acdc_challenge/train', dS_ratio, dT_ratio, dR_ratio, dV_ratio)"
   ]
  },
  {
   "cell_type": "code",
   "execution_count": 157,
   "id": "97de2740",
   "metadata": {},
   "outputs": [],
   "source": [
    "'''\n",
    "Idea for how to prepare data:\n",
    "- Iterate over patient folder and store image 4D arrays (.nii.gz files) together with Info.cfg to one patient\n",
    "- corresponding Info.cfg for each image file?\n",
    "- all images belonging to one patient also in one data split? \n",
    "'''"
   ]
  },
  {
   "cell_type": "code",
   "execution_count": 158,
   "id": "2e6ebcf6",
   "metadata": {},
   "outputs": [],
   "source": [
    "dS, dT, dR, dV = create_splits('/mnt/qb/baumgartner/cschmidt77_data/acdc_challenge/train', dS_ratio, dT_ratio, dR_ratio)"
   ]
  },
  {
   "cell_type": "code",
   "execution_count": 196,
   "id": "c8a89048",
   "metadata": {},
   "outputs": [],
   "source": [
    "#print(subdir): '/mnt/qb/baumgartner/cschmidt77_data/acdc_challenge/train'\n",
    "#print(dirs): 'patient001', 'patient002',...\n",
    "#print(files):  Info.cfg, patient001_4d.nii.gz, patient001_frame01.nii.gz\n",
    "#patient001_frame01_gt.nii.gz, patient001_frame12.nii.gz, patient001_frame12_gt.nii.gz\n",
    "# Attention! 2 times 'Info.cfg'\n",
    "def prepare_data(data_dir):\n",
    "    #dictionary with infos from info file for each patient\n",
    "    info = {}\n",
    "    # contains all info dictionaries\n",
    "    infos_list = []\n",
    "    \n",
    "    diag_list = []\n",
    "    for subdir, dirs, files in os.walk(data_dir): \n",
    "        for file in files:\n",
    "            #print(os.path.join(subdir, file))  \n",
    "            #iterate over info files and save infos in dictionary\n",
    "            if 'Info.cfg' in file:\n",
    "                for line in open(os.path.join(subdir, 'Info.cfg')):\n",
    "                    label, value = line.split(':')\n",
    "                    # to avoid storing empty labels\n",
    "                    if label:\n",
    "                        info[label] = value.rstrip('\\n').lstrip(' ')\n",
    "                infos_list.append(info)\n",
    "                \n",
    "                \n",
    "                info = {}\n",
    "            else:\n",
    "                patient_id = dirs.lstrip('patient')\n",
    "                print(patient_id)        \n",
    "                \n",
    "    return infos_list"
   ]
  },
  {
   "cell_type": "code",
   "execution_count": 197,
   "id": "26466a6c",
   "metadata": {},
   "outputs": [
    {
     "ename": "AttributeError",
     "evalue": "'list' object has no attribute 'lstrip'",
     "output_type": "error",
     "traceback": [
      "\u001b[0;31m---------------------------------------------------------------------------\u001b[0m",
      "\u001b[0;31mAttributeError\u001b[0m                            Traceback (most recent call last)",
      "\u001b[0;32m<ipython-input-197-4344b2072b13>\u001b[0m in \u001b[0;36m<module>\u001b[0;34m\u001b[0m\n\u001b[0;32m----> 1\u001b[0;31m \u001b[0mprepare_data\u001b[0m\u001b[0;34m(\u001b[0m\u001b[0mdata_dir\u001b[0m\u001b[0;34m)\u001b[0m\u001b[0;34m\u001b[0m\u001b[0;34m\u001b[0m\u001b[0m\n\u001b[0m",
      "\u001b[0;32m<ipython-input-196-13cedebd77cc>\u001b[0m in \u001b[0;36mprepare_data\u001b[0;34m(data_dir)\u001b[0m\n\u001b[1;32m     26\u001b[0m                 \u001b[0minfo\u001b[0m \u001b[0;34m=\u001b[0m \u001b[0;34m{\u001b[0m\u001b[0;34m}\u001b[0m\u001b[0;34m\u001b[0m\u001b[0;34m\u001b[0m\u001b[0m\n\u001b[1;32m     27\u001b[0m             \u001b[0;32melse\u001b[0m\u001b[0;34m:\u001b[0m\u001b[0;34m\u001b[0m\u001b[0;34m\u001b[0m\u001b[0m\n\u001b[0;32m---> 28\u001b[0;31m                 \u001b[0mpatient_id\u001b[0m \u001b[0;34m=\u001b[0m \u001b[0mdirs\u001b[0m\u001b[0;34m.\u001b[0m\u001b[0mlstrip\u001b[0m\u001b[0;34m(\u001b[0m\u001b[0;34m'patient'\u001b[0m\u001b[0;34m)\u001b[0m\u001b[0;34m\u001b[0m\u001b[0;34m\u001b[0m\u001b[0m\n\u001b[0m\u001b[1;32m     29\u001b[0m                 \u001b[0mprint\u001b[0m\u001b[0;34m(\u001b[0m\u001b[0mpatient_id\u001b[0m\u001b[0;34m)\u001b[0m\u001b[0;34m\u001b[0m\u001b[0;34m\u001b[0m\u001b[0m\n\u001b[1;32m     30\u001b[0m \u001b[0;34m\u001b[0m\u001b[0m\n",
      "\u001b[0;31mAttributeError\u001b[0m: 'list' object has no attribute 'lstrip'"
     ]
    }
   ],
   "source": [
    "prepare_data(data_dir)"
   ]
  },
  {
   "cell_type": "code",
   "execution_count": null,
   "id": "48dc7ec4",
   "metadata": {},
   "outputs": [],
   "source": []
  }
 ],
 "metadata": {
  "kernelspec": {
   "display_name": "Python 3",
   "language": "python",
   "name": "python3"
  },
  "language_info": {
   "codemirror_mode": {
    "name": "ipython",
    "version": 3
   },
   "file_extension": ".py",
   "mimetype": "text/x-python",
   "name": "python",
   "nbconvert_exporter": "python",
   "pygments_lexer": "ipython3",
   "version": "3.8.5"
  }
 },
 "nbformat": 4,
 "nbformat_minor": 5
}
